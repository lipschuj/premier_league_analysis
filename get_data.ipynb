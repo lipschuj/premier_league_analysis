{
 "cells": [
  {
   "cell_type": "markdown",
   "metadata": {},
   "source": [
    "# Import libraries & UDFs\n",
    "## Import essentials"
   ]
  },
  {
   "cell_type": "code",
   "execution_count": 50,
   "metadata": {
    "ExecuteTime": {
     "end_time": "2021-07-16T16:26:50.979883Z",
     "start_time": "2021-07-16T16:26:50.976059Z"
    }
   },
   "outputs": [],
   "source": [
    "from splinter import Browser\n",
    "from bs4 import BeautifulSoup as bs\n",
    "\n",
    "import caffeine\n",
    "import time\n",
    "from tqdm import tqdm\n",
    "\n",
    "import pandas as pd\n",
    "\n",
    "import requests\n",
    "from bs4 import BeautifulSoup\n",
    "import json\n",
    "from flatten_json import flatten"
   ]
  },
  {
   "cell_type": "markdown",
   "metadata": {},
   "source": [
    "## User defined functions\n",
    "\n",
    "### Generate tag string"
   ]
  },
  {
   "cell_type": "code",
   "execution_count": 51,
   "metadata": {
    "ExecuteTime": {
     "end_time": "2021-07-16T16:26:51.508132Z",
     "start_time": "2021-07-16T16:26:51.497355Z"
    }
   },
   "outputs": [],
   "source": [
    "def tag_string(tag, html_element):\n",
    "    typ = html_element.split(\"=\")[0]\n",
    "    name = html_element.split(\"=\")[1]\n",
    "    return tag + f\"[{typ}=\" + \"\\\"\" + name + \"\\\"]\""
   ]
  },
  {
   "cell_type": "markdown",
   "metadata": {},
   "source": [
    "### Display always on\n",
    "\n",
    "For when some cell take too long to run"
   ]
  },
  {
   "cell_type": "code",
   "execution_count": 52,
   "metadata": {
    "ExecuteTime": {
     "end_time": "2021-07-16T16:26:55.443753Z",
     "start_time": "2021-07-16T16:26:55.439878Z"
    }
   },
   "outputs": [],
   "source": [
    "def on(): \n",
    "    caffeine.on(display=True)"
   ]
  },
  {
   "cell_type": "markdown",
   "metadata": {},
   "source": [
    "### Launch driver"
   ]
  },
  {
   "cell_type": "code",
   "execution_count": 27,
   "metadata": {
    "ExecuteTime": {
     "end_time": "2021-07-15T22:56:19.158028Z",
     "start_time": "2021-07-15T22:56:19.153949Z"
    }
   },
   "outputs": [],
   "source": [
    "def launch_driver():\n",
    "    global browser\n",
    "    \n",
    "    path = {\"executable_path\": \"/Users/marclamy/Desktop/code/chromedriver6\"}\n",
    "\n",
    "    # Starting driver. Headless displays the browser. \n",
    "    browser = Browser(\"chrome\", **path, headless=False) \n",
    "    \n",
    "    # Let's go the the results page\n",
    "    browser.visit(\"https://www.premierleague.com/results?co=1&se=1&cl=-1\")\n",
    "\n",
    "#     # Thanks for the cookies I take them all 🍪\n",
    "#     browser.find_by_tag(tag_string(\"div\", \"class=btn-primary cookies-notice-accept\")).click()\n",
    "\n",
    "#     # There is an ad that is only temporary \n",
    "#     browser.find_by_tag(tag_string(\"a\", \"id=advertClose\")).click()"
   ]
  },
  {
   "cell_type": "markdown",
   "metadata": {},
   "source": [
    "# Get data\n",
    "\n",
    "To get each match, I will scrape the Premier League's website which is made as follow for each game.\n",
    "\n",
    "*premierleague.com / match /* ***{id of the game}***\n",
    "\n",
    "First, I need the id of each game so I can loop from the list after. \n",
    "\n",
    "\n",
    "## Get season_id \n",
    "\n",
    "To scrape the ids of each game, I'll first need [chrome webdriver](https://chromedriver.chromium.org/downloads).\n",
    "\n",
    "### Start the driver"
   ]
  },
  {
   "cell_type": "code",
   "execution_count": 20,
   "metadata": {
    "ExecuteTime": {
     "end_time": "2021-07-15T21:48:44.516602Z",
     "start_time": "2021-07-15T21:48:38.301157Z"
    }
   },
   "outputs": [],
   "source": [
    "launch_driver()"
   ]
  },
  {
   "cell_type": "markdown",
   "metadata": {},
   "source": [
    "### Accept the cookies and close the ad "
   ]
  },
  {
   "cell_type": "code",
   "execution_count": null,
   "metadata": {
    "ExecuteTime": {
     "end_time": "2021-06-23T14:50:04.575544Z",
     "start_time": "2021-06-23T14:50:00.988597Z"
    }
   },
   "outputs": [],
   "source": []
  },
  {
   "cell_type": "markdown",
   "metadata": {},
   "source": [
    "### Get each season id \n",
    "\n",
    "I choose from 95 as until then there were 22 teams (82 more games per year) and some seasons were incomplete, not all match were listed. "
   ]
  },
  {
   "cell_type": "code",
   "execution_count": 28,
   "metadata": {
    "ExecuteTime": {
     "end_time": "2021-07-15T22:56:29.031782Z",
     "start_time": "2021-07-15T22:56:29.026403Z"
    }
   },
   "outputs": [],
   "source": [
    "all_seasons = []\n",
    "\n",
    "for x in range(1992, 2021):\n",
    "    second = f\"0{x+1}\" if x+1 < 10 else x+1\n",
    "    all_seasons.append(f\"{x}/{str(x+1)[2:]}\")"
   ]
  },
  {
   "cell_type": "code",
   "execution_count": 37,
   "metadata": {
    "ExecuteTime": {
     "end_time": "2021-07-15T23:07:17.978398Z",
     "start_time": "2021-07-15T23:07:13.819036Z"
    },
    "cell_style": "center",
    "code_folding": [],
    "scrolled": false
   },
   "outputs": [
    {
     "data": {
      "text/html": [
       "<div>\n",
       "<style scoped>\n",
       "    .dataframe tbody tr th:only-of-type {\n",
       "        vertical-align: middle;\n",
       "    }\n",
       "\n",
       "    .dataframe tbody tr th {\n",
       "        vertical-align: top;\n",
       "    }\n",
       "\n",
       "    .dataframe thead th {\n",
       "        text-align: right;\n",
       "    }\n",
       "</style>\n",
       "<table border=\"1\" class=\"dataframe\">\n",
       "  <thead>\n",
       "    <tr style=\"text-align: right;\">\n",
       "      <th></th>\n",
       "      <th>season</th>\n",
       "      <th>season_id</th>\n",
       "      <th>nb_games</th>\n",
       "    </tr>\n",
       "  </thead>\n",
       "  <tbody>\n",
       "    <tr>\n",
       "      <th>0</th>\n",
       "      <td>2020/21</td>\n",
       "      <td>363</td>\n",
       "      <td>380</td>\n",
       "    </tr>\n",
       "    <tr>\n",
       "      <th>1</th>\n",
       "      <td>2019/20</td>\n",
       "      <td>274</td>\n",
       "      <td>380</td>\n",
       "    </tr>\n",
       "    <tr>\n",
       "      <th>2</th>\n",
       "      <td>2018/19</td>\n",
       "      <td>210</td>\n",
       "      <td>380</td>\n",
       "    </tr>\n",
       "    <tr>\n",
       "      <th>3</th>\n",
       "      <td>2017/18</td>\n",
       "      <td>79</td>\n",
       "      <td>380</td>\n",
       "    </tr>\n",
       "    <tr>\n",
       "      <th>4</th>\n",
       "      <td>2016/17</td>\n",
       "      <td>54</td>\n",
       "      <td>380</td>\n",
       "    </tr>\n",
       "    <tr>\n",
       "      <th>5</th>\n",
       "      <td>2015/16</td>\n",
       "      <td>42</td>\n",
       "      <td>380</td>\n",
       "    </tr>\n",
       "    <tr>\n",
       "      <th>6</th>\n",
       "      <td>2014/15</td>\n",
       "      <td>27</td>\n",
       "      <td>380</td>\n",
       "    </tr>\n",
       "    <tr>\n",
       "      <th>7</th>\n",
       "      <td>2013/14</td>\n",
       "      <td>22</td>\n",
       "      <td>380</td>\n",
       "    </tr>\n",
       "    <tr>\n",
       "      <th>8</th>\n",
       "      <td>2012/13</td>\n",
       "      <td>21</td>\n",
       "      <td>380</td>\n",
       "    </tr>\n",
       "    <tr>\n",
       "      <th>9</th>\n",
       "      <td>2011/12</td>\n",
       "      <td>20</td>\n",
       "      <td>380</td>\n",
       "    </tr>\n",
       "    <tr>\n",
       "      <th>10</th>\n",
       "      <td>2010/11</td>\n",
       "      <td>19</td>\n",
       "      <td>380</td>\n",
       "    </tr>\n",
       "    <tr>\n",
       "      <th>11</th>\n",
       "      <td>2009/10</td>\n",
       "      <td>18</td>\n",
       "      <td>380</td>\n",
       "    </tr>\n",
       "    <tr>\n",
       "      <th>12</th>\n",
       "      <td>2008/09</td>\n",
       "      <td>17</td>\n",
       "      <td>380</td>\n",
       "    </tr>\n",
       "    <tr>\n",
       "      <th>13</th>\n",
       "      <td>2007/08</td>\n",
       "      <td>16</td>\n",
       "      <td>380</td>\n",
       "    </tr>\n",
       "    <tr>\n",
       "      <th>14</th>\n",
       "      <td>2006/07</td>\n",
       "      <td>15</td>\n",
       "      <td>380</td>\n",
       "    </tr>\n",
       "    <tr>\n",
       "      <th>15</th>\n",
       "      <td>2005/06</td>\n",
       "      <td>14</td>\n",
       "      <td>380</td>\n",
       "    </tr>\n",
       "    <tr>\n",
       "      <th>16</th>\n",
       "      <td>2004/05</td>\n",
       "      <td>13</td>\n",
       "      <td>380</td>\n",
       "    </tr>\n",
       "    <tr>\n",
       "      <th>17</th>\n",
       "      <td>2003/04</td>\n",
       "      <td>12</td>\n",
       "      <td>380</td>\n",
       "    </tr>\n",
       "    <tr>\n",
       "      <th>18</th>\n",
       "      <td>2002/03</td>\n",
       "      <td>11</td>\n",
       "      <td>380</td>\n",
       "    </tr>\n",
       "    <tr>\n",
       "      <th>19</th>\n",
       "      <td>2001/02</td>\n",
       "      <td>10</td>\n",
       "      <td>380</td>\n",
       "    </tr>\n",
       "    <tr>\n",
       "      <th>20</th>\n",
       "      <td>2000/01</td>\n",
       "      <td>9</td>\n",
       "      <td>380</td>\n",
       "    </tr>\n",
       "    <tr>\n",
       "      <th>21</th>\n",
       "      <td>1999/00</td>\n",
       "      <td>8</td>\n",
       "      <td>380</td>\n",
       "    </tr>\n",
       "    <tr>\n",
       "      <th>22</th>\n",
       "      <td>1998/99</td>\n",
       "      <td>7</td>\n",
       "      <td>380</td>\n",
       "    </tr>\n",
       "    <tr>\n",
       "      <th>23</th>\n",
       "      <td>1997/98</td>\n",
       "      <td>6</td>\n",
       "      <td>380</td>\n",
       "    </tr>\n",
       "    <tr>\n",
       "      <th>24</th>\n",
       "      <td>1996/97</td>\n",
       "      <td>5</td>\n",
       "      <td>380</td>\n",
       "    </tr>\n",
       "    <tr>\n",
       "      <th>25</th>\n",
       "      <td>1995/96</td>\n",
       "      <td>4</td>\n",
       "      <td>380</td>\n",
       "    </tr>\n",
       "    <tr>\n",
       "      <th>26</th>\n",
       "      <td>1994/95</td>\n",
       "      <td>3</td>\n",
       "      <td>462</td>\n",
       "    </tr>\n",
       "    <tr>\n",
       "      <th>27</th>\n",
       "      <td>1993/94</td>\n",
       "      <td>2</td>\n",
       "      <td>462</td>\n",
       "    </tr>\n",
       "    <tr>\n",
       "      <th>28</th>\n",
       "      <td>1992/93</td>\n",
       "      <td>1</td>\n",
       "      <td>462</td>\n",
       "    </tr>\n",
       "  </tbody>\n",
       "</table>\n",
       "</div>"
      ],
      "text/plain": [
       "     season season_id  nb_games\n",
       "0   2020/21       363       380\n",
       "1   2019/20       274       380\n",
       "2   2018/19       210       380\n",
       "3   2017/18        79       380\n",
       "4   2016/17        54       380\n",
       "5   2015/16        42       380\n",
       "6   2014/15        27       380\n",
       "7   2013/14        22       380\n",
       "8   2012/13        21       380\n",
       "9   2011/12        20       380\n",
       "10  2010/11        19       380\n",
       "11  2009/10        18       380\n",
       "12  2008/09        17       380\n",
       "13  2007/08        16       380\n",
       "14  2006/07        15       380\n",
       "15  2005/06        14       380\n",
       "16  2004/05        13       380\n",
       "17  2003/04        12       380\n",
       "18  2002/03        11       380\n",
       "19  2001/02        10       380\n",
       "20  2000/01         9       380\n",
       "21  1999/00         8       380\n",
       "22  1998/99         7       380\n",
       "23  1997/98         6       380\n",
       "24  1996/97         5       380\n",
       "25  1995/96         4       380\n",
       "26  1994/95         3       462\n",
       "27  1993/94         2       462\n",
       "28  1992/93         1       462"
      ]
     },
     "execution_count": 37,
     "metadata": {},
     "output_type": "execute_result"
    }
   ],
   "source": [
    "# launch_driver()\n",
    "\n",
    "df_season_ids = pd.DataFrame(columns=[\"season\", \"season_id\"])\n",
    "\n",
    "browser.find_by_tag(tag_string(\"div\", \"data-dropdown-current=compSeasons\"), wait_time=10).click()\n",
    "\n",
    "\n",
    "for element in browser.find_by_tag(\"li\"): \n",
    "    season_id = element[\"data-option-id\"]\n",
    "    season = element[\"data-option-name\"]\n",
    "    if season_id != None and season in all_seasons:\n",
    "        df_season_ids.loc[len(df_season_ids)] = [season, season_id]\n",
    "\n",
    "df_season_ids[\"nb_games\"] = 380\n",
    "df_season_ids.loc[[26, 27, 28], \"nb_games\"] = 462\n",
    "df_season_ids"
   ]
  },
  {
   "cell_type": "markdown",
   "metadata": {},
   "source": [
    "### Save season_id in a csv"
   ]
  },
  {
   "cell_type": "code",
   "execution_count": 38,
   "metadata": {
    "ExecuteTime": {
     "end_time": "2021-07-15T23:07:22.053845Z",
     "start_time": "2021-07-15T23:07:22.045436Z"
    },
    "scrolled": true
   },
   "outputs": [],
   "source": [
    "df_season_ids = df_season_ids.sort_values(by=\"season\").reset_index(drop=True)\n",
    "df_season_ids.to_csv(\"real_data/season_ids.csv\", index=False)"
   ]
  },
  {
   "cell_type": "markdown",
   "metadata": {},
   "source": [
    "## Get match_id"
   ]
  },
  {
   "cell_type": "code",
   "execution_count": 40,
   "metadata": {
    "ExecuteTime": {
     "end_time": "2021-07-15T23:29:52.780340Z",
     "start_time": "2021-07-15T23:10:33.459246Z"
    },
    "scrolled": false
   },
   "outputs": [
    {
     "name": "stdout",
     "output_type": "stream",
     "text": [
      "2020/21 380 7                      \r"
     ]
    }
   ],
   "source": [
    "on()\n",
    "\n",
    "df_season_ids = pd.read_csv(\"real_data/season_ids.csv\")\n",
    "df_match_ids = pd.DataFrame(columns=[\"season\", \"season_id\", \"match_id\", \"nb_games\"])\n",
    "\n",
    "launch_driver()\n",
    "\n",
    "for index, season_id in enumerate(df_season_ids[\"season_id\"]):\n",
    "    all_match_ids = set() # for unique values directly\n",
    "    browser.visit(f\"https://www.premierleague.com/results?co=1&se={season_id}&cl=-1\")\n",
    "    \n",
    "    # There is a total of 380 games per season\n",
    "    count = 0\n",
    "    seasson_games_count = df_season_ids.loc[index, \"nb_games\"]\n",
    "    while len(all_match_ids) != seasson_games_count: \n",
    "        tag = browser.find_by_tag(\"li\", wait_time=10)\n",
    "        all_match_ids = {e[\"data-comp-match-item\"] for e in tag if e[\"data-comp-match-item\"] != None} \n",
    "        \n",
    "        browser.execute_script(f\"window.scroll(0, document.body.scrollHeight)\")\n",
    "        \n",
    "        if count % 2 == 0: \n",
    "            browser.execute_script(f\"window.scroll(0, 0)\")\n",
    "            \n",
    "            \n",
    "        print(df_season_ids.loc[index, \"season\"], len(all_match_ids), count, \" \"*20, end=\"\\r\")\n",
    "        \n",
    "        count += 1\n",
    "        \n",
    "        if count == 40:\n",
    "            all_match_ids = set()\n",
    "            browser.visit(f\"https://www.premierleague.com/results?co=1&se={season_id}&cl=-1\")\n",
    "            count = 0\n",
    "        \n",
    "        \n",
    "    for match_id in all_match_ids:\n",
    "        df_match_ids.loc[len(df_match_ids)] = [df_season_ids.loc[index, \"season\"], season_id, \n",
    "                                               match_id, seasson_games_count]\n",
    "    \n",
    "    \n",
    "\n",
    "browser.quit()"
   ]
  },
  {
   "cell_type": "code",
   "execution_count": 42,
   "metadata": {
    "ExecuteTime": {
     "end_time": "2021-07-15T23:30:54.961951Z",
     "start_time": "2021-07-15T23:30:54.925438Z"
    }
   },
   "outputs": [
    {
     "name": "stdout",
     "output_type": "stream",
     "text": [
      "(11266, 4)\n"
     ]
    },
    {
     "data": {
      "text/html": [
       "<div>\n",
       "<style scoped>\n",
       "    .dataframe tbody tr th:only-of-type {\n",
       "        vertical-align: middle;\n",
       "    }\n",
       "\n",
       "    .dataframe tbody tr th {\n",
       "        vertical-align: top;\n",
       "    }\n",
       "\n",
       "    .dataframe thead th {\n",
       "        text-align: right;\n",
       "    }\n",
       "</style>\n",
       "<table border=\"1\" class=\"dataframe\">\n",
       "  <thead>\n",
       "    <tr style=\"text-align: right;\">\n",
       "      <th></th>\n",
       "      <th>season</th>\n",
       "      <th>season_id</th>\n",
       "      <th>match_id</th>\n",
       "      <th>nb_games</th>\n",
       "    </tr>\n",
       "  </thead>\n",
       "  <tbody>\n",
       "    <tr>\n",
       "      <th>0</th>\n",
       "      <td>1992/93</td>\n",
       "      <td>1</td>\n",
       "      <td>147</td>\n",
       "      <td>462</td>\n",
       "    </tr>\n",
       "    <tr>\n",
       "      <th>1</th>\n",
       "      <td>1992/93</td>\n",
       "      <td>1</td>\n",
       "      <td>134</td>\n",
       "      <td>462</td>\n",
       "    </tr>\n",
       "    <tr>\n",
       "      <th>2</th>\n",
       "      <td>1992/93</td>\n",
       "      <td>1</td>\n",
       "      <td>85</td>\n",
       "      <td>462</td>\n",
       "    </tr>\n",
       "    <tr>\n",
       "      <th>3</th>\n",
       "      <td>1992/93</td>\n",
       "      <td>1</td>\n",
       "      <td>289</td>\n",
       "      <td>462</td>\n",
       "    </tr>\n",
       "    <tr>\n",
       "      <th>4</th>\n",
       "      <td>1992/93</td>\n",
       "      <td>1</td>\n",
       "      <td>19</td>\n",
       "      <td>462</td>\n",
       "    </tr>\n",
       "  </tbody>\n",
       "</table>\n",
       "</div>"
      ],
      "text/plain": [
       "    season season_id match_id nb_games\n",
       "0  1992/93         1      147      462\n",
       "1  1992/93         1      134      462\n",
       "2  1992/93         1       85      462\n",
       "3  1992/93         1      289      462\n",
       "4  1992/93         1       19      462"
      ]
     },
     "metadata": {},
     "output_type": "display_data"
    }
   ],
   "source": [
    "print(df_match_ids.shape)\n",
    "display(df_match_ids.head())\n",
    "\n",
    "df_match_ids.to_csv(\"real_data/match_ids.csv\", index=False)"
   ]
  },
  {
   "cell_type": "code",
   "execution_count": 44,
   "metadata": {
    "ExecuteTime": {
     "end_time": "2021-07-15T23:31:50.546301Z",
     "start_time": "2021-07-15T23:31:50.539686Z"
    }
   },
   "outputs": [
    {
     "data": {
      "text/plain": [
       "0          147\n",
       "1          134\n",
       "2           85\n",
       "3          289\n",
       "4           19\n",
       "         ...  \n",
       "11261    59146\n",
       "11262    59274\n",
       "11263    59008\n",
       "11264    58935\n",
       "11265    59023\n",
       "Name: match_id, Length: 11266, dtype: object"
      ]
     },
     "execution_count": 44,
     "metadata": {},
     "output_type": "execute_result"
    }
   ],
   "source": [
    "df_match_ids[\"match_id\"]"
   ]
  },
  {
   "cell_type": "code",
   "execution_count": 22,
   "metadata": {
    "ExecuteTime": {
     "end_time": "2021-07-10T16:52:42.455649Z",
     "start_time": "2021-07-10T16:52:41.829328Z"
    }
   },
   "outputs": [],
   "source": [
    "import pandas as pd\n",
    "df_match_ids = pd.read_csv(\"real_data/match_ids.csv\")\n",
    "\n",
    "df_players = pd.read_csv('real_data/all_players_r.csv')\n",
    "df_events = pd.read_csv('real_data/all_events_r.csv')\n",
    "df_games = pd.read_csv('real_data/all_games_r.csv')\n",
    "\n",
    "# df_players = pd.DataFrame()\n",
    "# df_events = pd.DataFrame()\n",
    "# df_games = pd.DataFrame()\n",
    "\n",
    "manquants = set(df_match_ids[\"match_id\"]) - set(df_players[\"match_id\"])\n"
   ]
  },
  {
   "cell_type": "markdown",
   "metadata": {
    "ExecuteTime": {
     "end_time": "2021-06-23T13:15:23.992356Z",
     "start_time": "2021-06-23T13:15:23.973593Z"
    }
   },
   "source": [
    "## Get matchs"
   ]
  },
  {
   "cell_type": "code",
   "execution_count": 57,
   "metadata": {
    "ExecuteTime": {
     "end_time": "2021-07-16T16:32:03.484473Z",
     "start_time": "2021-07-16T16:29:14.719454Z"
    }
   },
   "outputs": [
    {
     "name": "stderr",
     "output_type": "stream",
     "text": [
      "/Applications/anaconda3/lib/python3.8/site-packages/IPython/core/interactiveshell.py:3145: DtypeWarning: Columns (27) have mixed types.Specify dtype option on import or set low_memory=False.\n",
      "  has_raised = await self.run_ast_nodes(code_ast.body, cell_name,\n",
      "/Applications/anaconda3/lib/python3.8/site-packages/IPython/core/interactiveshell.py:3145: DtypeWarning: Columns (68,69,70,71,72,81,82,83,84,85,88,89,90,91,92,95,96,97,98,99,101,103,104,105,106,107,110,111,112,113,114,117,118,119,120,121,124,125,126,127,128,131,132,133,134,135,138,139,140,141,142,145,146,147,148,149) have mixed types.Specify dtype option on import or set low_memory=False.\n",
      "  has_raised = await self.run_ast_nodes(code_ast.body, cell_name,\n",
      "  0%|          | 0/15 [00:00<?, ?it/s]"
     ]
    },
    {
     "name": "stdout",
     "output_type": "stream",
     "text": [
      "15\n"
     ]
    },
    {
     "name": "stderr",
     "output_type": "stream",
     "text": [
      "100%|██████████| 15/15 [02:46<00:00, 11.08s/it]\n"
     ]
    }
   ],
   "source": [
    "on()\n",
    "df_match_ids = pd.read_csv(\"real_data/match_ids.csv\")\n",
    "\n",
    "# df_match_ids = pd.read_csv(\"real_data/match_ids.csv\")\n",
    "\n",
    "df_players = pd.read_csv('real_data/all_players_92.csv')\n",
    "df_events = pd.read_csv('real_data/all_events_92.csv')\n",
    "df_games = pd.read_csv('real_data/all_games_92.csv')\n",
    "\n",
    "# df_players = pd.DataFrame()\n",
    "# df_events = pd.DataFrame()\n",
    "# df_games = pd.DataFrame()\n",
    "\n",
    "# old = df_match_ids[\"match_id\"]\n",
    "# new = df_players[\"match_id\"]\n",
    "\n",
    "# ids = set(old) - set(new)\n",
    "\n",
    "\n",
    "# ids = df_match_ids[\"match_id\"]\n",
    "manquants = set(df_match_ids[\"match_id\"]) - set(df_games[\"match_id\"])\n",
    "\n",
    "\n",
    "print(len(manquants))\n",
    "# print(fghjds)\n",
    "\n",
    "\n",
    "\n",
    "# the code is running only the first 400 ids right now, remove that if you dont wanna test it\n",
    "for index, match_id in enumerate(tqdm(manquants)):\n",
    "    url = 'https://www.premierleague.com/match/' + str(match_id)\n",
    "    resp = requests.get(url)\n",
    "    soup = BeautifulSoup(resp.text, 'html.parser')\n",
    "    data = json.loads(soup.find('div', class_='mcTabsContainer').attrs['data-fixture'])\n",
    "\n",
    "    players = []\n",
    "    teams = []\n",
    "    for team in data['teamLists']:\n",
    "        team_id = team[\"teamId\"]\n",
    "    \n",
    "        for player in team[\"lineup\"]:\n",
    "            player = flatten(player)\n",
    "            player[\"substitute\"] = \"0\"\n",
    "            player[\"team_id\"] = team_id\n",
    "            players.append(flatten(player))\n",
    "\n",
    "        for player in team[\"substitutes\"]:\n",
    "            player = flatten(player)\n",
    "            player[\"substitute\"] = \"1\"\n",
    "            player[\"team_id\"] = team_id\n",
    "            players.append(flatten(player))\n",
    "            \n",
    "    playersdf = pd.DataFrame(players)\n",
    "    playersdf['match_id'] = match_id\n",
    "    df_players = df_players.append(playersdf)\n",
    "\n",
    "    events = []\n",
    "    for event in data['events']:\n",
    "        events.append(flatten(event))\n",
    "    eventsdf = pd.DataFrame(events)\n",
    "    eventsdf['match_id'] = match_id\n",
    "    df_events = df_events.append(eventsdf)\n",
    "\n",
    "    data['teamLists'] = ''\n",
    "    data['events'] = ''\n",
    "    match = pd.DataFrame([flatten(data)])\n",
    "    match['match_id'] = match_id\n",
    "    df_games = df_games.append(match)\n",
    "    \n",
    "    \n",
    "#     if index % 50 == 0:\n",
    "    df_games.to_csv('real_data/all_games_92.csv', index=False)\n",
    "    df_players.to_csv('real_data/all_players_92.csv', index=False)\n",
    "    df_events.to_csv('real_data/all_events_92.csv', index=False)"
   ]
  },
  {
   "cell_type": "code",
   "execution_count": null,
   "metadata": {
    "ExecuteTime": {
     "end_time": "2021-07-06T23:02:22.646961Z",
     "start_time": "2021-07-06T22:59:25.158Z"
    }
   },
   "outputs": [],
   "source": [
    "len(set(df_match_ids[\"match_id\"]) - set(pd.read_csv('real_data/all_games.csv', dtype={'match_id': 'str'})[\"match_id\"]))"
   ]
  },
  {
   "cell_type": "code",
   "execution_count": 48,
   "metadata": {
    "ExecuteTime": {
     "end_time": "2021-07-16T11:25:27.472043Z",
     "start_time": "2021-07-16T11:25:27.463082Z"
    }
   },
   "outputs": [
    {
     "data": {
      "text/plain": [
       "(205567, 15)"
      ]
     },
     "execution_count": 48,
     "metadata": {},
     "output_type": "execute_result"
    }
   ],
   "source": [
    "df_events.shape"
   ]
  },
  {
   "cell_type": "code",
   "execution_count": null,
   "metadata": {
    "ExecuteTime": {
     "end_time": "2021-07-06T23:02:22.667867Z",
     "start_time": "2021-07-06T22:59:25.161Z"
    }
   },
   "outputs": [],
   "source": [
    "len(set(pd.read_csv('real_data/all_games.csv')[\"match_id\"]))"
   ]
  },
  {
   "cell_type": "code",
   "execution_count": null,
   "metadata": {
    "ExecuteTime": {
     "end_time": "2021-07-06T23:02:22.696454Z",
     "start_time": "2021-07-06T22:59:25.164Z"
    }
   },
   "outputs": [],
   "source": [
    "len(set(df_match_ids[\"match_id\"]) - set(pd.read_csv('real_data/all_games.csv')[\"match_id\"]))"
   ]
  },
  {
   "cell_type": "code",
   "execution_count": null,
   "metadata": {
    "ExecuteTime": {
     "end_time": "2021-07-06T23:02:22.708353Z",
     "start_time": "2021-07-06T22:59:25.166Z"
    }
   },
   "outputs": [],
   "source": [
    "list(set(df_match_ids[\"match_id\"]))[0], list(set(pd.read_csv('real_data/all_games.csv')[\"match_id\"]))[0]"
   ]
  }
 ],
 "metadata": {
  "kernelspec": {
   "display_name": "Python 3 (ipykernel)",
   "language": "python",
   "name": "python3"
  },
  "language_info": {
   "codemirror_mode": {
    "name": "ipython",
    "version": 3
   },
   "file_extension": ".py",
   "mimetype": "text/x-python",
   "name": "python",
   "nbconvert_exporter": "python",
   "pygments_lexer": "ipython3",
   "version": "3.9.6"
  },
  "toc": {
   "base_numbering": 1,
   "nav_menu": {},
   "number_sections": true,
   "sideBar": true,
   "skip_h1_title": false,
   "title_cell": "Table of Contents",
   "title_sidebar": "Contents",
   "toc_cell": false,
   "toc_position": {},
   "toc_section_display": true,
   "toc_window_display": false
  }
 },
 "nbformat": 4,
 "nbformat_minor": 4
}
