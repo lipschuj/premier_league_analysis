{
 "cells": [
  {
   "cell_type": "markdown",
   "metadata": {},
   "source": [
    "# Import & UDFs\n",
    "## Importing libraries"
   ]
  },
  {
   "cell_type": "code",
   "execution_count": 75,
   "metadata": {
    "ExecuteTime": {
     "end_time": "2021-07-24T20:03:26.371785Z",
     "start_time": "2021-07-24T20:03:26.080314Z"
    }
   },
   "outputs": [],
   "source": [
    "import pandas as pd \n",
    "pd.set_option(\"display.max_columns\", None)\n",
    "import numpy as np\n",
    "\n",
    "import time\n",
    "import os\n",
    "\n",
    "import caffeine    \n",
    "\n",
    "from tqdm import tqdm\n",
    "\n",
    "import matplotlib.pyplot as plt\n",
    "%matplotlib inline\n",
    "\n",
    "import seaborn as sns \n",
    "sns.set_theme(style=\"darkgrid\", palette=\"Set1\")\n",
    "\n",
    "import klib\n",
    "\n",
    "import plotly.graph_objects as go\n",
    "import plotly.express as px\n",
    "import plotly.figure_factory as ff\n",
    "from plotly.colors import n_colors\n",
    "\n",
    "import warnings\n",
    "warnings.filterwarnings('ignore')\n",
    "\n",
    "import folium\n",
    "\n",
    "import re\n",
    "\n",
    "import chart_studio\n",
    "import chart_studio.plotly as py\n",
    "\n",
    "username = \"marclelamy\" \n",
    "api_key = \"bKX3HXMQHk2Yb2yxzvvh\" \n",
    "\n",
    "chart_studio.tools.set_credentials_file(username=username, api_key=api_key)\n",
    "\n",
    "\n"
   ]
  },
  {
   "cell_type": "markdown",
   "metadata": {},
   "source": [
    "## UDFs\n",
    "### Missing DF"
   ]
  },
  {
   "cell_type": "code",
   "execution_count": 76,
   "metadata": {
    "ExecuteTime": {
     "end_time": "2021-07-24T20:03:26.376888Z",
     "start_time": "2021-07-24T20:03:26.373356Z"
    }
   },
   "outputs": [],
   "source": [
    "def missing(df):\n",
    "    \"\"\"Displays a table with missing value count and percentage. \n",
    "    Variables with no missing value are not shown.\"\"\"\n",
    "    \n",
    "    df_missing = df.isna().sum().to_frame()\n",
    "    df_missing.columns = [\"missing_val_count\"]\n",
    "        \n",
    "    df_missing[\"missing_val_percent\"] = round(df_missing.missing_val_count / len(df) * 100, 1)\n",
    "    df_missing = df_missing[df_missing[\"missing_val_count\"] != 0]\n",
    "    \n",
    "    try:\n",
    "        display(df_missing)\n",
    "    except NameError:\n",
    "        return df_missing"
   ]
  },
  {
   "cell_type": "markdown",
   "metadata": {},
   "source": [
    "### Say something\n",
    "\n",
    "I generally use it to know when a program that take multiple minutes to run is done or when I run the entire notebook"
   ]
  },
  {
   "cell_type": "code",
   "execution_count": 77,
   "metadata": {
    "ExecuteTime": {
     "end_time": "2021-07-24T20:03:26.383519Z",
     "start_time": "2021-07-24T20:03:26.377776Z"
    }
   },
   "outputs": [],
   "source": [
    "def say(string):\n",
    "    os.system(f\"say “{string}”\")\n",
    "    \n",
    "def namestr(obj):\n",
    "    return [name for name in globals() if globals()[name] is obj]\n",
    "\n",
    "def table (df, row_size=40):\n",
    "    for col in df.columns:\n",
    "        df[col] = df[col].apply(lambda x: x.replace(\" \", \"<br>\") if type(x) == str else x)\n",
    "    \n",
    "    table_data = [df.columns] + df.values.tolist()[:10]\n",
    "\n",
    "    \n",
    "    return ff.create_table(table_data)"
   ]
  },
  {
   "cell_type": "code",
   "execution_count": null,
   "metadata": {
    "ExecuteTime": {
     "end_time": "2021-07-18T14:50:41.579627Z",
     "start_time": "2021-07-18T14:50:40.732134Z"
    }
   },
   "outputs": [],
   "source": []
  },
  {
   "cell_type": "markdown",
   "metadata": {
    "ExecuteTime": {
     "end_time": "2021-06-23T23:10:13.604943Z",
     "start_time": "2021-06-23T23:10:13.601926Z"
    }
   },
   "source": [
    "\n",
    "\n",
    "## Import & merge CSVs \n",
    "\n",
    "Here I'm importing all the CSVs containing the scraped data. To scrape the data more rapidly, I did run four instanced of the script, that's why, four CSVs."
   ]
  },
  {
   "cell_type": "code",
   "execution_count": 78,
   "metadata": {
    "ExecuteTime": {
     "end_time": "2021-07-24T20:03:27.714924Z",
     "start_time": "2021-07-24T20:03:26.385845Z"
    }
   },
   "outputs": [
    {
     "name": "stdout",
     "output_type": "stream",
     "text": [
      "We have 11267 df_stats with 151 columns of data.\n",
      "We have 205580 df_stats with 15 columns of data.\n",
      "We have 346951 df_stats with 28 columns of data.\n",
      "We have 5631 df_stats with 2 columns of data.\n"
     ]
    }
   ],
   "source": [
    "df_games = pd.read_csv(f\"data/pl_data_games.csv\")\n",
    "df_events = pd.read_csv(f\"data/pl_data_events.csv\")\n",
    "df_players = pd.read_csv(f\"data/pl_data_players.csv\")\n",
    "df_stats = pd.read_csv(\"data/pl_data_stats.csv\")\n",
    "\n",
    "for df in [df_games, df_events, df_players, df_stats]:\n",
    "    print(f\"We have {df.shape[0]} {namestr(df_stats)[0]} with {df.shape[1]} columns of data.\")"
   ]
  },
  {
   "cell_type": "markdown",
   "metadata": {},
   "source": [
    "# Data cleaning \n",
    "\n",
    "In this part, I will clean the datasets. This mean replacing missing values, correcting values, renaming columns, renaming values.\n",
    "\n",
    "\n",
    "## Games\n"
   ]
  },
  {
   "cell_type": "code",
   "execution_count": 79,
   "metadata": {
    "ExecuteTime": {
     "end_time": "2021-07-24T20:03:27.748055Z",
     "start_time": "2021-07-24T20:03:27.715624Z"
    }
   },
   "outputs": [
    {
     "data": {
      "text/html": [
       "<div>\n",
       "<style scoped>\n",
       "    .dataframe tbody tr th:only-of-type {\n",
       "        vertical-align: middle;\n",
       "    }\n",
       "\n",
       "    .dataframe tbody tr th {\n",
       "        vertical-align: top;\n",
       "    }\n",
       "\n",
       "    .dataframe thead th {\n",
       "        text-align: right;\n",
       "    }\n",
       "</style>\n",
       "<table border=\"1\" class=\"dataframe\">\n",
       "  <thead>\n",
       "    <tr style=\"text-align: right;\">\n",
       "      <th></th>\n",
       "      <th>gameweek_id</th>\n",
       "      <th>gameweek_compSeason_label</th>\n",
       "      <th>gameweek_compSeason_competition_abbreviation</th>\n",
       "      <th>gameweek_compSeason_competition_description</th>\n",
       "      <th>gameweek_compSeason_competition_level</th>\n",
       "      <th>gameweek_compSeason_competition_source</th>\n",
       "      <th>gameweek_compSeason_competition_id</th>\n",
       "      <th>gameweek_compSeason_competition_altIds_opta</th>\n",
       "      <th>gameweek_compSeason_id</th>\n",
       "      <th>gameweek_gameweek</th>\n",
       "      <th>gameweek_competitionPhase_id</th>\n",
       "      <th>gameweek_competitionPhase_type</th>\n",
       "      <th>gameweek_competitionPhase_gameweekRange_0</th>\n",
       "      <th>gameweek_competitionPhase_gameweekRange_1</th>\n",
       "      <th>kickoff_completeness</th>\n",
       "      <th>kickoff_millis</th>\n",
       "      <th>kickoff_label</th>\n",
       "      <th>provisionalKickoff_completeness</th>\n",
       "      <th>teams_0_team_name</th>\n",
       "      <th>teams_0_team_club_name</th>\n",
       "      <th>teams_0_team_club_shortName</th>\n",
       "      <th>teams_0_team_club_abbr</th>\n",
       "      <th>teams_0_team_club_id</th>\n",
       "      <th>teams_0_team_teamType</th>\n",
       "      <th>teams_0_team_shortName</th>\n",
       "      <th>teams_0_team_id</th>\n",
       "      <th>teams_0_team_altIds_opta</th>\n",
       "      <th>teams_0_score</th>\n",
       "      <th>teams_1_team_name</th>\n",
       "      <th>teams_1_team_club_name</th>\n",
       "      <th>teams_1_team_club_shortName</th>\n",
       "      <th>teams_1_team_club_abbr</th>\n",
       "      <th>teams_1_team_club_id</th>\n",
       "      <th>teams_1_team_teamType</th>\n",
       "      <th>teams_1_team_shortName</th>\n",
       "      <th>teams_1_team_id</th>\n",
       "      <th>teams_1_team_altIds_opta</th>\n",
       "      <th>teams_1_score</th>\n",
       "      <th>replay</th>\n",
       "      <th>ground_name</th>\n",
       "      <th>ground_city</th>\n",
       "      <th>ground_source</th>\n",
       "      <th>ground_id</th>\n",
       "      <th>neutralGround</th>\n",
       "      <th>status</th>\n",
       "      <th>phase</th>\n",
       "      <th>outcome</th>\n",
       "      <th>attendance</th>\n",
       "      <th>clock_secs</th>\n",
       "      <th>clock_label</th>\n",
       "      <th>matchOfficials_0_matchOfficialId</th>\n",
       "      <th>matchOfficials_0_role</th>\n",
       "      <th>matchOfficials_0_birth</th>\n",
       "      <th>matchOfficials_0_name_display</th>\n",
       "      <th>matchOfficials_0_name_first</th>\n",
       "      <th>matchOfficials_0_name_last</th>\n",
       "      <th>matchOfficials_0_id</th>\n",
       "      <th>halfTimeScore_homeScore</th>\n",
       "      <th>halfTimeScore_awayScore</th>\n",
       "      <th>teamLists</th>\n",
       "      <th>events</th>\n",
       "      <th>penaltyShootouts</th>\n",
       "      <th>id</th>\n",
       "      <th>altIds_opta</th>\n",
       "      <th>metadata</th>\n",
       "      <th>match_id</th>\n",
       "      <th>kickoff_gmtOffset</th>\n",
       "      <th>matchOfficials_1_matchOfficialId</th>\n",
       "      <th>matchOfficials_1_role</th>\n",
       "      <th>matchOfficials_1_birth</th>\n",
       "      <th>matchOfficials_1_name_display</th>\n",
       "      <th>matchOfficials_1_name_first</th>\n",
       "      <th>matchOfficials_1_name_last</th>\n",
       "      <th>matchOfficials_1_id</th>\n",
       "      <th>provisionalKickoff_millis</th>\n",
       "      <th>provisionalKickoff_label</th>\n",
       "      <th>provisionalKickoff_gmtOffset</th>\n",
       "      <th>fixtureType</th>\n",
       "      <th>extraTime</th>\n",
       "      <th>shootout</th>\n",
       "      <th>matchOfficials_2_matchOfficialId</th>\n",
       "      <th>matchOfficials_2_role</th>\n",
       "      <th>matchOfficials_2_birth</th>\n",
       "      <th>matchOfficials_2_name_display</th>\n",
       "      <th>matchOfficials_2_name_first</th>\n",
       "      <th>matchOfficials_2_name_last</th>\n",
       "      <th>matchOfficials_2_id</th>\n",
       "      <th>matchOfficials_3_matchOfficialId</th>\n",
       "      <th>matchOfficials_3_role</th>\n",
       "      <th>matchOfficials_3_birth</th>\n",
       "      <th>matchOfficials_3_name_display</th>\n",
       "      <th>matchOfficials_3_name_first</th>\n",
       "      <th>matchOfficials_3_name_last</th>\n",
       "      <th>matchOfficials_3_id</th>\n",
       "      <th>matchOfficials_4_matchOfficialId</th>\n",
       "      <th>matchOfficials_4_role</th>\n",
       "      <th>matchOfficials_4_birth</th>\n",
       "      <th>matchOfficials_4_name_display</th>\n",
       "      <th>matchOfficials_4_name_first</th>\n",
       "      <th>matchOfficials_4_name_last</th>\n",
       "      <th>matchOfficials_4_id</th>\n",
       "      <th>behindClosedDoors</th>\n",
       "      <th>matchOfficials_5_matchOfficialId</th>\n",
       "      <th>matchOfficials_5_role</th>\n",
       "      <th>matchOfficials_5_birth</th>\n",
       "      <th>matchOfficials_5_name_display</th>\n",
       "      <th>matchOfficials_5_name_first</th>\n",
       "      <th>matchOfficials_5_name_last</th>\n",
       "      <th>matchOfficials_5_id</th>\n",
       "      <th>matchOfficials_6_matchOfficialId</th>\n",
       "      <th>matchOfficials_6_role</th>\n",
       "      <th>matchOfficials_6_birth</th>\n",
       "      <th>matchOfficials_6_name_display</th>\n",
       "      <th>matchOfficials_6_name_first</th>\n",
       "      <th>matchOfficials_6_name_last</th>\n",
       "      <th>matchOfficials_6_id</th>\n",
       "      <th>matchOfficials_7_matchOfficialId</th>\n",
       "      <th>matchOfficials_7_role</th>\n",
       "      <th>matchOfficials_7_birth</th>\n",
       "      <th>matchOfficials_7_name_display</th>\n",
       "      <th>matchOfficials_7_name_first</th>\n",
       "      <th>matchOfficials_7_name_last</th>\n",
       "      <th>matchOfficials_7_id</th>\n",
       "      <th>matchOfficials_8_matchOfficialId</th>\n",
       "      <th>matchOfficials_8_role</th>\n",
       "      <th>matchOfficials_8_birth</th>\n",
       "      <th>matchOfficials_8_name_display</th>\n",
       "      <th>matchOfficials_8_name_first</th>\n",
       "      <th>matchOfficials_8_name_last</th>\n",
       "      <th>matchOfficials_8_id</th>\n",
       "      <th>matchOfficials_9_matchOfficialId</th>\n",
       "      <th>matchOfficials_9_role</th>\n",
       "      <th>matchOfficials_9_birth</th>\n",
       "      <th>matchOfficials_9_name_display</th>\n",
       "      <th>matchOfficials_9_name_first</th>\n",
       "      <th>matchOfficials_9_name_last</th>\n",
       "      <th>matchOfficials_9_id</th>\n",
       "      <th>matchOfficials_10_matchOfficialId</th>\n",
       "      <th>matchOfficials_10_role</th>\n",
       "      <th>matchOfficials_10_birth</th>\n",
       "      <th>matchOfficials_10_name_display</th>\n",
       "      <th>matchOfficials_10_name_first</th>\n",
       "      <th>matchOfficials_10_name_last</th>\n",
       "      <th>matchOfficials_10_id</th>\n",
       "      <th>matchOfficials_11_matchOfficialId</th>\n",
       "      <th>matchOfficials_11_role</th>\n",
       "      <th>matchOfficials_11_birth</th>\n",
       "      <th>matchOfficials_11_name_display</th>\n",
       "      <th>matchOfficials_11_name_first</th>\n",
       "      <th>matchOfficials_11_name_last</th>\n",
       "      <th>matchOfficials_11_id</th>\n",
       "    </tr>\n",
       "  </thead>\n",
       "  <tbody>\n",
       "    <tr>\n",
       "      <th>0</th>\n",
       "      <td>12</td>\n",
       "      <td>1992/93</td>\n",
       "      <td>EN_PR</td>\n",
       "      <td>Premier League</td>\n",
       "      <td>SEN</td>\n",
       "      <td>NaN</td>\n",
       "      <td>1</td>\n",
       "      <td>8</td>\n",
       "      <td>1</td>\n",
       "      <td>11</td>\n",
       "      <td>1</td>\n",
       "      <td>L</td>\n",
       "      <td>0</td>\n",
       "      <td>0</td>\n",
       "      <td>3</td>\n",
       "      <td>720543600000</td>\n",
       "      <td>Sat 31 Oct 1992, 15:00 GMT</td>\n",
       "      <td>0</td>\n",
       "      <td>Manchester United</td>\n",
       "      <td>Manchester United</td>\n",
       "      <td>Man Utd</td>\n",
       "      <td>MUN</td>\n",
       "      <td>12</td>\n",
       "      <td>FIRST</td>\n",
       "      <td>Man Utd</td>\n",
       "      <td>12</td>\n",
       "      <td>t1</td>\n",
       "      <td>0</td>\n",
       "      <td>Wimbledon</td>\n",
       "      <td>Wimbledon</td>\n",
       "      <td>Wimbledon</td>\n",
       "      <td>WIM</td>\n",
       "      <td>22</td>\n",
       "      <td>FIRST</td>\n",
       "      <td>Wimbledon</td>\n",
       "      <td>22</td>\n",
       "      <td>t1736</td>\n",
       "      <td>1</td>\n",
       "      <td>False</td>\n",
       "      <td>Old Trafford</td>\n",
       "      <td>Manchester</td>\n",
       "      <td>OPTA</td>\n",
       "      <td>3</td>\n",
       "      <td>False</td>\n",
       "      <td>C</td>\n",
       "      <td>F</td>\n",
       "      <td>A</td>\n",
       "      <td>32622.0</td>\n",
       "      <td>5400</td>\n",
       "      <td>90'00</td>\n",
       "      <td>226</td>\n",
       "      <td>MAIN</td>\n",
       "      <td>{}</td>\n",
       "      <td>Kelvin Morton</td>\n",
       "      <td>Kelvin</td>\n",
       "      <td>Morton</td>\n",
       "      <td>16881</td>\n",
       "      <td>0</td>\n",
       "      <td>0</td>\n",
       "      <td>NaN</td>\n",
       "      <td>NaN</td>\n",
       "      <td>[]</td>\n",
       "      <td>147</td>\n",
       "      <td>g16901</td>\n",
       "      <td>{}</td>\n",
       "      <td>147</td>\n",
       "      <td>NaN</td>\n",
       "      <td>NaN</td>\n",
       "      <td>NaN</td>\n",
       "      <td>NaN</td>\n",
       "      <td>NaN</td>\n",
       "      <td>NaN</td>\n",
       "      <td>NaN</td>\n",
       "      <td>NaN</td>\n",
       "      <td>NaN</td>\n",
       "      <td>NaN</td>\n",
       "      <td>NaN</td>\n",
       "      <td>NaN</td>\n",
       "      <td>NaN</td>\n",
       "      <td>NaN</td>\n",
       "      <td>NaN</td>\n",
       "      <td>NaN</td>\n",
       "      <td>NaN</td>\n",
       "      <td>NaN</td>\n",
       "      <td>NaN</td>\n",
       "      <td>NaN</td>\n",
       "      <td>NaN</td>\n",
       "      <td>NaN</td>\n",
       "      <td>NaN</td>\n",
       "      <td>NaN</td>\n",
       "      <td>NaN</td>\n",
       "      <td>NaN</td>\n",
       "      <td>NaN</td>\n",
       "      <td>NaN</td>\n",
       "      <td>NaN</td>\n",
       "      <td>NaN</td>\n",
       "      <td>NaN</td>\n",
       "      <td>NaN</td>\n",
       "      <td>NaN</td>\n",
       "      <td>NaN</td>\n",
       "      <td>NaN</td>\n",
       "      <td>NaN</td>\n",
       "      <td>NaN</td>\n",
       "      <td>NaN</td>\n",
       "      <td>NaN</td>\n",
       "      <td>NaN</td>\n",
       "      <td>NaN</td>\n",
       "      <td>NaN</td>\n",
       "      <td>NaN</td>\n",
       "      <td>NaN</td>\n",
       "      <td>NaN</td>\n",
       "      <td>NaN</td>\n",
       "      <td>NaN</td>\n",
       "      <td>NaN</td>\n",
       "      <td>NaN</td>\n",
       "      <td>NaN</td>\n",
       "      <td>NaN</td>\n",
       "      <td>NaN</td>\n",
       "      <td>NaN</td>\n",
       "      <td>NaN</td>\n",
       "      <td>NaN</td>\n",
       "      <td>NaN</td>\n",
       "      <td>NaN</td>\n",
       "      <td>NaN</td>\n",
       "      <td>NaN</td>\n",
       "      <td>NaN</td>\n",
       "      <td>NaN</td>\n",
       "      <td>NaN</td>\n",
       "      <td>NaN</td>\n",
       "      <td>NaN</td>\n",
       "      <td>NaN</td>\n",
       "      <td>NaN</td>\n",
       "      <td>NaN</td>\n",
       "      <td>NaN</td>\n",
       "      <td>NaN</td>\n",
       "      <td>NaN</td>\n",
       "      <td>NaN</td>\n",
       "      <td>NaN</td>\n",
       "      <td>NaN</td>\n",
       "      <td>NaN</td>\n",
       "      <td>NaN</td>\n",
       "      <td>NaN</td>\n",
       "      <td>NaN</td>\n",
       "      <td>NaN</td>\n",
       "      <td>NaN</td>\n",
       "      <td>NaN</td>\n",
       "      <td>NaN</td>\n",
       "      <td>NaN</td>\n",
       "      <td>NaN</td>\n",
       "      <td>NaN</td>\n",
       "      <td>NaN</td>\n",
       "    </tr>\n",
       "    <tr>\n",
       "      <th>1</th>\n",
       "      <td>11</td>\n",
       "      <td>1992/93</td>\n",
       "      <td>EN_PR</td>\n",
       "      <td>Premier League</td>\n",
       "      <td>SEN</td>\n",
       "      <td>NaN</td>\n",
       "      <td>1</td>\n",
       "      <td>8</td>\n",
       "      <td>1</td>\n",
       "      <td>10</td>\n",
       "      <td>1</td>\n",
       "      <td>L</td>\n",
       "      <td>0</td>\n",
       "      <td>0</td>\n",
       "      <td>3</td>\n",
       "      <td>719935200000</td>\n",
       "      <td>Sat 24 Oct 1992, 15:00 BST</td>\n",
       "      <td>0</td>\n",
       "      <td>Blackburn Rovers</td>\n",
       "      <td>Blackburn Rovers</td>\n",
       "      <td>Blackburn</td>\n",
       "      <td>BLB</td>\n",
       "      <td>3</td>\n",
       "      <td>FIRST</td>\n",
       "      <td>Blackburn</td>\n",
       "      <td>3</td>\n",
       "      <td>t5</td>\n",
       "      <td>0</td>\n",
       "      <td>Manchester United</td>\n",
       "      <td>Manchester United</td>\n",
       "      <td>Man Utd</td>\n",
       "      <td>MUN</td>\n",
       "      <td>12</td>\n",
       "      <td>FIRST</td>\n",
       "      <td>Man Utd</td>\n",
       "      <td>12</td>\n",
       "      <td>t1</td>\n",
       "      <td>0</td>\n",
       "      <td>False</td>\n",
       "      <td>Ewood Park</td>\n",
       "      <td>Blackburn</td>\n",
       "      <td>OPTA</td>\n",
       "      <td>5</td>\n",
       "      <td>False</td>\n",
       "      <td>C</td>\n",
       "      <td>F</td>\n",
       "      <td>D</td>\n",
       "      <td>20305.0</td>\n",
       "      <td>5400</td>\n",
       "      <td>90'00</td>\n",
       "      <td>456</td>\n",
       "      <td>MAIN</td>\n",
       "      <td>{}</td>\n",
       "      <td>Mike Reed</td>\n",
       "      <td>Mike</td>\n",
       "      <td>Reed</td>\n",
       "      <td>16889</td>\n",
       "      <td>0</td>\n",
       "      <td>0</td>\n",
       "      <td>NaN</td>\n",
       "      <td>NaN</td>\n",
       "      <td>[]</td>\n",
       "      <td>134</td>\n",
       "      <td>g14236</td>\n",
       "      <td>{}</td>\n",
       "      <td>134</td>\n",
       "      <td>1.0</td>\n",
       "      <td>NaN</td>\n",
       "      <td>NaN</td>\n",
       "      <td>NaN</td>\n",
       "      <td>NaN</td>\n",
       "      <td>NaN</td>\n",
       "      <td>NaN</td>\n",
       "      <td>NaN</td>\n",
       "      <td>NaN</td>\n",
       "      <td>NaN</td>\n",
       "      <td>NaN</td>\n",
       "      <td>NaN</td>\n",
       "      <td>NaN</td>\n",
       "      <td>NaN</td>\n",
       "      <td>NaN</td>\n",
       "      <td>NaN</td>\n",
       "      <td>NaN</td>\n",
       "      <td>NaN</td>\n",
       "      <td>NaN</td>\n",
       "      <td>NaN</td>\n",
       "      <td>NaN</td>\n",
       "      <td>NaN</td>\n",
       "      <td>NaN</td>\n",
       "      <td>NaN</td>\n",
       "      <td>NaN</td>\n",
       "      <td>NaN</td>\n",
       "      <td>NaN</td>\n",
       "      <td>NaN</td>\n",
       "      <td>NaN</td>\n",
       "      <td>NaN</td>\n",
       "      <td>NaN</td>\n",
       "      <td>NaN</td>\n",
       "      <td>NaN</td>\n",
       "      <td>NaN</td>\n",
       "      <td>NaN</td>\n",
       "      <td>NaN</td>\n",
       "      <td>NaN</td>\n",
       "      <td>NaN</td>\n",
       "      <td>NaN</td>\n",
       "      <td>NaN</td>\n",
       "      <td>NaN</td>\n",
       "      <td>NaN</td>\n",
       "      <td>NaN</td>\n",
       "      <td>NaN</td>\n",
       "      <td>NaN</td>\n",
       "      <td>NaN</td>\n",
       "      <td>NaN</td>\n",
       "      <td>NaN</td>\n",
       "      <td>NaN</td>\n",
       "      <td>NaN</td>\n",
       "      <td>NaN</td>\n",
       "      <td>NaN</td>\n",
       "      <td>NaN</td>\n",
       "      <td>NaN</td>\n",
       "      <td>NaN</td>\n",
       "      <td>NaN</td>\n",
       "      <td>NaN</td>\n",
       "      <td>NaN</td>\n",
       "      <td>NaN</td>\n",
       "      <td>NaN</td>\n",
       "      <td>NaN</td>\n",
       "      <td>NaN</td>\n",
       "      <td>NaN</td>\n",
       "      <td>NaN</td>\n",
       "      <td>NaN</td>\n",
       "      <td>NaN</td>\n",
       "      <td>NaN</td>\n",
       "      <td>NaN</td>\n",
       "      <td>NaN</td>\n",
       "      <td>NaN</td>\n",
       "      <td>NaN</td>\n",
       "      <td>NaN</td>\n",
       "      <td>NaN</td>\n",
       "      <td>NaN</td>\n",
       "      <td>NaN</td>\n",
       "      <td>NaN</td>\n",
       "      <td>NaN</td>\n",
       "      <td>NaN</td>\n",
       "      <td>NaN</td>\n",
       "      <td>NaN</td>\n",
       "      <td>NaN</td>\n",
       "      <td>NaN</td>\n",
       "      <td>NaN</td>\n",
       "      <td>NaN</td>\n",
       "      <td>NaN</td>\n",
       "    </tr>\n",
       "    <tr>\n",
       "      <th>2</th>\n",
       "      <td>6</td>\n",
       "      <td>1992/93</td>\n",
       "      <td>EN_PR</td>\n",
       "      <td>Premier League</td>\n",
       "      <td>SEN</td>\n",
       "      <td>NaN</td>\n",
       "      <td>1</td>\n",
       "      <td>8</td>\n",
       "      <td>1</td>\n",
       "      <td>5</td>\n",
       "      <td>1</td>\n",
       "      <td>L</td>\n",
       "      <td>0</td>\n",
       "      <td>0</td>\n",
       "      <td>3</td>\n",
       "      <td>716396400000</td>\n",
       "      <td>Sun 13 Sep 1992, 16:00 BST</td>\n",
       "      <td>0</td>\n",
       "      <td>Leeds United</td>\n",
       "      <td>Leeds United</td>\n",
       "      <td>Leeds</td>\n",
       "      <td>LEE</td>\n",
       "      <td>9</td>\n",
       "      <td>FIRST</td>\n",
       "      <td>Leeds</td>\n",
       "      <td>9</td>\n",
       "      <td>t2</td>\n",
       "      <td>1</td>\n",
       "      <td>Aston Villa</td>\n",
       "      <td>Aston Villa</td>\n",
       "      <td>Aston Villa</td>\n",
       "      <td>AVL</td>\n",
       "      <td>2</td>\n",
       "      <td>FIRST</td>\n",
       "      <td>Aston Villa</td>\n",
       "      <td>2</td>\n",
       "      <td>t7</td>\n",
       "      <td>1</td>\n",
       "      <td>False</td>\n",
       "      <td>Elland Road</td>\n",
       "      <td>Leeds</td>\n",
       "      <td>OPTA</td>\n",
       "      <td>205</td>\n",
       "      <td>False</td>\n",
       "      <td>C</td>\n",
       "      <td>F</td>\n",
       "      <td>D</td>\n",
       "      <td>27817.0</td>\n",
       "      <td>5400</td>\n",
       "      <td>90'00</td>\n",
       "      <td>333</td>\n",
       "      <td>MAIN</td>\n",
       "      <td>{}</td>\n",
       "      <td>Joe Worrall</td>\n",
       "      <td>Joe</td>\n",
       "      <td>Worrall</td>\n",
       "      <td>16883</td>\n",
       "      <td>0</td>\n",
       "      <td>1</td>\n",
       "      <td>NaN</td>\n",
       "      <td>NaN</td>\n",
       "      <td>[]</td>\n",
       "      <td>85</td>\n",
       "      <td>g13757</td>\n",
       "      <td>{}</td>\n",
       "      <td>85</td>\n",
       "      <td>1.0</td>\n",
       "      <td>NaN</td>\n",
       "      <td>NaN</td>\n",
       "      <td>NaN</td>\n",
       "      <td>NaN</td>\n",
       "      <td>NaN</td>\n",
       "      <td>NaN</td>\n",
       "      <td>NaN</td>\n",
       "      <td>NaN</td>\n",
       "      <td>NaN</td>\n",
       "      <td>NaN</td>\n",
       "      <td>NaN</td>\n",
       "      <td>NaN</td>\n",
       "      <td>NaN</td>\n",
       "      <td>NaN</td>\n",
       "      <td>NaN</td>\n",
       "      <td>NaN</td>\n",
       "      <td>NaN</td>\n",
       "      <td>NaN</td>\n",
       "      <td>NaN</td>\n",
       "      <td>NaN</td>\n",
       "      <td>NaN</td>\n",
       "      <td>NaN</td>\n",
       "      <td>NaN</td>\n",
       "      <td>NaN</td>\n",
       "      <td>NaN</td>\n",
       "      <td>NaN</td>\n",
       "      <td>NaN</td>\n",
       "      <td>NaN</td>\n",
       "      <td>NaN</td>\n",
       "      <td>NaN</td>\n",
       "      <td>NaN</td>\n",
       "      <td>NaN</td>\n",
       "      <td>NaN</td>\n",
       "      <td>NaN</td>\n",
       "      <td>NaN</td>\n",
       "      <td>NaN</td>\n",
       "      <td>NaN</td>\n",
       "      <td>NaN</td>\n",
       "      <td>NaN</td>\n",
       "      <td>NaN</td>\n",
       "      <td>NaN</td>\n",
       "      <td>NaN</td>\n",
       "      <td>NaN</td>\n",
       "      <td>NaN</td>\n",
       "      <td>NaN</td>\n",
       "      <td>NaN</td>\n",
       "      <td>NaN</td>\n",
       "      <td>NaN</td>\n",
       "      <td>NaN</td>\n",
       "      <td>NaN</td>\n",
       "      <td>NaN</td>\n",
       "      <td>NaN</td>\n",
       "      <td>NaN</td>\n",
       "      <td>NaN</td>\n",
       "      <td>NaN</td>\n",
       "      <td>NaN</td>\n",
       "      <td>NaN</td>\n",
       "      <td>NaN</td>\n",
       "      <td>NaN</td>\n",
       "      <td>NaN</td>\n",
       "      <td>NaN</td>\n",
       "      <td>NaN</td>\n",
       "      <td>NaN</td>\n",
       "      <td>NaN</td>\n",
       "      <td>NaN</td>\n",
       "      <td>NaN</td>\n",
       "      <td>NaN</td>\n",
       "      <td>NaN</td>\n",
       "      <td>NaN</td>\n",
       "      <td>NaN</td>\n",
       "      <td>NaN</td>\n",
       "      <td>NaN</td>\n",
       "      <td>NaN</td>\n",
       "      <td>NaN</td>\n",
       "      <td>NaN</td>\n",
       "      <td>NaN</td>\n",
       "      <td>NaN</td>\n",
       "      <td>NaN</td>\n",
       "      <td>NaN</td>\n",
       "      <td>NaN</td>\n",
       "      <td>NaN</td>\n",
       "      <td>NaN</td>\n",
       "      <td>NaN</td>\n",
       "      <td>NaN</td>\n",
       "    </tr>\n",
       "    <tr>\n",
       "      <th>3</th>\n",
       "      <td>25</td>\n",
       "      <td>1992/93</td>\n",
       "      <td>EN_PR</td>\n",
       "      <td>Premier League</td>\n",
       "      <td>SEN</td>\n",
       "      <td>NaN</td>\n",
       "      <td>1</td>\n",
       "      <td>8</td>\n",
       "      <td>1</td>\n",
       "      <td>24</td>\n",
       "      <td>1</td>\n",
       "      <td>L</td>\n",
       "      <td>0</td>\n",
       "      <td>0</td>\n",
       "      <td>3</td>\n",
       "      <td>729010800000</td>\n",
       "      <td>Sat 6 Feb 1993, 15:00 GMT</td>\n",
       "      <td>0</td>\n",
       "      <td>Queens Park Rangers</td>\n",
       "      <td>Queens Park Rangers</td>\n",
       "      <td>QPR</td>\n",
       "      <td>QPR</td>\n",
       "      <td>17</td>\n",
       "      <td>FIRST</td>\n",
       "      <td>QPR</td>\n",
       "      <td>17</td>\n",
       "      <td>t52</td>\n",
       "      <td>1</td>\n",
       "      <td>Manchester City</td>\n",
       "      <td>Manchester City</td>\n",
       "      <td>Man City</td>\n",
       "      <td>MCI</td>\n",
       "      <td>11</td>\n",
       "      <td>FIRST</td>\n",
       "      <td>Man City</td>\n",
       "      <td>11</td>\n",
       "      <td>t43</td>\n",
       "      <td>1</td>\n",
       "      <td>False</td>\n",
       "      <td>Loftus Road</td>\n",
       "      <td>London</td>\n",
       "      <td>OPTA</td>\n",
       "      <td>23</td>\n",
       "      <td>False</td>\n",
       "      <td>C</td>\n",
       "      <td>F</td>\n",
       "      <td>D</td>\n",
       "      <td>13003.0</td>\n",
       "      <td>5400</td>\n",
       "      <td>90'00</td>\n",
       "      <td>251</td>\n",
       "      <td>MAIN</td>\n",
       "      <td>{}</td>\n",
       "      <td>Mike Reed</td>\n",
       "      <td>Mike</td>\n",
       "      <td>Reed</td>\n",
       "      <td>16889</td>\n",
       "      <td>0</td>\n",
       "      <td>0</td>\n",
       "      <td>NaN</td>\n",
       "      <td>NaN</td>\n",
       "      <td>[]</td>\n",
       "      <td>289</td>\n",
       "      <td>g16792</td>\n",
       "      <td>{}</td>\n",
       "      <td>289</td>\n",
       "      <td>NaN</td>\n",
       "      <td>NaN</td>\n",
       "      <td>NaN</td>\n",
       "      <td>NaN</td>\n",
       "      <td>NaN</td>\n",
       "      <td>NaN</td>\n",
       "      <td>NaN</td>\n",
       "      <td>NaN</td>\n",
       "      <td>NaN</td>\n",
       "      <td>NaN</td>\n",
       "      <td>NaN</td>\n",
       "      <td>NaN</td>\n",
       "      <td>NaN</td>\n",
       "      <td>NaN</td>\n",
       "      <td>NaN</td>\n",
       "      <td>NaN</td>\n",
       "      <td>NaN</td>\n",
       "      <td>NaN</td>\n",
       "      <td>NaN</td>\n",
       "      <td>NaN</td>\n",
       "      <td>NaN</td>\n",
       "      <td>NaN</td>\n",
       "      <td>NaN</td>\n",
       "      <td>NaN</td>\n",
       "      <td>NaN</td>\n",
       "      <td>NaN</td>\n",
       "      <td>NaN</td>\n",
       "      <td>NaN</td>\n",
       "      <td>NaN</td>\n",
       "      <td>NaN</td>\n",
       "      <td>NaN</td>\n",
       "      <td>NaN</td>\n",
       "      <td>NaN</td>\n",
       "      <td>NaN</td>\n",
       "      <td>NaN</td>\n",
       "      <td>NaN</td>\n",
       "      <td>NaN</td>\n",
       "      <td>NaN</td>\n",
       "      <td>NaN</td>\n",
       "      <td>NaN</td>\n",
       "      <td>NaN</td>\n",
       "      <td>NaN</td>\n",
       "      <td>NaN</td>\n",
       "      <td>NaN</td>\n",
       "      <td>NaN</td>\n",
       "      <td>NaN</td>\n",
       "      <td>NaN</td>\n",
       "      <td>NaN</td>\n",
       "      <td>NaN</td>\n",
       "      <td>NaN</td>\n",
       "      <td>NaN</td>\n",
       "      <td>NaN</td>\n",
       "      <td>NaN</td>\n",
       "      <td>NaN</td>\n",
       "      <td>NaN</td>\n",
       "      <td>NaN</td>\n",
       "      <td>NaN</td>\n",
       "      <td>NaN</td>\n",
       "      <td>NaN</td>\n",
       "      <td>NaN</td>\n",
       "      <td>NaN</td>\n",
       "      <td>NaN</td>\n",
       "      <td>NaN</td>\n",
       "      <td>NaN</td>\n",
       "      <td>NaN</td>\n",
       "      <td>NaN</td>\n",
       "      <td>NaN</td>\n",
       "      <td>NaN</td>\n",
       "      <td>NaN</td>\n",
       "      <td>NaN</td>\n",
       "      <td>NaN</td>\n",
       "      <td>NaN</td>\n",
       "      <td>NaN</td>\n",
       "      <td>NaN</td>\n",
       "      <td>NaN</td>\n",
       "      <td>NaN</td>\n",
       "      <td>NaN</td>\n",
       "      <td>NaN</td>\n",
       "      <td>NaN</td>\n",
       "      <td>NaN</td>\n",
       "      <td>NaN</td>\n",
       "      <td>NaN</td>\n",
       "      <td>NaN</td>\n",
       "      <td>NaN</td>\n",
       "      <td>NaN</td>\n",
       "    </tr>\n",
       "    <tr>\n",
       "      <th>4</th>\n",
       "      <td>2</td>\n",
       "      <td>1992/93</td>\n",
       "      <td>EN_PR</td>\n",
       "      <td>Premier League</td>\n",
       "      <td>SEN</td>\n",
       "      <td>NaN</td>\n",
       "      <td>1</td>\n",
       "      <td>8</td>\n",
       "      <td>1</td>\n",
       "      <td>1</td>\n",
       "      <td>1</td>\n",
       "      <td>L</td>\n",
       "      <td>0</td>\n",
       "      <td>0</td>\n",
       "      <td>3</td>\n",
       "      <td>714249000000</td>\n",
       "      <td>Wed 19 Aug 1992, 19:30 BST</td>\n",
       "      <td>0</td>\n",
       "      <td>Oldham Athletic</td>\n",
       "      <td>Oldham Athletic</td>\n",
       "      <td>Oldham</td>\n",
       "      <td>OLD</td>\n",
       "      <td>16</td>\n",
       "      <td>FIRST</td>\n",
       "      <td>Oldham</td>\n",
       "      <td>16</td>\n",
       "      <td>t105</td>\n",
       "      <td>1</td>\n",
       "      <td>Crystal Palace</td>\n",
       "      <td>Crystal Palace</td>\n",
       "      <td>Crystal Palace</td>\n",
       "      <td>CRY</td>\n",
       "      <td>6</td>\n",
       "      <td>FIRST</td>\n",
       "      <td>Crystal Palace</td>\n",
       "      <td>6</td>\n",
       "      <td>t31</td>\n",
       "      <td>1</td>\n",
       "      <td>False</td>\n",
       "      <td>Boundary Park</td>\n",
       "      <td>Oldham</td>\n",
       "      <td>OPTA</td>\n",
       "      <td>83</td>\n",
       "      <td>False</td>\n",
       "      <td>C</td>\n",
       "      <td>F</td>\n",
       "      <td>D</td>\n",
       "      <td>11063.0</td>\n",
       "      <td>5400</td>\n",
       "      <td>90'00</td>\n",
       "      <td>416</td>\n",
       "      <td>MAIN</td>\n",
       "      <td>{}</td>\n",
       "      <td>Mike Peck</td>\n",
       "      <td>Mike</td>\n",
       "      <td>Peck</td>\n",
       "      <td>16887</td>\n",
       "      <td>1</td>\n",
       "      <td>0</td>\n",
       "      <td>NaN</td>\n",
       "      <td>NaN</td>\n",
       "      <td>[]</td>\n",
       "      <td>19</td>\n",
       "      <td>g15473</td>\n",
       "      <td>{}</td>\n",
       "      <td>19</td>\n",
       "      <td>1.0</td>\n",
       "      <td>NaN</td>\n",
       "      <td>NaN</td>\n",
       "      <td>NaN</td>\n",
       "      <td>NaN</td>\n",
       "      <td>NaN</td>\n",
       "      <td>NaN</td>\n",
       "      <td>NaN</td>\n",
       "      <td>NaN</td>\n",
       "      <td>NaN</td>\n",
       "      <td>NaN</td>\n",
       "      <td>NaN</td>\n",
       "      <td>NaN</td>\n",
       "      <td>NaN</td>\n",
       "      <td>NaN</td>\n",
       "      <td>NaN</td>\n",
       "      <td>NaN</td>\n",
       "      <td>NaN</td>\n",
       "      <td>NaN</td>\n",
       "      <td>NaN</td>\n",
       "      <td>NaN</td>\n",
       "      <td>NaN</td>\n",
       "      <td>NaN</td>\n",
       "      <td>NaN</td>\n",
       "      <td>NaN</td>\n",
       "      <td>NaN</td>\n",
       "      <td>NaN</td>\n",
       "      <td>NaN</td>\n",
       "      <td>NaN</td>\n",
       "      <td>NaN</td>\n",
       "      <td>NaN</td>\n",
       "      <td>NaN</td>\n",
       "      <td>NaN</td>\n",
       "      <td>NaN</td>\n",
       "      <td>NaN</td>\n",
       "      <td>NaN</td>\n",
       "      <td>NaN</td>\n",
       "      <td>NaN</td>\n",
       "      <td>NaN</td>\n",
       "      <td>NaN</td>\n",
       "      <td>NaN</td>\n",
       "      <td>NaN</td>\n",
       "      <td>NaN</td>\n",
       "      <td>NaN</td>\n",
       "      <td>NaN</td>\n",
       "      <td>NaN</td>\n",
       "      <td>NaN</td>\n",
       "      <td>NaN</td>\n",
       "      <td>NaN</td>\n",
       "      <td>NaN</td>\n",
       "      <td>NaN</td>\n",
       "      <td>NaN</td>\n",
       "      <td>NaN</td>\n",
       "      <td>NaN</td>\n",
       "      <td>NaN</td>\n",
       "      <td>NaN</td>\n",
       "      <td>NaN</td>\n",
       "      <td>NaN</td>\n",
       "      <td>NaN</td>\n",
       "      <td>NaN</td>\n",
       "      <td>NaN</td>\n",
       "      <td>NaN</td>\n",
       "      <td>NaN</td>\n",
       "      <td>NaN</td>\n",
       "      <td>NaN</td>\n",
       "      <td>NaN</td>\n",
       "      <td>NaN</td>\n",
       "      <td>NaN</td>\n",
       "      <td>NaN</td>\n",
       "      <td>NaN</td>\n",
       "      <td>NaN</td>\n",
       "      <td>NaN</td>\n",
       "      <td>NaN</td>\n",
       "      <td>NaN</td>\n",
       "      <td>NaN</td>\n",
       "      <td>NaN</td>\n",
       "      <td>NaN</td>\n",
       "      <td>NaN</td>\n",
       "      <td>NaN</td>\n",
       "      <td>NaN</td>\n",
       "      <td>NaN</td>\n",
       "      <td>NaN</td>\n",
       "      <td>NaN</td>\n",
       "      <td>NaN</td>\n",
       "      <td>NaN</td>\n",
       "    </tr>\n",
       "  </tbody>\n",
       "</table>\n",
       "</div>"
      ],
      "text/plain": [
       "   gameweek_id gameweek_compSeason_label  \\\n",
       "0           12                   1992/93   \n",
       "1           11                   1992/93   \n",
       "2            6                   1992/93   \n",
       "3           25                   1992/93   \n",
       "4            2                   1992/93   \n",
       "\n",
       "  gameweek_compSeason_competition_abbreviation  \\\n",
       "0                                        EN_PR   \n",
       "1                                        EN_PR   \n",
       "2                                        EN_PR   \n",
       "3                                        EN_PR   \n",
       "4                                        EN_PR   \n",
       "\n",
       "  gameweek_compSeason_competition_description  \\\n",
       "0                              Premier League   \n",
       "1                              Premier League   \n",
       "2                              Premier League   \n",
       "3                              Premier League   \n",
       "4                              Premier League   \n",
       "\n",
       "  gameweek_compSeason_competition_level  \\\n",
       "0                                   SEN   \n",
       "1                                   SEN   \n",
       "2                                   SEN   \n",
       "3                                   SEN   \n",
       "4                                   SEN   \n",
       "\n",
       "   gameweek_compSeason_competition_source  gameweek_compSeason_competition_id  \\\n",
       "0                                     NaN                                   1   \n",
       "1                                     NaN                                   1   \n",
       "2                                     NaN                                   1   \n",
       "3                                     NaN                                   1   \n",
       "4                                     NaN                                   1   \n",
       "\n",
       "   gameweek_compSeason_competition_altIds_opta  gameweek_compSeason_id  \\\n",
       "0                                            8                       1   \n",
       "1                                            8                       1   \n",
       "2                                            8                       1   \n",
       "3                                            8                       1   \n",
       "4                                            8                       1   \n",
       "\n",
       "   gameweek_gameweek  gameweek_competitionPhase_id  \\\n",
       "0                 11                             1   \n",
       "1                 10                             1   \n",
       "2                  5                             1   \n",
       "3                 24                             1   \n",
       "4                  1                             1   \n",
       "\n",
       "  gameweek_competitionPhase_type  gameweek_competitionPhase_gameweekRange_0  \\\n",
       "0                              L                                          0   \n",
       "1                              L                                          0   \n",
       "2                              L                                          0   \n",
       "3                              L                                          0   \n",
       "4                              L                                          0   \n",
       "\n",
       "   gameweek_competitionPhase_gameweekRange_1  kickoff_completeness  \\\n",
       "0                                          0                     3   \n",
       "1                                          0                     3   \n",
       "2                                          0                     3   \n",
       "3                                          0                     3   \n",
       "4                                          0                     3   \n",
       "\n",
       "   kickoff_millis               kickoff_label  \\\n",
       "0    720543600000  Sat 31 Oct 1992, 15:00 GMT   \n",
       "1    719935200000  Sat 24 Oct 1992, 15:00 BST   \n",
       "2    716396400000  Sun 13 Sep 1992, 16:00 BST   \n",
       "3    729010800000   Sat 6 Feb 1993, 15:00 GMT   \n",
       "4    714249000000  Wed 19 Aug 1992, 19:30 BST   \n",
       "\n",
       "   provisionalKickoff_completeness    teams_0_team_name  \\\n",
       "0                                0    Manchester United   \n",
       "1                                0     Blackburn Rovers   \n",
       "2                                0         Leeds United   \n",
       "3                                0  Queens Park Rangers   \n",
       "4                                0      Oldham Athletic   \n",
       "\n",
       "  teams_0_team_club_name teams_0_team_club_shortName teams_0_team_club_abbr  \\\n",
       "0      Manchester United                     Man Utd                    MUN   \n",
       "1       Blackburn Rovers                   Blackburn                    BLB   \n",
       "2           Leeds United                       Leeds                    LEE   \n",
       "3    Queens Park Rangers                         QPR                    QPR   \n",
       "4        Oldham Athletic                      Oldham                    OLD   \n",
       "\n",
       "   teams_0_team_club_id teams_0_team_teamType teams_0_team_shortName  \\\n",
       "0                    12                 FIRST                Man Utd   \n",
       "1                     3                 FIRST              Blackburn   \n",
       "2                     9                 FIRST                  Leeds   \n",
       "3                    17                 FIRST                    QPR   \n",
       "4                    16                 FIRST                 Oldham   \n",
       "\n",
       "   teams_0_team_id teams_0_team_altIds_opta  teams_0_score  teams_1_team_name  \\\n",
       "0               12                       t1              0          Wimbledon   \n",
       "1                3                       t5              0  Manchester United   \n",
       "2                9                       t2              1        Aston Villa   \n",
       "3               17                      t52              1    Manchester City   \n",
       "4               16                     t105              1     Crystal Palace   \n",
       "\n",
       "  teams_1_team_club_name teams_1_team_club_shortName teams_1_team_club_abbr  \\\n",
       "0              Wimbledon                   Wimbledon                    WIM   \n",
       "1      Manchester United                     Man Utd                    MUN   \n",
       "2            Aston Villa                 Aston Villa                    AVL   \n",
       "3        Manchester City                    Man City                    MCI   \n",
       "4         Crystal Palace              Crystal Palace                    CRY   \n",
       "\n",
       "   teams_1_team_club_id teams_1_team_teamType teams_1_team_shortName  \\\n",
       "0                    22                 FIRST              Wimbledon   \n",
       "1                    12                 FIRST                Man Utd   \n",
       "2                     2                 FIRST            Aston Villa   \n",
       "3                    11                 FIRST               Man City   \n",
       "4                     6                 FIRST         Crystal Palace   \n",
       "\n",
       "   teams_1_team_id teams_1_team_altIds_opta  teams_1_score  replay  \\\n",
       "0               22                    t1736              1   False   \n",
       "1               12                       t1              0   False   \n",
       "2                2                       t7              1   False   \n",
       "3               11                      t43              1   False   \n",
       "4                6                      t31              1   False   \n",
       "\n",
       "     ground_name ground_city ground_source  ground_id neutralGround status  \\\n",
       "0   Old Trafford  Manchester          OPTA          3         False      C   \n",
       "1     Ewood Park   Blackburn          OPTA          5         False      C   \n",
       "2    Elland Road       Leeds          OPTA        205         False      C   \n",
       "3    Loftus Road      London          OPTA         23         False      C   \n",
       "4  Boundary Park      Oldham          OPTA         83         False      C   \n",
       "\n",
       "  phase outcome  attendance  clock_secs clock_label  \\\n",
       "0     F       A     32622.0        5400       90'00   \n",
       "1     F       D     20305.0        5400       90'00   \n",
       "2     F       D     27817.0        5400       90'00   \n",
       "3     F       D     13003.0        5400       90'00   \n",
       "4     F       D     11063.0        5400       90'00   \n",
       "\n",
       "   matchOfficials_0_matchOfficialId matchOfficials_0_role  \\\n",
       "0                               226                  MAIN   \n",
       "1                               456                  MAIN   \n",
       "2                               333                  MAIN   \n",
       "3                               251                  MAIN   \n",
       "4                               416                  MAIN   \n",
       "\n",
       "  matchOfficials_0_birth matchOfficials_0_name_display  \\\n",
       "0                     {}                 Kelvin Morton   \n",
       "1                     {}                     Mike Reed   \n",
       "2                     {}                   Joe Worrall   \n",
       "3                     {}                     Mike Reed   \n",
       "4                     {}                     Mike Peck   \n",
       "\n",
       "  matchOfficials_0_name_first matchOfficials_0_name_last  matchOfficials_0_id  \\\n",
       "0                      Kelvin                     Morton                16881   \n",
       "1                        Mike                       Reed                16889   \n",
       "2                         Joe                    Worrall                16883   \n",
       "3                        Mike                       Reed                16889   \n",
       "4                        Mike                       Peck                16887   \n",
       "\n",
       "   halfTimeScore_homeScore  halfTimeScore_awayScore  teamLists  events  \\\n",
       "0                        0                        0        NaN     NaN   \n",
       "1                        0                        0        NaN     NaN   \n",
       "2                        0                        1        NaN     NaN   \n",
       "3                        0                        0        NaN     NaN   \n",
       "4                        1                        0        NaN     NaN   \n",
       "\n",
       "  penaltyShootouts   id altIds_opta metadata  match_id  kickoff_gmtOffset  \\\n",
       "0               []  147      g16901       {}       147                NaN   \n",
       "1               []  134      g14236       {}       134                1.0   \n",
       "2               []   85      g13757       {}        85                1.0   \n",
       "3               []  289      g16792       {}       289                NaN   \n",
       "4               []   19      g15473       {}        19                1.0   \n",
       "\n",
       "   matchOfficials_1_matchOfficialId matchOfficials_1_role  \\\n",
       "0                               NaN                   NaN   \n",
       "1                               NaN                   NaN   \n",
       "2                               NaN                   NaN   \n",
       "3                               NaN                   NaN   \n",
       "4                               NaN                   NaN   \n",
       "\n",
       "  matchOfficials_1_birth matchOfficials_1_name_display  \\\n",
       "0                    NaN                           NaN   \n",
       "1                    NaN                           NaN   \n",
       "2                    NaN                           NaN   \n",
       "3                    NaN                           NaN   \n",
       "4                    NaN                           NaN   \n",
       "\n",
       "  matchOfficials_1_name_first matchOfficials_1_name_last  matchOfficials_1_id  \\\n",
       "0                         NaN                        NaN                  NaN   \n",
       "1                         NaN                        NaN                  NaN   \n",
       "2                         NaN                        NaN                  NaN   \n",
       "3                         NaN                        NaN                  NaN   \n",
       "4                         NaN                        NaN                  NaN   \n",
       "\n",
       "   provisionalKickoff_millis provisionalKickoff_label  \\\n",
       "0                        NaN                      NaN   \n",
       "1                        NaN                      NaN   \n",
       "2                        NaN                      NaN   \n",
       "3                        NaN                      NaN   \n",
       "4                        NaN                      NaN   \n",
       "\n",
       "   provisionalKickoff_gmtOffset fixtureType extraTime shootout  \\\n",
       "0                           NaN         NaN       NaN      NaN   \n",
       "1                           NaN         NaN       NaN      NaN   \n",
       "2                           NaN         NaN       NaN      NaN   \n",
       "3                           NaN         NaN       NaN      NaN   \n",
       "4                           NaN         NaN       NaN      NaN   \n",
       "\n",
       "   matchOfficials_2_matchOfficialId matchOfficials_2_role  \\\n",
       "0                               NaN                   NaN   \n",
       "1                               NaN                   NaN   \n",
       "2                               NaN                   NaN   \n",
       "3                               NaN                   NaN   \n",
       "4                               NaN                   NaN   \n",
       "\n",
       "  matchOfficials_2_birth matchOfficials_2_name_display  \\\n",
       "0                    NaN                           NaN   \n",
       "1                    NaN                           NaN   \n",
       "2                    NaN                           NaN   \n",
       "3                    NaN                           NaN   \n",
       "4                    NaN                           NaN   \n",
       "\n",
       "  matchOfficials_2_name_first matchOfficials_2_name_last  matchOfficials_2_id  \\\n",
       "0                         NaN                        NaN                  NaN   \n",
       "1                         NaN                        NaN                  NaN   \n",
       "2                         NaN                        NaN                  NaN   \n",
       "3                         NaN                        NaN                  NaN   \n",
       "4                         NaN                        NaN                  NaN   \n",
       "\n",
       "   matchOfficials_3_matchOfficialId matchOfficials_3_role  \\\n",
       "0                               NaN                   NaN   \n",
       "1                               NaN                   NaN   \n",
       "2                               NaN                   NaN   \n",
       "3                               NaN                   NaN   \n",
       "4                               NaN                   NaN   \n",
       "\n",
       "  matchOfficials_3_birth matchOfficials_3_name_display  \\\n",
       "0                    NaN                           NaN   \n",
       "1                    NaN                           NaN   \n",
       "2                    NaN                           NaN   \n",
       "3                    NaN                           NaN   \n",
       "4                    NaN                           NaN   \n",
       "\n",
       "  matchOfficials_3_name_first matchOfficials_3_name_last  matchOfficials_3_id  \\\n",
       "0                         NaN                        NaN                  NaN   \n",
       "1                         NaN                        NaN                  NaN   \n",
       "2                         NaN                        NaN                  NaN   \n",
       "3                         NaN                        NaN                  NaN   \n",
       "4                         NaN                        NaN                  NaN   \n",
       "\n",
       "   matchOfficials_4_matchOfficialId matchOfficials_4_role  \\\n",
       "0                               NaN                   NaN   \n",
       "1                               NaN                   NaN   \n",
       "2                               NaN                   NaN   \n",
       "3                               NaN                   NaN   \n",
       "4                               NaN                   NaN   \n",
       "\n",
       "  matchOfficials_4_birth matchOfficials_4_name_display  \\\n",
       "0                    NaN                           NaN   \n",
       "1                    NaN                           NaN   \n",
       "2                    NaN                           NaN   \n",
       "3                    NaN                           NaN   \n",
       "4                    NaN                           NaN   \n",
       "\n",
       "  matchOfficials_4_name_first matchOfficials_4_name_last  matchOfficials_4_id  \\\n",
       "0                         NaN                        NaN                  NaN   \n",
       "1                         NaN                        NaN                  NaN   \n",
       "2                         NaN                        NaN                  NaN   \n",
       "3                         NaN                        NaN                  NaN   \n",
       "4                         NaN                        NaN                  NaN   \n",
       "\n",
       "  behindClosedDoors  matchOfficials_5_matchOfficialId matchOfficials_5_role  \\\n",
       "0               NaN                               NaN                   NaN   \n",
       "1               NaN                               NaN                   NaN   \n",
       "2               NaN                               NaN                   NaN   \n",
       "3               NaN                               NaN                   NaN   \n",
       "4               NaN                               NaN                   NaN   \n",
       "\n",
       "  matchOfficials_5_birth matchOfficials_5_name_display  \\\n",
       "0                    NaN                           NaN   \n",
       "1                    NaN                           NaN   \n",
       "2                    NaN                           NaN   \n",
       "3                    NaN                           NaN   \n",
       "4                    NaN                           NaN   \n",
       "\n",
       "  matchOfficials_5_name_first matchOfficials_5_name_last  matchOfficials_5_id  \\\n",
       "0                         NaN                        NaN                  NaN   \n",
       "1                         NaN                        NaN                  NaN   \n",
       "2                         NaN                        NaN                  NaN   \n",
       "3                         NaN                        NaN                  NaN   \n",
       "4                         NaN                        NaN                  NaN   \n",
       "\n",
       "   matchOfficials_6_matchOfficialId matchOfficials_6_role  \\\n",
       "0                               NaN                   NaN   \n",
       "1                               NaN                   NaN   \n",
       "2                               NaN                   NaN   \n",
       "3                               NaN                   NaN   \n",
       "4                               NaN                   NaN   \n",
       "\n",
       "  matchOfficials_6_birth matchOfficials_6_name_display  \\\n",
       "0                    NaN                           NaN   \n",
       "1                    NaN                           NaN   \n",
       "2                    NaN                           NaN   \n",
       "3                    NaN                           NaN   \n",
       "4                    NaN                           NaN   \n",
       "\n",
       "  matchOfficials_6_name_first matchOfficials_6_name_last  matchOfficials_6_id  \\\n",
       "0                         NaN                        NaN                  NaN   \n",
       "1                         NaN                        NaN                  NaN   \n",
       "2                         NaN                        NaN                  NaN   \n",
       "3                         NaN                        NaN                  NaN   \n",
       "4                         NaN                        NaN                  NaN   \n",
       "\n",
       "   matchOfficials_7_matchOfficialId matchOfficials_7_role  \\\n",
       "0                               NaN                   NaN   \n",
       "1                               NaN                   NaN   \n",
       "2                               NaN                   NaN   \n",
       "3                               NaN                   NaN   \n",
       "4                               NaN                   NaN   \n",
       "\n",
       "  matchOfficials_7_birth matchOfficials_7_name_display  \\\n",
       "0                    NaN                           NaN   \n",
       "1                    NaN                           NaN   \n",
       "2                    NaN                           NaN   \n",
       "3                    NaN                           NaN   \n",
       "4                    NaN                           NaN   \n",
       "\n",
       "  matchOfficials_7_name_first matchOfficials_7_name_last  matchOfficials_7_id  \\\n",
       "0                         NaN                        NaN                  NaN   \n",
       "1                         NaN                        NaN                  NaN   \n",
       "2                         NaN                        NaN                  NaN   \n",
       "3                         NaN                        NaN                  NaN   \n",
       "4                         NaN                        NaN                  NaN   \n",
       "\n",
       "   matchOfficials_8_matchOfficialId matchOfficials_8_role  \\\n",
       "0                               NaN                   NaN   \n",
       "1                               NaN                   NaN   \n",
       "2                               NaN                   NaN   \n",
       "3                               NaN                   NaN   \n",
       "4                               NaN                   NaN   \n",
       "\n",
       "  matchOfficials_8_birth matchOfficials_8_name_display  \\\n",
       "0                    NaN                           NaN   \n",
       "1                    NaN                           NaN   \n",
       "2                    NaN                           NaN   \n",
       "3                    NaN                           NaN   \n",
       "4                    NaN                           NaN   \n",
       "\n",
       "  matchOfficials_8_name_first matchOfficials_8_name_last  matchOfficials_8_id  \\\n",
       "0                         NaN                        NaN                  NaN   \n",
       "1                         NaN                        NaN                  NaN   \n",
       "2                         NaN                        NaN                  NaN   \n",
       "3                         NaN                        NaN                  NaN   \n",
       "4                         NaN                        NaN                  NaN   \n",
       "\n",
       "   matchOfficials_9_matchOfficialId matchOfficials_9_role  \\\n",
       "0                               NaN                   NaN   \n",
       "1                               NaN                   NaN   \n",
       "2                               NaN                   NaN   \n",
       "3                               NaN                   NaN   \n",
       "4                               NaN                   NaN   \n",
       "\n",
       "  matchOfficials_9_birth matchOfficials_9_name_display  \\\n",
       "0                    NaN                           NaN   \n",
       "1                    NaN                           NaN   \n",
       "2                    NaN                           NaN   \n",
       "3                    NaN                           NaN   \n",
       "4                    NaN                           NaN   \n",
       "\n",
       "  matchOfficials_9_name_first matchOfficials_9_name_last  matchOfficials_9_id  \\\n",
       "0                         NaN                        NaN                  NaN   \n",
       "1                         NaN                        NaN                  NaN   \n",
       "2                         NaN                        NaN                  NaN   \n",
       "3                         NaN                        NaN                  NaN   \n",
       "4                         NaN                        NaN                  NaN   \n",
       "\n",
       "   matchOfficials_10_matchOfficialId matchOfficials_10_role  \\\n",
       "0                                NaN                    NaN   \n",
       "1                                NaN                    NaN   \n",
       "2                                NaN                    NaN   \n",
       "3                                NaN                    NaN   \n",
       "4                                NaN                    NaN   \n",
       "\n",
       "  matchOfficials_10_birth matchOfficials_10_name_display  \\\n",
       "0                     NaN                            NaN   \n",
       "1                     NaN                            NaN   \n",
       "2                     NaN                            NaN   \n",
       "3                     NaN                            NaN   \n",
       "4                     NaN                            NaN   \n",
       "\n",
       "  matchOfficials_10_name_first matchOfficials_10_name_last  \\\n",
       "0                          NaN                         NaN   \n",
       "1                          NaN                         NaN   \n",
       "2                          NaN                         NaN   \n",
       "3                          NaN                         NaN   \n",
       "4                          NaN                         NaN   \n",
       "\n",
       "   matchOfficials_10_id  matchOfficials_11_matchOfficialId  \\\n",
       "0                   NaN                                NaN   \n",
       "1                   NaN                                NaN   \n",
       "2                   NaN                                NaN   \n",
       "3                   NaN                                NaN   \n",
       "4                   NaN                                NaN   \n",
       "\n",
       "  matchOfficials_11_role matchOfficials_11_birth  \\\n",
       "0                    NaN                     NaN   \n",
       "1                    NaN                     NaN   \n",
       "2                    NaN                     NaN   \n",
       "3                    NaN                     NaN   \n",
       "4                    NaN                     NaN   \n",
       "\n",
       "  matchOfficials_11_name_display matchOfficials_11_name_first  \\\n",
       "0                            NaN                          NaN   \n",
       "1                            NaN                          NaN   \n",
       "2                            NaN                          NaN   \n",
       "3                            NaN                          NaN   \n",
       "4                            NaN                          NaN   \n",
       "\n",
       "  matchOfficials_11_name_last  matchOfficials_11_id  \n",
       "0                         NaN                   NaN  \n",
       "1                         NaN                   NaN  \n",
       "2                         NaN                   NaN  \n",
       "3                         NaN                   NaN  \n",
       "4                         NaN                   NaN  "
      ]
     },
     "execution_count": 79,
     "metadata": {},
     "output_type": "execute_result"
    }
   ],
   "source": [
    "df_games.head(5)"
   ]
  },
  {
   "cell_type": "markdown",
   "metadata": {},
   "source": [
    "### Columns renaming \n",
    "Most columns in the datasets are not relevant to this analysis and will be deleted. Other columns have long or are confusing names so they will get renamed."
   ]
  },
  {
   "cell_type": "code",
   "execution_count": 80,
   "metadata": {
    "ExecuteTime": {
     "end_time": "2021-07-24T20:03:28.456907Z",
     "start_time": "2021-07-24T20:03:27.748797Z"
    }
   },
   "outputs": [
    {
     "data": {
      "text/html": [
       "<div>\n",
       "<style scoped>\n",
       "    .dataframe tbody tr th:only-of-type {\n",
       "        vertical-align: middle;\n",
       "    }\n",
       "\n",
       "    .dataframe tbody tr th {\n",
       "        vertical-align: top;\n",
       "    }\n",
       "\n",
       "    .dataframe thead th {\n",
       "        text-align: right;\n",
       "    }\n",
       "</style>\n",
       "<table border=\"1\" class=\"dataframe\">\n",
       "  <thead>\n",
       "    <tr style=\"text-align: right;\">\n",
       "      <th></th>\n",
       "      <th>season</th>\n",
       "      <th>season_id</th>\n",
       "      <th>kickoff_dt</th>\n",
       "      <th>home_team</th>\n",
       "      <th>home_team_abbr</th>\n",
       "      <th>home_team_id</th>\n",
       "      <th>home_score</th>\n",
       "      <th>away_team</th>\n",
       "      <th>away_team_abbr</th>\n",
       "      <th>away_team_id</th>\n",
       "      <th>away_score</th>\n",
       "      <th>stadium</th>\n",
       "      <th>city</th>\n",
       "      <th>outcome</th>\n",
       "      <th>attendance</th>\n",
       "      <th>game_length_secs</th>\n",
       "      <th>clock_label</th>\n",
       "      <th>home_htscore</th>\n",
       "      <th>away_htscore</th>\n",
       "      <th>match_id</th>\n",
       "      <th>closed_doors</th>\n",
       "      <th>referee</th>\n",
       "    </tr>\n",
       "  </thead>\n",
       "  <tbody>\n",
       "    <tr>\n",
       "      <th>0</th>\n",
       "      <td>1992/93</td>\n",
       "      <td>1</td>\n",
       "      <td>Sat 31 Oct 1992, 15:00 GMT</td>\n",
       "      <td>Manchester United</td>\n",
       "      <td>MUN</td>\n",
       "      <td>12</td>\n",
       "      <td>0</td>\n",
       "      <td>Wimbledon</td>\n",
       "      <td>WIM</td>\n",
       "      <td>22</td>\n",
       "      <td>1</td>\n",
       "      <td>Old Trafford</td>\n",
       "      <td>Manchester</td>\n",
       "      <td>A</td>\n",
       "      <td>32622.0</td>\n",
       "      <td>5400</td>\n",
       "      <td>90'00</td>\n",
       "      <td>0</td>\n",
       "      <td>0</td>\n",
       "      <td>147</td>\n",
       "      <td>NaN</td>\n",
       "      <td>Kelvin Morton</td>\n",
       "    </tr>\n",
       "  </tbody>\n",
       "</table>\n",
       "</div>"
      ],
      "text/plain": [
       "    season  season_id                  kickoff_dt          home_team  \\\n",
       "0  1992/93          1  Sat 31 Oct 1992, 15:00 GMT  Manchester United   \n",
       "\n",
       "  home_team_abbr  home_team_id  home_score  away_team away_team_abbr  \\\n",
       "0            MUN            12           0  Wimbledon            WIM   \n",
       "\n",
       "   away_team_id  away_score       stadium        city outcome  attendance  \\\n",
       "0            22           1  Old Trafford  Manchester       A     32622.0   \n",
       "\n",
       "   game_length_secs clock_label  home_htscore  away_htscore  match_id  \\\n",
       "0              5400       90'00             0             0       147   \n",
       "\n",
       "  closed_doors        referee  \n",
       "0          NaN  Kelvin Morton  "
      ]
     },
     "execution_count": 80,
     "metadata": {},
     "output_type": "execute_result"
    }
   ],
   "source": [
    "# Removing all gameweek from the columnbs name. This keyword was present a lot\n",
    "df_games.columns = list(map(lambda x: x.replace(\"gameweek_\", \"\"), df_games.columns))\n",
    "\n",
    "# Creating a list of unnecessary variables\n",
    "unuseful_features = [\n",
    "    \"id\", \"compSeason_competition_level\", \"compSeason_competition_source\",\n",
    "    \"compSeason_competition_id\", \"compSeason_competition_altIds_opta\",\n",
    "    \"competitionPhase_id\", \"competitionPhase_type\",\n",
    "    \"competitionPhase_gameweekRange_0\", \"competitionPhase_gameweekRange_1\",\n",
    "    \"kickoff_completeness\", \"kickoff_gmtOffset\",\n",
    "    \"provisionalKickoff_completeness\", \"teams_0_team_club_name\",\n",
    "    \"teams_0_team_teamType\", \"teams_0_team_shortName\", \"teams_0_team_id\",\n",
    "    \"teams_0_team_altIds_opta\", \"teams_1_team_teamType\",\n",
    "    \"teams_1_team_shortName\", \"teams_1_team_id\", \"teams_1_team_altIds_opta\",\n",
    "    \"replay\", \"ground_source\", \"ground_id\", \"neutralGround\", \"status\", \"phase\",\n",
    "    \"matchOfficials_0_matchOfficialId\", \"matchOfficials_0_role\", \"teamLists\",\n",
    "    \"events\", \"penaltyShootouts\", \"altIds_opta\", \"metadata\",\n",
    "    \"provisionalKickoff_millis\", \"provisionalKickoff_label\",\n",
    "    \"provisionalKickoff_gmtOffset\", \"fixtureType\", \"extraTime\", \"shootout\",\n",
    "    \"teams_0_team_club_name\", \"teamlists\",\n",
    "    \"compSeason_competition_abbreviation\", \"teams_0_team_club_shortName\",\n",
    "    \"compSeason_competition_description\", \"kickoff_millis\",\n",
    "    \"teams_1_team_club_name\", \"teams_1_team_club_shortName\", \"gameweek\"]\n",
    "\n",
    "\n",
    "referee = df_games[\"matchOfficials_0_name_display\"]\n",
    "\n",
    "\n",
    "# Removing thoses variables\n",
    "for col in df_games.columns:\n",
    "    if col in unuseful_features or \"matchOfficials\" in col or \"teamLists_\" in col:\n",
    "        try:\n",
    "            df_games.drop(col, axis=1, inplace=True)\n",
    "        except: ...\n",
    "\n",
    "            \n",
    "# Creating a list of new names\n",
    "replace = {\n",
    "    \"compSeason_label\": \"season\",\n",
    "    \"compSeason_competition_abbreviation\": \"season_abbr\",\n",
    "    \"compSeason_id\": \"season_id\",\n",
    "    \"kickoff_label\": \"kickoff_dt\",\n",
    "    \"teams_0_team_name\": \"home_team\",\n",
    "    \"teams_0_team_club_abbr\": \"home_team_abbr\",\n",
    "    \"teams_0_team_club_id\": \"home_team_id\",\n",
    "    \"teams_0_score\": \"home_score\",\n",
    "    \"teams_1_team_name\": \"away_team\",\n",
    "    \"teams_1_team_club_abbr\": \"away_team_abbr\",\n",
    "    \"teams_1_team_club_id\": \"away_team_id\",\n",
    "    \"teams_1_score\": \"away_score\",\n",
    "    \"ground_name\": \"stadium\",\n",
    "    \"ground_city\": \"city\",\n",
    "    \"clock_secs\": \"game_length_secs\",\n",
    "    \"matchOfficials_0_name_first\": \"referee_firstname\",\n",
    "    \"matchOfficials_0_name_last\": \"referee_lastname\",\n",
    "    \"halfTimeScore_homeScore\": \"home_htscore\",\n",
    "    \"halfTimeScore_awayScore\": \"away_htscore\",\n",
    "    \"Match ID\": \"match_id\",\n",
    "    \"behindClosedDoors\": \"closed_doors\", \n",
    "    \"Match ID\": \"match_id\"}\n",
    "\n",
    "\n",
    "# Renaming columns with the dictionary \n",
    "df_games.rename(columns=replace, inplace=True)\n",
    "df_games[\"referee\"] = referee\n",
    "    \n",
    "df_games.head(1)"
   ]
  },
  {
   "cell_type": "markdown",
   "metadata": {},
   "source": [
    "### Describe"
   ]
  },
  {
   "cell_type": "code",
   "execution_count": 81,
   "metadata": {
    "ExecuteTime": {
     "end_time": "2021-07-24T20:03:28.505224Z",
     "start_time": "2021-07-24T20:03:28.459906Z"
    }
   },
   "outputs": [
    {
     "data": {
      "text/html": [
       "<div>\n",
       "<style scoped>\n",
       "    .dataframe tbody tr th:only-of-type {\n",
       "        vertical-align: middle;\n",
       "    }\n",
       "\n",
       "    .dataframe tbody tr th {\n",
       "        vertical-align: top;\n",
       "    }\n",
       "\n",
       "    .dataframe thead th {\n",
       "        text-align: right;\n",
       "    }\n",
       "</style>\n",
       "<table border=\"1\" class=\"dataframe\">\n",
       "  <thead>\n",
       "    <tr style=\"text-align: right;\">\n",
       "      <th></th>\n",
       "      <th>season</th>\n",
       "      <th>season_id</th>\n",
       "      <th>kickoff_dt</th>\n",
       "      <th>home_team</th>\n",
       "      <th>home_team_abbr</th>\n",
       "      <th>home_team_id</th>\n",
       "      <th>home_score</th>\n",
       "      <th>away_team</th>\n",
       "      <th>away_team_abbr</th>\n",
       "      <th>away_team_id</th>\n",
       "      <th>away_score</th>\n",
       "      <th>stadium</th>\n",
       "      <th>city</th>\n",
       "      <th>outcome</th>\n",
       "      <th>attendance</th>\n",
       "      <th>game_length_secs</th>\n",
       "      <th>clock_label</th>\n",
       "      <th>home_htscore</th>\n",
       "      <th>away_htscore</th>\n",
       "      <th>match_id</th>\n",
       "      <th>closed_doors</th>\n",
       "      <th>referee</th>\n",
       "    </tr>\n",
       "  </thead>\n",
       "  <tbody>\n",
       "    <tr>\n",
       "      <th>count</th>\n",
       "      <td>11267</td>\n",
       "      <td>11267.00</td>\n",
       "      <td>11267</td>\n",
       "      <td>11267</td>\n",
       "      <td>11267</td>\n",
       "      <td>11267.00</td>\n",
       "      <td>11267.00</td>\n",
       "      <td>11267</td>\n",
       "      <td>11267</td>\n",
       "      <td>11267.00</td>\n",
       "      <td>11267.00</td>\n",
       "      <td>11267</td>\n",
       "      <td>11267</td>\n",
       "      <td>11267</td>\n",
       "      <td>10307.00</td>\n",
       "      <td>11267.00</td>\n",
       "      <td>11267</td>\n",
       "      <td>11267.00</td>\n",
       "      <td>11267.00</td>\n",
       "      <td>11267.00</td>\n",
       "      <td>1900</td>\n",
       "      <td>11267</td>\n",
       "    </tr>\n",
       "    <tr>\n",
       "      <th>unique</th>\n",
       "      <td>29</td>\n",
       "      <td>NaN</td>\n",
       "      <td>5308</td>\n",
       "      <td>49</td>\n",
       "      <td>49</td>\n",
       "      <td>NaN</td>\n",
       "      <td>NaN</td>\n",
       "      <td>49</td>\n",
       "      <td>49</td>\n",
       "      <td>NaN</td>\n",
       "      <td>NaN</td>\n",
       "      <td>70</td>\n",
       "      <td>37</td>\n",
       "      <td>3</td>\n",
       "      <td>NaN</td>\n",
       "      <td>NaN</td>\n",
       "      <td>15</td>\n",
       "      <td>NaN</td>\n",
       "      <td>NaN</td>\n",
       "      <td>NaN</td>\n",
       "      <td>2</td>\n",
       "      <td>111</td>\n",
       "    </tr>\n",
       "    <tr>\n",
       "      <th>top</th>\n",
       "      <td>1992/93</td>\n",
       "      <td>NaN</td>\n",
       "      <td>Sat 31 Oct 1992, 15:00 GMT</td>\n",
       "      <td>Manchester United</td>\n",
       "      <td>MUN</td>\n",
       "      <td>NaN</td>\n",
       "      <td>NaN</td>\n",
       "      <td>Tottenham Hotspur</td>\n",
       "      <td>TOT</td>\n",
       "      <td>NaN</td>\n",
       "      <td>NaN</td>\n",
       "      <td>Old Trafford</td>\n",
       "      <td>London</td>\n",
       "      <td>H</td>\n",
       "      <td>NaN</td>\n",
       "      <td>NaN</td>\n",
       "      <td>90'00</td>\n",
       "      <td>NaN</td>\n",
       "      <td>NaN</td>\n",
       "      <td>NaN</td>\n",
       "      <td>False</td>\n",
       "      <td>Mike Dean</td>\n",
       "    </tr>\n",
       "    <tr>\n",
       "      <th>freq</th>\n",
       "      <td>463</td>\n",
       "      <td>NaN</td>\n",
       "      <td>10</td>\n",
       "      <td>558</td>\n",
       "      <td>558</td>\n",
       "      <td>NaN</td>\n",
       "      <td>NaN</td>\n",
       "      <td>557</td>\n",
       "      <td>557</td>\n",
       "      <td>NaN</td>\n",
       "      <td>NaN</td>\n",
       "      <td>558</td>\n",
       "      <td>3116</td>\n",
       "      <td>5172</td>\n",
       "      <td>NaN</td>\n",
       "      <td>NaN</td>\n",
       "      <td>4422</td>\n",
       "      <td>NaN</td>\n",
       "      <td>NaN</td>\n",
       "      <td>NaN</td>\n",
       "      <td>1463</td>\n",
       "      <td>534</td>\n",
       "    </tr>\n",
       "    <tr>\n",
       "      <th>mean</th>\n",
       "      <td>NaN</td>\n",
       "      <td>43.96</td>\n",
       "      <td>NaN</td>\n",
       "      <td>NaN</td>\n",
       "      <td>NaN</td>\n",
       "      <td>20.21</td>\n",
       "      <td>1.52</td>\n",
       "      <td>NaN</td>\n",
       "      <td>NaN</td>\n",
       "      <td>20.21</td>\n",
       "      <td>1.13</td>\n",
       "      <td>NaN</td>\n",
       "      <td>NaN</td>\n",
       "      <td>NaN</td>\n",
       "      <td>32610.77</td>\n",
       "      <td>5570.19</td>\n",
       "      <td>NaN</td>\n",
       "      <td>0.68</td>\n",
       "      <td>0.49</td>\n",
       "      <td>10176.32</td>\n",
       "      <td>NaN</td>\n",
       "      <td>NaN</td>\n",
       "    </tr>\n",
       "    <tr>\n",
       "      <th>std</th>\n",
       "      <td>NaN</td>\n",
       "      <td>83.98</td>\n",
       "      <td>NaN</td>\n",
       "      <td>NaN</td>\n",
       "      <td>NaN</td>\n",
       "      <td>19.98</td>\n",
       "      <td>1.30</td>\n",
       "      <td>NaN</td>\n",
       "      <td>NaN</td>\n",
       "      <td>19.98</td>\n",
       "      <td>1.13</td>\n",
       "      <td>NaN</td>\n",
       "      <td>NaN</td>\n",
       "      <td>NaN</td>\n",
       "      <td>13774.27</td>\n",
       "      <td>151.22</td>\n",
       "      <td>NaN</td>\n",
       "      <td>0.84</td>\n",
       "      <td>0.71</td>\n",
       "      <td>13777.29</td>\n",
       "      <td>NaN</td>\n",
       "      <td>NaN</td>\n",
       "    </tr>\n",
       "    <tr>\n",
       "      <th>min</th>\n",
       "      <td>NaN</td>\n",
       "      <td>1.00</td>\n",
       "      <td>NaN</td>\n",
       "      <td>NaN</td>\n",
       "      <td>NaN</td>\n",
       "      <td>1.00</td>\n",
       "      <td>0.00</td>\n",
       "      <td>NaN</td>\n",
       "      <td>NaN</td>\n",
       "      <td>1.00</td>\n",
       "      <td>0.00</td>\n",
       "      <td>NaN</td>\n",
       "      <td>NaN</td>\n",
       "      <td>NaN</td>\n",
       "      <td>2000.00</td>\n",
       "      <td>5400.00</td>\n",
       "      <td>NaN</td>\n",
       "      <td>0.00</td>\n",
       "      <td>0.00</td>\n",
       "      <td>1.00</td>\n",
       "      <td>NaN</td>\n",
       "      <td>NaN</td>\n",
       "    </tr>\n",
       "    <tr>\n",
       "      <th>25%</th>\n",
       "      <td>NaN</td>\n",
       "      <td>7.00</td>\n",
       "      <td>NaN</td>\n",
       "      <td>NaN</td>\n",
       "      <td>NaN</td>\n",
       "      <td>7.00</td>\n",
       "      <td>1.00</td>\n",
       "      <td>NaN</td>\n",
       "      <td>NaN</td>\n",
       "      <td>7.00</td>\n",
       "      <td>0.00</td>\n",
       "      <td>NaN</td>\n",
       "      <td>NaN</td>\n",
       "      <td>NaN</td>\n",
       "      <td>22863.50</td>\n",
       "      <td>5400.00</td>\n",
       "      <td>NaN</td>\n",
       "      <td>0.00</td>\n",
       "      <td>0.00</td>\n",
       "      <td>2816.50</td>\n",
       "      <td>NaN</td>\n",
       "      <td>NaN</td>\n",
       "    </tr>\n",
       "    <tr>\n",
       "      <th>50%</th>\n",
       "      <td>NaN</td>\n",
       "      <td>15.00</td>\n",
       "      <td>NaN</td>\n",
       "      <td>NaN</td>\n",
       "      <td>NaN</td>\n",
       "      <td>18.00</td>\n",
       "      <td>1.00</td>\n",
       "      <td>NaN</td>\n",
       "      <td>NaN</td>\n",
       "      <td>18.00</td>\n",
       "      <td>1.00</td>\n",
       "      <td>NaN</td>\n",
       "      <td>NaN</td>\n",
       "      <td>NaN</td>\n",
       "      <td>30461.00</td>\n",
       "      <td>5640.00</td>\n",
       "      <td>NaN</td>\n",
       "      <td>0.00</td>\n",
       "      <td>0.00</td>\n",
       "      <td>5633.00</td>\n",
       "      <td>NaN</td>\n",
       "      <td>NaN</td>\n",
       "    </tr>\n",
       "    <tr>\n",
       "      <th>75%</th>\n",
       "      <td>NaN</td>\n",
       "      <td>22.00</td>\n",
       "      <td>NaN</td>\n",
       "      <td>NaN</td>\n",
       "      <td>NaN</td>\n",
       "      <td>27.00</td>\n",
       "      <td>2.00</td>\n",
       "      <td>NaN</td>\n",
       "      <td>NaN</td>\n",
       "      <td>27.00</td>\n",
       "      <td>2.00</td>\n",
       "      <td>NaN</td>\n",
       "      <td>NaN</td>\n",
       "      <td>NaN</td>\n",
       "      <td>39505.00</td>\n",
       "      <td>5700.00</td>\n",
       "      <td>NaN</td>\n",
       "      <td>1.00</td>\n",
       "      <td>1.00</td>\n",
       "      <td>9453.50</td>\n",
       "      <td>NaN</td>\n",
       "      <td>NaN</td>\n",
       "    </tr>\n",
       "    <tr>\n",
       "      <th>max</th>\n",
       "      <td>NaN</td>\n",
       "      <td>363.00</td>\n",
       "      <td>NaN</td>\n",
       "      <td>NaN</td>\n",
       "      <td>NaN</td>\n",
       "      <td>159.00</td>\n",
       "      <td>9.00</td>\n",
       "      <td>NaN</td>\n",
       "      <td>NaN</td>\n",
       "      <td>159.00</td>\n",
       "      <td>9.00</td>\n",
       "      <td>NaN</td>\n",
       "      <td>NaN</td>\n",
       "      <td>NaN</td>\n",
       "      <td>83222.00</td>\n",
       "      <td>6480.00</td>\n",
       "      <td>NaN</td>\n",
       "      <td>5.00</td>\n",
       "      <td>5.00</td>\n",
       "      <td>59275.00</td>\n",
       "      <td>NaN</td>\n",
       "      <td>NaN</td>\n",
       "    </tr>\n",
       "  </tbody>\n",
       "</table>\n",
       "</div>"
      ],
      "text/plain": [
       "         season  season_id                  kickoff_dt          home_team  \\\n",
       "count     11267   11267.00                       11267              11267   \n",
       "unique       29        NaN                        5308                 49   \n",
       "top     1992/93        NaN  Sat 31 Oct 1992, 15:00 GMT  Manchester United   \n",
       "freq        463        NaN                          10                558   \n",
       "mean        NaN      43.96                         NaN                NaN   \n",
       "std         NaN      83.98                         NaN                NaN   \n",
       "min         NaN       1.00                         NaN                NaN   \n",
       "25%         NaN       7.00                         NaN                NaN   \n",
       "50%         NaN      15.00                         NaN                NaN   \n",
       "75%         NaN      22.00                         NaN                NaN   \n",
       "max         NaN     363.00                         NaN                NaN   \n",
       "\n",
       "       home_team_abbr  home_team_id  home_score          away_team  \\\n",
       "count           11267      11267.00    11267.00              11267   \n",
       "unique             49           NaN         NaN                 49   \n",
       "top               MUN           NaN         NaN  Tottenham Hotspur   \n",
       "freq              558           NaN         NaN                557   \n",
       "mean              NaN         20.21        1.52                NaN   \n",
       "std               NaN         19.98        1.30                NaN   \n",
       "min               NaN          1.00        0.00                NaN   \n",
       "25%               NaN          7.00        1.00                NaN   \n",
       "50%               NaN         18.00        1.00                NaN   \n",
       "75%               NaN         27.00        2.00                NaN   \n",
       "max               NaN        159.00        9.00                NaN   \n",
       "\n",
       "       away_team_abbr  away_team_id  away_score       stadium    city outcome  \\\n",
       "count           11267      11267.00    11267.00         11267   11267   11267   \n",
       "unique             49           NaN         NaN            70      37       3   \n",
       "top               TOT           NaN         NaN  Old Trafford  London       H   \n",
       "freq              557           NaN         NaN           558    3116    5172   \n",
       "mean              NaN         20.21        1.13           NaN     NaN     NaN   \n",
       "std               NaN         19.98        1.13           NaN     NaN     NaN   \n",
       "min               NaN          1.00        0.00           NaN     NaN     NaN   \n",
       "25%               NaN          7.00        0.00           NaN     NaN     NaN   \n",
       "50%               NaN         18.00        1.00           NaN     NaN     NaN   \n",
       "75%               NaN         27.00        2.00           NaN     NaN     NaN   \n",
       "max               NaN        159.00        9.00           NaN     NaN     NaN   \n",
       "\n",
       "        attendance  game_length_secs clock_label  home_htscore  away_htscore  \\\n",
       "count     10307.00          11267.00       11267      11267.00      11267.00   \n",
       "unique         NaN               NaN          15           NaN           NaN   \n",
       "top            NaN               NaN       90'00           NaN           NaN   \n",
       "freq           NaN               NaN        4422           NaN           NaN   \n",
       "mean      32610.77           5570.19         NaN          0.68          0.49   \n",
       "std       13774.27            151.22         NaN          0.84          0.71   \n",
       "min        2000.00           5400.00         NaN          0.00          0.00   \n",
       "25%       22863.50           5400.00         NaN          0.00          0.00   \n",
       "50%       30461.00           5640.00         NaN          0.00          0.00   \n",
       "75%       39505.00           5700.00         NaN          1.00          1.00   \n",
       "max       83222.00           6480.00         NaN          5.00          5.00   \n",
       "\n",
       "        match_id closed_doors    referee  \n",
       "count   11267.00         1900      11267  \n",
       "unique       NaN            2        111  \n",
       "top          NaN        False  Mike Dean  \n",
       "freq         NaN         1463        534  \n",
       "mean    10176.32          NaN        NaN  \n",
       "std     13777.29          NaN        NaN  \n",
       "min         1.00          NaN        NaN  \n",
       "25%      2816.50          NaN        NaN  \n",
       "50%      5633.00          NaN        NaN  \n",
       "75%      9453.50          NaN        NaN  \n",
       "max     59275.00          NaN        NaN  "
      ]
     },
     "execution_count": 81,
     "metadata": {},
     "output_type": "execute_result"
    }
   ],
   "source": [
    "df_games.describe(include=\"all\").round(2)"
   ]
  },
  {
   "cell_type": "markdown",
   "metadata": {},
   "source": [
    "We can already understands some things that happened in Premier League. The highest number of goals scored at home or away is `9` goals which is an insane number that almost never happens"
   ]
  },
  {
   "cell_type": "markdown",
   "metadata": {},
   "source": [
    "### Infos\n",
    "Changing `kickoff_dt` type to have it correctly in `.info()`."
   ]
  },
  {
   "cell_type": "code",
   "execution_count": null,
   "metadata": {
    "ExecuteTime": {
     "end_time": "2021-07-18T15:02:22.233901Z",
     "start_time": "2021-07-18T15:02:22.229738Z"
    }
   },
   "outputs": [],
   "source": []
  },
  {
   "cell_type": "code",
   "execution_count": 82,
   "metadata": {
    "ExecuteTime": {
     "end_time": "2021-07-24T20:03:28.605708Z",
     "start_time": "2021-07-24T20:03:28.505912Z"
    }
   },
   "outputs": [],
   "source": [
    "for col in df_games.columns:\n",
    "    df_games[col] = df_games[col].apply(lambda x: x.lower() if type(x)==str else x)\n",
    "    \n",
    "    \n",
    "df_games[\"kickoff_dt\"] = df_games[\"kickoff_dt\"].apply(lambda x: x.replace(\"bst\", \"\")\n",
    "                                                                 .replace(\"gmt\",\"\")\n",
    "                                                                 .replace(\",\",\"\")\n",
    "                                                                 .strip())\n",
    "\n",
    "df_games[\"kickoff_dt\"] = pd.to_datetime(df_games[\"kickoff_dt\"], format='%a %d %b %Y %H:%M')"
   ]
  },
  {
   "cell_type": "code",
   "execution_count": 83,
   "metadata": {
    "ExecuteTime": {
     "end_time": "2021-07-24T20:03:28.635339Z",
     "start_time": "2021-07-24T20:03:28.606322Z"
    }
   },
   "outputs": [
    {
     "name": "stdout",
     "output_type": "stream",
     "text": [
      "<class 'pandas.core.frame.DataFrame'>\n",
      "RangeIndex: 11267 entries, 0 to 11266\n",
      "Data columns (total 22 columns):\n",
      " #   Column            Non-Null Count  Dtype         \n",
      "---  ------            --------------  -----         \n",
      " 0   season            11267 non-null  object        \n",
      " 1   season_id         11267 non-null  int64         \n",
      " 2   kickoff_dt        11267 non-null  datetime64[ns]\n",
      " 3   home_team         11267 non-null  object        \n",
      " 4   home_team_abbr    11267 non-null  object        \n",
      " 5   home_team_id      11267 non-null  int64         \n",
      " 6   home_score        11267 non-null  int64         \n",
      " 7   away_team         11267 non-null  object        \n",
      " 8   away_team_abbr    11267 non-null  object        \n",
      " 9   away_team_id      11267 non-null  int64         \n",
      " 10  away_score        11267 non-null  int64         \n",
      " 11  stadium           11267 non-null  object        \n",
      " 12  city              11267 non-null  object        \n",
      " 13  outcome           11267 non-null  object        \n",
      " 14  attendance        10307 non-null  float64       \n",
      " 15  game_length_secs  11267 non-null  int64         \n",
      " 16  clock_label       11267 non-null  object        \n",
      " 17  home_htscore      11267 non-null  int64         \n",
      " 18  away_htscore      11267 non-null  int64         \n",
      " 19  match_id          11267 non-null  int64         \n",
      " 20  closed_doors      1900 non-null   object        \n",
      " 21  referee           11267 non-null  object        \n",
      "dtypes: datetime64[ns](1), float64(1), int64(9), object(11)\n",
      "memory usage: 1.9+ MB\n"
     ]
    }
   ],
   "source": [
    "df_games.info()"
   ]
  },
  {
   "cell_type": "markdown",
   "metadata": {},
   "source": [
    "All columns seems to have their corresponding data type."
   ]
  },
  {
   "cell_type": "markdown",
   "metadata": {},
   "source": [
    "### Missing values"
   ]
  },
  {
   "cell_type": "code",
   "execution_count": 84,
   "metadata": {
    "ExecuteTime": {
     "end_time": "2021-07-24T20:03:28.646679Z",
     "start_time": "2021-07-24T20:03:28.639421Z"
    }
   },
   "outputs": [
    {
     "data": {
      "text/html": [
       "<div>\n",
       "<style scoped>\n",
       "    .dataframe tbody tr th:only-of-type {\n",
       "        vertical-align: middle;\n",
       "    }\n",
       "\n",
       "    .dataframe tbody tr th {\n",
       "        vertical-align: top;\n",
       "    }\n",
       "\n",
       "    .dataframe thead th {\n",
       "        text-align: right;\n",
       "    }\n",
       "</style>\n",
       "<table border=\"1\" class=\"dataframe\">\n",
       "  <thead>\n",
       "    <tr style=\"text-align: right;\">\n",
       "      <th></th>\n",
       "      <th>missing_val_count</th>\n",
       "      <th>missing_val_percent</th>\n",
       "    </tr>\n",
       "  </thead>\n",
       "  <tbody>\n",
       "    <tr>\n",
       "      <th>attendance</th>\n",
       "      <td>960</td>\n",
       "      <td>8.5</td>\n",
       "    </tr>\n",
       "    <tr>\n",
       "      <th>closed_doors</th>\n",
       "      <td>9367</td>\n",
       "      <td>83.1</td>\n",
       "    </tr>\n",
       "  </tbody>\n",
       "</table>\n",
       "</div>"
      ],
      "text/plain": [
       "              missing_val_count  missing_val_percent\n",
       "attendance                  960                  8.5\n",
       "closed_doors               9367                 83.1"
      ]
     },
     "metadata": {},
     "output_type": "display_data"
    }
   ],
   "source": [
    "missing(df_games)"
   ]
  },
  {
   "cell_type": "code",
   "execution_count": 85,
   "metadata": {
    "ExecuteTime": {
     "end_time": "2021-07-24T20:03:29.169896Z",
     "start_time": "2021-07-24T20:03:28.647373Z"
    }
   },
   "outputs": [
    {
     "data": {
      "image/png": "[encoded data removed]",
      "text/plain": [
       "<Figure size 1440x648 with 4 Axes>"
      ]
     },
     "metadata": {},
     "output_type": "display_data"
    }
   ],
   "source": [
    "klib.missingval_plot(df_games, figsize=(20, 9));"
   ]
  },
  {
   "cell_type": "markdown",
   "metadata": {},
   "source": [
    "This visual describes the missing values in the dataset. See it as a copy of the entire dataset where missing values are replaced by thin black lines and non-missing values by white.\n",
    "\n",
    "Here we can see that most of the missing values come from the `attendance` and `closed_doors`. \n",
    "After some research, it seems like the `attendance` for the games around the 6000th row were not recorded. the lasts one are mostly due to Covid-19 and closed stadiums.\n",
    "For the closed doors this "
   ]
  },
  {
   "cell_type": "code",
   "execution_count": 86,
   "metadata": {
    "ExecuteTime": {
     "end_time": "2021-07-24T20:03:29.184341Z",
     "start_time": "2021-07-24T20:03:29.170506Z"
    }
   },
   "outputs": [
    {
     "data": {
      "text/html": [
       "<div>\n",
       "<style scoped>\n",
       "    .dataframe tbody tr th:only-of-type {\n",
       "        vertical-align: middle;\n",
       "    }\n",
       "\n",
       "    .dataframe tbody tr th {\n",
       "        vertical-align: top;\n",
       "    }\n",
       "\n",
       "    .dataframe thead th {\n",
       "        text-align: right;\n",
       "    }\n",
       "</style>\n",
       "<table border=\"1\" class=\"dataframe\">\n",
       "  <thead>\n",
       "    <tr style=\"text-align: right;\">\n",
       "      <th></th>\n",
       "      <th>season</th>\n",
       "      <th>season_id</th>\n",
       "      <th>kickoff_dt</th>\n",
       "      <th>home_team</th>\n",
       "      <th>home_team_abbr</th>\n",
       "      <th>home_team_id</th>\n",
       "      <th>home_score</th>\n",
       "      <th>away_team</th>\n",
       "      <th>away_team_abbr</th>\n",
       "      <th>away_team_id</th>\n",
       "      <th>away_score</th>\n",
       "      <th>stadium</th>\n",
       "      <th>city</th>\n",
       "      <th>outcome</th>\n",
       "      <th>attendance</th>\n",
       "      <th>game_length_secs</th>\n",
       "      <th>clock_label</th>\n",
       "      <th>home_htscore</th>\n",
       "      <th>away_htscore</th>\n",
       "      <th>match_id</th>\n",
       "      <th>closed_doors</th>\n",
       "      <th>referee</th>\n",
       "    </tr>\n",
       "  </thead>\n",
       "  <tbody>\n",
       "    <tr>\n",
       "      <th>8606</th>\n",
       "      <td>2014/15</td>\n",
       "      <td>27</td>\n",
       "      <td>2014-12-07 16:00:00</td>\n",
       "      <td>aston villa</td>\n",
       "      <td>avl</td>\n",
       "      <td>2</td>\n",
       "      <td>2</td>\n",
       "      <td>leicester city</td>\n",
       "      <td>lei</td>\n",
       "      <td>26</td>\n",
       "      <td>1</td>\n",
       "      <td>villa park</td>\n",
       "      <td>birmingham</td>\n",
       "      <td>h</td>\n",
       "      <td>27692.0</td>\n",
       "      <td>5700</td>\n",
       "      <td>90 +5'00</td>\n",
       "      <td>1</td>\n",
       "      <td>1</td>\n",
       "      <td>9758</td>\n",
       "      <td>False</td>\n",
       "      <td>craig pawson</td>\n",
       "    </tr>\n",
       "    <tr>\n",
       "      <th>8607</th>\n",
       "      <td>2014/15</td>\n",
       "      <td>27</td>\n",
       "      <td>2014-12-26 15:00:00</td>\n",
       "      <td>sunderland</td>\n",
       "      <td>sun</td>\n",
       "      <td>29</td>\n",
       "      <td>1</td>\n",
       "      <td>hull city</td>\n",
       "      <td>hul</td>\n",
       "      <td>41</td>\n",
       "      <td>3</td>\n",
       "      <td>stadium of light</td>\n",
       "      <td>sunderland</td>\n",
       "      <td>a</td>\n",
       "      <td>44817.0</td>\n",
       "      <td>5880</td>\n",
       "      <td>90 +8'00</td>\n",
       "      <td>1</td>\n",
       "      <td>1</td>\n",
       "      <td>9788</td>\n",
       "      <td>False</td>\n",
       "      <td>andre marriner</td>\n",
       "    </tr>\n",
       "    <tr>\n",
       "      <th>8608</th>\n",
       "      <td>2014/15</td>\n",
       "      <td>27</td>\n",
       "      <td>2015-03-22 16:00:00</td>\n",
       "      <td>queens park rangers</td>\n",
       "      <td>qpr</td>\n",
       "      <td>17</td>\n",
       "      <td>1</td>\n",
       "      <td>everton</td>\n",
       "      <td>eve</td>\n",
       "      <td>7</td>\n",
       "      <td>2</td>\n",
       "      <td>loftus road</td>\n",
       "      <td>london</td>\n",
       "      <td>a</td>\n",
       "      <td>17706.0</td>\n",
       "      <td>5760</td>\n",
       "      <td>90 +6'00</td>\n",
       "      <td>0</td>\n",
       "      <td>1</td>\n",
       "      <td>9909</td>\n",
       "      <td>False</td>\n",
       "      <td>jonathan moss</td>\n",
       "    </tr>\n",
       "    <tr>\n",
       "      <th>8609</th>\n",
       "      <td>2014/15</td>\n",
       "      <td>27</td>\n",
       "      <td>2014-11-08 15:00:00</td>\n",
       "      <td>west ham united</td>\n",
       "      <td>whu</td>\n",
       "      <td>25</td>\n",
       "      <td>0</td>\n",
       "      <td>aston villa</td>\n",
       "      <td>avl</td>\n",
       "      <td>2</td>\n",
       "      <td>0</td>\n",
       "      <td>boleyn ground</td>\n",
       "      <td>london</td>\n",
       "      <td>d</td>\n",
       "      <td>34857.0</td>\n",
       "      <td>5760</td>\n",
       "      <td>90 +6'00</td>\n",
       "      <td>0</td>\n",
       "      <td>0</td>\n",
       "      <td>9716</td>\n",
       "      <td>False</td>\n",
       "      <td>jonathan moss</td>\n",
       "    </tr>\n",
       "    <tr>\n",
       "      <th>8610</th>\n",
       "      <td>2014/15</td>\n",
       "      <td>27</td>\n",
       "      <td>2014-11-01 15:00:00</td>\n",
       "      <td>leicester city</td>\n",
       "      <td>lei</td>\n",
       "      <td>26</td>\n",
       "      <td>0</td>\n",
       "      <td>west bromwich albion</td>\n",
       "      <td>wba</td>\n",
       "      <td>36</td>\n",
       "      <td>1</td>\n",
       "      <td>king power stadium</td>\n",
       "      <td>leicester</td>\n",
       "      <td>a</td>\n",
       "      <td>31819.0</td>\n",
       "      <td>5760</td>\n",
       "      <td>90 +6'00</td>\n",
       "      <td>0</td>\n",
       "      <td>0</td>\n",
       "      <td>9705</td>\n",
       "      <td>False</td>\n",
       "      <td>stuart attwell</td>\n",
       "    </tr>\n",
       "    <tr>\n",
       "      <th>...</th>\n",
       "      <td>...</td>\n",
       "      <td>...</td>\n",
       "      <td>...</td>\n",
       "      <td>...</td>\n",
       "      <td>...</td>\n",
       "      <td>...</td>\n",
       "      <td>...</td>\n",
       "      <td>...</td>\n",
       "      <td>...</td>\n",
       "      <td>...</td>\n",
       "      <td>...</td>\n",
       "      <td>...</td>\n",
       "      <td>...</td>\n",
       "      <td>...</td>\n",
       "      <td>...</td>\n",
       "      <td>...</td>\n",
       "      <td>...</td>\n",
       "      <td>...</td>\n",
       "      <td>...</td>\n",
       "      <td>...</td>\n",
       "      <td>...</td>\n",
       "      <td>...</td>\n",
       "    </tr>\n",
       "    <tr>\n",
       "      <th>11262</th>\n",
       "      <td>2020/21</td>\n",
       "      <td>363</td>\n",
       "      <td>2020-12-15 18:00:00</td>\n",
       "      <td>wolverhampton wanderers</td>\n",
       "      <td>wol</td>\n",
       "      <td>38</td>\n",
       "      <td>2</td>\n",
       "      <td>chelsea</td>\n",
       "      <td>che</td>\n",
       "      <td>4</td>\n",
       "      <td>1</td>\n",
       "      <td>molineux stadium</td>\n",
       "      <td>wolverhampton</td>\n",
       "      <td>h</td>\n",
       "      <td>NaN</td>\n",
       "      <td>5940</td>\n",
       "      <td>90 +9'00</td>\n",
       "      <td>0</td>\n",
       "      <td>0</td>\n",
       "      <td>59023</td>\n",
       "      <td>True</td>\n",
       "      <td>stuart attwell</td>\n",
       "    </tr>\n",
       "    <tr>\n",
       "      <th>11263</th>\n",
       "      <td>2020/21</td>\n",
       "      <td>363</td>\n",
       "      <td>2020-09-13 16:30:00</td>\n",
       "      <td>tottenham hotspur</td>\n",
       "      <td>tot</td>\n",
       "      <td>21</td>\n",
       "      <td>0</td>\n",
       "      <td>everton</td>\n",
       "      <td>eve</td>\n",
       "      <td>7</td>\n",
       "      <td>1</td>\n",
       "      <td>tottenham hotspur stadium</td>\n",
       "      <td>london</td>\n",
       "      <td>a</td>\n",
       "      <td>NaN</td>\n",
       "      <td>5700</td>\n",
       "      <td>90 +5'00</td>\n",
       "      <td>0</td>\n",
       "      <td>0</td>\n",
       "      <td>58901</td>\n",
       "      <td>True</td>\n",
       "      <td>martin atkinson</td>\n",
       "    </tr>\n",
       "    <tr>\n",
       "      <th>11264</th>\n",
       "      <td>2020/21</td>\n",
       "      <td>363</td>\n",
       "      <td>2020-12-19 17:30:00</td>\n",
       "      <td>everton</td>\n",
       "      <td>eve</td>\n",
       "      <td>7</td>\n",
       "      <td>2</td>\n",
       "      <td>arsenal</td>\n",
       "      <td>ars</td>\n",
       "      <td>1</td>\n",
       "      <td>1</td>\n",
       "      <td>goodison park</td>\n",
       "      <td>liverpool</td>\n",
       "      <td>h</td>\n",
       "      <td>2000.0</td>\n",
       "      <td>5820</td>\n",
       "      <td>90 +7'00</td>\n",
       "      <td>2</td>\n",
       "      <td>1</td>\n",
       "      <td>59030</td>\n",
       "      <td>False</td>\n",
       "      <td>andre marriner</td>\n",
       "    </tr>\n",
       "    <tr>\n",
       "      <th>11265</th>\n",
       "      <td>2020/21</td>\n",
       "      <td>363</td>\n",
       "      <td>2020-10-04 14:00:00</td>\n",
       "      <td>wolverhampton wanderers</td>\n",
       "      <td>wol</td>\n",
       "      <td>38</td>\n",
       "      <td>1</td>\n",
       "      <td>fulham</td>\n",
       "      <td>ful</td>\n",
       "      <td>34</td>\n",
       "      <td>0</td>\n",
       "      <td>molineux stadium</td>\n",
       "      <td>wolverhampton</td>\n",
       "      <td>h</td>\n",
       "      <td>NaN</td>\n",
       "      <td>5700</td>\n",
       "      <td>90 +5'00</td>\n",
       "      <td>0</td>\n",
       "      <td>0</td>\n",
       "      <td>58935</td>\n",
       "      <td>True</td>\n",
       "      <td>darren england</td>\n",
       "    </tr>\n",
       "    <tr>\n",
       "      <th>11266</th>\n",
       "      <td>2020/21</td>\n",
       "      <td>363</td>\n",
       "      <td>2021-04-09 20:00:00</td>\n",
       "      <td>fulham</td>\n",
       "      <td>ful</td>\n",
       "      <td>34</td>\n",
       "      <td>0</td>\n",
       "      <td>wolverhampton wanderers</td>\n",
       "      <td>wol</td>\n",
       "      <td>38</td>\n",
       "      <td>1</td>\n",
       "      <td>craven cottage</td>\n",
       "      <td>london</td>\n",
       "      <td>a</td>\n",
       "      <td>NaN</td>\n",
       "      <td>5640</td>\n",
       "      <td>90 +4'00</td>\n",
       "      <td>0</td>\n",
       "      <td>0</td>\n",
       "      <td>59199</td>\n",
       "      <td>True</td>\n",
       "      <td>jonathan moss</td>\n",
       "    </tr>\n",
       "  </tbody>\n",
       "</table>\n",
       "<p>1900 rows × 22 columns</p>\n",
       "</div>"
      ],
      "text/plain": [
       "        season  season_id          kickoff_dt                home_team  \\\n",
       "8606   2014/15         27 2014-12-07 16:00:00              aston villa   \n",
       "8607   2014/15         27 2014-12-26 15:00:00               sunderland   \n",
       "8608   2014/15         27 2015-03-22 16:00:00      queens park rangers   \n",
       "8609   2014/15         27 2014-11-08 15:00:00          west ham united   \n",
       "8610   2014/15         27 2014-11-01 15:00:00           leicester city   \n",
       "...        ...        ...                 ...                      ...   \n",
       "11262  2020/21        363 2020-12-15 18:00:00  wolverhampton wanderers   \n",
       "11263  2020/21        363 2020-09-13 16:30:00        tottenham hotspur   \n",
       "11264  2020/21        363 2020-12-19 17:30:00                  everton   \n",
       "11265  2020/21        363 2020-10-04 14:00:00  wolverhampton wanderers   \n",
       "11266  2020/21        363 2021-04-09 20:00:00                   fulham   \n",
       "\n",
       "      home_team_abbr  home_team_id  home_score                away_team  \\\n",
       "8606             avl             2           2           leicester city   \n",
       "8607             sun            29           1                hull city   \n",
       "8608             qpr            17           1                  everton   \n",
       "8609             whu            25           0              aston villa   \n",
       "8610             lei            26           0     west bromwich albion   \n",
       "...              ...           ...         ...                      ...   \n",
       "11262            wol            38           2                  chelsea   \n",
       "11263            tot            21           0                  everton   \n",
       "11264            eve             7           2                  arsenal   \n",
       "11265            wol            38           1                   fulham   \n",
       "11266            ful            34           0  wolverhampton wanderers   \n",
       "\n",
       "      away_team_abbr  away_team_id  away_score                    stadium  \\\n",
       "8606             lei            26           1                 villa park   \n",
       "8607             hul            41           3           stadium of light   \n",
       "8608             eve             7           2                loftus road   \n",
       "8609             avl             2           0              boleyn ground   \n",
       "8610             wba            36           1         king power stadium   \n",
       "...              ...           ...         ...                        ...   \n",
       "11262            che             4           1           molineux stadium   \n",
       "11263            eve             7           1  tottenham hotspur stadium   \n",
       "11264            ars             1           1              goodison park   \n",
       "11265            ful            34           0           molineux stadium   \n",
       "11266            wol            38           1             craven cottage   \n",
       "\n",
       "                city outcome  attendance  game_length_secs clock_label  \\\n",
       "8606      birmingham       h     27692.0              5700    90 +5'00   \n",
       "8607      sunderland       a     44817.0              5880    90 +8'00   \n",
       "8608          london       a     17706.0              5760    90 +6'00   \n",
       "8609          london       d     34857.0              5760    90 +6'00   \n",
       "8610       leicester       a     31819.0              5760    90 +6'00   \n",
       "...              ...     ...         ...               ...         ...   \n",
       "11262  wolverhampton       h         NaN              5940    90 +9'00   \n",
       "11263         london       a         NaN              5700    90 +5'00   \n",
       "11264      liverpool       h      2000.0              5820    90 +7'00   \n",
       "11265  wolverhampton       h         NaN              5700    90 +5'00   \n",
       "11266         london       a         NaN              5640    90 +4'00   \n",
       "\n",
       "       home_htscore  away_htscore  match_id closed_doors          referee  \n",
       "8606              1             1      9758        False     craig pawson  \n",
       "8607              1             1      9788        False   andre marriner  \n",
       "8608              0             1      9909        False    jonathan moss  \n",
       "8609              0             0      9716        False    jonathan moss  \n",
       "8610              0             0      9705        False   stuart attwell  \n",
       "...             ...           ...       ...          ...              ...  \n",
       "11262             0             0     59023         True   stuart attwell  \n",
       "11263             0             0     58901         True  martin atkinson  \n",
       "11264             2             1     59030        False   andre marriner  \n",
       "11265             0             0     58935         True   darren england  \n",
       "11266             0             0     59199         True    jonathan moss  \n",
       "\n",
       "[1900 rows x 22 columns]"
      ]
     },
     "execution_count": 86,
     "metadata": {},
     "output_type": "execute_result"
    }
   ],
   "source": [
    "# missing_vals = df_games[df_games[\"closed_doors\"].isna()][\"attendance\"].isna().sum()\n",
    "# print(f\"Where closed_doors is null, attendance is null {missing_vals} times.\")\n",
    "\n",
    "df_games[~df_games[\"closed_doors\"].isna()]"
   ]
  },
  {
   "cell_type": "markdown",
   "metadata": {
    "ExecuteTime": {
     "end_time": "2021-07-04T15:27:29.121008Z",
     "start_time": "2021-07-04T15:27:29.115668Z"
    }
   },
   "source": [
    "**Replacing missing values**"
   ]
  },
  {
   "cell_type": "code",
   "execution_count": 87,
   "metadata": {
    "ExecuteTime": {
     "end_time": "2021-07-24T20:03:29.189916Z",
     "start_time": "2021-07-24T20:03:29.185161Z"
    }
   },
   "outputs": [],
   "source": [
    "df_games[\"closed_doors\"] = df_games[\"attendance\"].apply(lambda x: 0 if x > 0 else 1)"
   ]
  },
  {
   "cell_type": "code",
   "execution_count": 88,
   "metadata": {
    "ExecuteTime": {
     "end_time": "2021-07-24T20:03:29.197478Z",
     "start_time": "2021-07-24T20:03:29.190681Z"
    }
   },
   "outputs": [
    {
     "data": {
      "text/html": [
       "<div>\n",
       "<style scoped>\n",
       "    .dataframe tbody tr th:only-of-type {\n",
       "        vertical-align: middle;\n",
       "    }\n",
       "\n",
       "    .dataframe tbody tr th {\n",
       "        vertical-align: top;\n",
       "    }\n",
       "\n",
       "    .dataframe thead th {\n",
       "        text-align: right;\n",
       "    }\n",
       "</style>\n",
       "<table border=\"1\" class=\"dataframe\">\n",
       "  <thead>\n",
       "    <tr style=\"text-align: right;\">\n",
       "      <th></th>\n",
       "      <th>missing_val_count</th>\n",
       "      <th>missing_val_percent</th>\n",
       "    </tr>\n",
       "  </thead>\n",
       "  <tbody>\n",
       "    <tr>\n",
       "      <th>attendance</th>\n",
       "      <td>960</td>\n",
       "      <td>8.5</td>\n",
       "    </tr>\n",
       "  </tbody>\n",
       "</table>\n",
       "</div>"
      ],
      "text/plain": [
       "            missing_val_count  missing_val_percent\n",
       "attendance                960                  8.5"
      ]
     },
     "metadata": {},
     "output_type": "display_data"
    }
   ],
   "source": [
    "missing(df_games)"
   ]
  },
  {
   "cell_type": "markdown",
   "metadata": {},
   "source": [
    "### Fe\n",
    "\n",
    "Adding ref count, the total number of time the referee was refereeing."
   ]
  },
  {
   "cell_type": "code",
   "execution_count": 89,
   "metadata": {
    "ExecuteTime": {
     "end_time": "2021-07-24T20:03:29.203592Z",
     "start_time": "2021-07-24T20:03:29.198138Z"
    }
   },
   "outputs": [],
   "source": [
    "ref_val_count = df_games[\"referee\"].value_counts().to_dict()\n",
    "df_games[\"ref_count\"] = df_games[\"referee\"].apply(lambda x: ref_val_count[x])"
   ]
  },
  {
   "cell_type": "code",
   "execution_count": null,
   "metadata": {
    "ExecuteTime": {
     "end_time": "2021-07-18T15:30:03.933313Z",
     "start_time": "2021-07-18T15:30:03.906640Z"
    }
   },
   "outputs": [],
   "source": []
  },
  {
   "cell_type": "markdown",
   "metadata": {},
   "source": [
    "## Events"
   ]
  },
  {
   "cell_type": "code",
   "execution_count": 90,
   "metadata": {
    "ExecuteTime": {
     "end_time": "2021-07-24T20:03:29.210946Z",
     "start_time": "2021-07-24T20:03:29.204837Z"
    }
   },
   "outputs": [
    {
     "data": {
      "text/html": [
       "<div>\n",
       "<style scoped>\n",
       "    .dataframe tbody tr th:only-of-type {\n",
       "        vertical-align: middle;\n",
       "    }\n",
       "\n",
       "    .dataframe tbody tr th {\n",
       "        vertical-align: top;\n",
       "    }\n",
       "\n",
       "    .dataframe thead th {\n",
       "        text-align: right;\n",
       "    }\n",
       "</style>\n",
       "<table border=\"1\" class=\"dataframe\">\n",
       "  <thead>\n",
       "    <tr style=\"text-align: right;\">\n",
       "      <th></th>\n",
       "      <th>clock_secs</th>\n",
       "      <th>clock_label</th>\n",
       "      <th>phase</th>\n",
       "      <th>type</th>\n",
       "      <th>time_millis</th>\n",
       "      <th>time_label</th>\n",
       "      <th>time_gmtOffset</th>\n",
       "      <th>score_homeScore</th>\n",
       "      <th>score_awayScore</th>\n",
       "      <th>id</th>\n",
       "      <th>personId</th>\n",
       "      <th>teamId</th>\n",
       "      <th>description</th>\n",
       "      <th>assistId</th>\n",
       "      <th>match_id</th>\n",
       "    </tr>\n",
       "  </thead>\n",
       "  <tbody>\n",
       "    <tr>\n",
       "      <th>0</th>\n",
       "      <td>0</td>\n",
       "      <td>00'00</td>\n",
       "      <td>1</td>\n",
       "      <td>PS</td>\n",
       "      <td>1.120483e+12</td>\n",
       "      <td>4 July 2005, 14:08</td>\n",
       "      <td>1.0</td>\n",
       "      <td>0</td>\n",
       "      <td>0</td>\n",
       "      <td>NaN</td>\n",
       "      <td>NaN</td>\n",
       "      <td>NaN</td>\n",
       "      <td>NaN</td>\n",
       "      <td>NaN</td>\n",
       "      <td>147</td>\n",
       "    </tr>\n",
       "    <tr>\n",
       "      <th>1</th>\n",
       "      <td>2700</td>\n",
       "      <td>45'00</td>\n",
       "      <td>1</td>\n",
       "      <td>PE</td>\n",
       "      <td>1.120483e+12</td>\n",
       "      <td>4 July 2005, 14:08</td>\n",
       "      <td>1.0</td>\n",
       "      <td>0</td>\n",
       "      <td>0</td>\n",
       "      <td>NaN</td>\n",
       "      <td>NaN</td>\n",
       "      <td>NaN</td>\n",
       "      <td>NaN</td>\n",
       "      <td>NaN</td>\n",
       "      <td>147</td>\n",
       "    </tr>\n",
       "    <tr>\n",
       "      <th>2</th>\n",
       "      <td>2700</td>\n",
       "      <td>45'00</td>\n",
       "      <td>2</td>\n",
       "      <td>PS</td>\n",
       "      <td>1.120483e+12</td>\n",
       "      <td>4 July 2005, 14:08</td>\n",
       "      <td>1.0</td>\n",
       "      <td>0</td>\n",
       "      <td>0</td>\n",
       "      <td>NaN</td>\n",
       "      <td>NaN</td>\n",
       "      <td>NaN</td>\n",
       "      <td>NaN</td>\n",
       "      <td>NaN</td>\n",
       "      <td>147</td>\n",
       "    </tr>\n",
       "    <tr>\n",
       "      <th>3</th>\n",
       "      <td>4020</td>\n",
       "      <td>67'00</td>\n",
       "      <td>2</td>\n",
       "      <td>S</td>\n",
       "      <td>1.120484e+12</td>\n",
       "      <td>4 July 2005, 14:30</td>\n",
       "      <td>1.0</td>\n",
       "      <td>0</td>\n",
       "      <td>0</td>\n",
       "      <td>552.0</td>\n",
       "      <td>322.0</td>\n",
       "      <td>12.0</td>\n",
       "      <td>ON</td>\n",
       "      <td>NaN</td>\n",
       "      <td>147</td>\n",
       "    </tr>\n",
       "    <tr>\n",
       "      <th>4</th>\n",
       "      <td>4020</td>\n",
       "      <td>67'00</td>\n",
       "      <td>2</td>\n",
       "      <td>S</td>\n",
       "      <td>1.120484e+12</td>\n",
       "      <td>4 July 2005, 14:30</td>\n",
       "      <td>1.0</td>\n",
       "      <td>0</td>\n",
       "      <td>0</td>\n",
       "      <td>552.0</td>\n",
       "      <td>324.0</td>\n",
       "      <td>12.0</td>\n",
       "      <td>OFF</td>\n",
       "      <td>NaN</td>\n",
       "      <td>147</td>\n",
       "    </tr>\n",
       "  </tbody>\n",
       "</table>\n",
       "</div>"
      ],
      "text/plain": [
       "   clock_secs clock_label  phase type   time_millis          time_label  \\\n",
       "0           0       00'00      1   PS  1.120483e+12  4 July 2005, 14:08   \n",
       "1        2700       45'00      1   PE  1.120483e+12  4 July 2005, 14:08   \n",
       "2        2700       45'00      2   PS  1.120483e+12  4 July 2005, 14:08   \n",
       "3        4020       67'00      2    S  1.120484e+12  4 July 2005, 14:30   \n",
       "4        4020       67'00      2    S  1.120484e+12  4 July 2005, 14:30   \n",
       "\n",
       "   time_gmtOffset  score_homeScore  score_awayScore     id  personId  teamId  \\\n",
       "0             1.0                0                0    NaN       NaN     NaN   \n",
       "1             1.0                0                0    NaN       NaN     NaN   \n",
       "2             1.0                0                0    NaN       NaN     NaN   \n",
       "3             1.0                0                0  552.0     322.0    12.0   \n",
       "4             1.0                0                0  552.0     324.0    12.0   \n",
       "\n",
       "  description  assistId  match_id  \n",
       "0         NaN       NaN       147  \n",
       "1         NaN       NaN       147  \n",
       "2         NaN       NaN       147  \n",
       "3          ON       NaN       147  \n",
       "4         OFF       NaN       147  "
      ]
     },
     "execution_count": 90,
     "metadata": {},
     "output_type": "execute_result"
    }
   ],
   "source": [
    "df_events.head()"
   ]
  },
  {
   "cell_type": "markdown",
   "metadata": {},
   "source": [
    "### Columns renaming"
   ]
  },
  {
   "cell_type": "code",
   "execution_count": 91,
   "metadata": {
    "ExecuteTime": {
     "end_time": "2021-07-24T20:03:29.274985Z",
     "start_time": "2021-07-24T20:03:29.211615Z"
    }
   },
   "outputs": [
    {
     "data": {
      "text/html": [
       "<div>\n",
       "<style scoped>\n",
       "    .dataframe tbody tr th:only-of-type {\n",
       "        vertical-align: middle;\n",
       "    }\n",
       "\n",
       "    .dataframe tbody tr th {\n",
       "        vertical-align: top;\n",
       "    }\n",
       "\n",
       "    .dataframe thead th {\n",
       "        text-align: right;\n",
       "    }\n",
       "</style>\n",
       "<table border=\"1\" class=\"dataframe\">\n",
       "  <thead>\n",
       "    <tr style=\"text-align: right;\">\n",
       "      <th></th>\n",
       "      <th>clock_label</th>\n",
       "      <th>phase</th>\n",
       "      <th>type</th>\n",
       "      <th>home_team_score</th>\n",
       "      <th>away_team_score</th>\n",
       "      <th>player_id</th>\n",
       "      <th>team_id</th>\n",
       "      <th>description</th>\n",
       "      <th>assist_id</th>\n",
       "      <th>match_id</th>\n",
       "    </tr>\n",
       "  </thead>\n",
       "  <tbody>\n",
       "    <tr>\n",
       "      <th>0</th>\n",
       "      <td>00'00</td>\n",
       "      <td>1</td>\n",
       "      <td>PS</td>\n",
       "      <td>0</td>\n",
       "      <td>0</td>\n",
       "      <td>NaN</td>\n",
       "      <td>NaN</td>\n",
       "      <td>NaN</td>\n",
       "      <td>NaN</td>\n",
       "      <td>147</td>\n",
       "    </tr>\n",
       "    <tr>\n",
       "      <th>1</th>\n",
       "      <td>45'00</td>\n",
       "      <td>1</td>\n",
       "      <td>PE</td>\n",
       "      <td>0</td>\n",
       "      <td>0</td>\n",
       "      <td>NaN</td>\n",
       "      <td>NaN</td>\n",
       "      <td>NaN</td>\n",
       "      <td>NaN</td>\n",
       "      <td>147</td>\n",
       "    </tr>\n",
       "    <tr>\n",
       "      <th>2</th>\n",
       "      <td>45'00</td>\n",
       "      <td>2</td>\n",
       "      <td>PS</td>\n",
       "      <td>0</td>\n",
       "      <td>0</td>\n",
       "      <td>NaN</td>\n",
       "      <td>NaN</td>\n",
       "      <td>NaN</td>\n",
       "      <td>NaN</td>\n",
       "      <td>147</td>\n",
       "    </tr>\n",
       "    <tr>\n",
       "      <th>3</th>\n",
       "      <td>67'00</td>\n",
       "      <td>2</td>\n",
       "      <td>S</td>\n",
       "      <td>0</td>\n",
       "      <td>0</td>\n",
       "      <td>322.0</td>\n",
       "      <td>12.0</td>\n",
       "      <td>ON</td>\n",
       "      <td>NaN</td>\n",
       "      <td>147</td>\n",
       "    </tr>\n",
       "    <tr>\n",
       "      <th>4</th>\n",
       "      <td>67'00</td>\n",
       "      <td>2</td>\n",
       "      <td>S</td>\n",
       "      <td>0</td>\n",
       "      <td>0</td>\n",
       "      <td>324.0</td>\n",
       "      <td>12.0</td>\n",
       "      <td>OFF</td>\n",
       "      <td>NaN</td>\n",
       "      <td>147</td>\n",
       "    </tr>\n",
       "  </tbody>\n",
       "</table>\n",
       "</div>"
      ],
      "text/plain": [
       "  clock_label  phase type  home_team_score  away_team_score  player_id  \\\n",
       "0       00'00      1   PS                0                0        NaN   \n",
       "1       45'00      1   PE                0                0        NaN   \n",
       "2       45'00      2   PS                0                0        NaN   \n",
       "3       67'00      2    S                0                0      322.0   \n",
       "4       67'00      2    S                0                0      324.0   \n",
       "\n",
       "   team_id description  assist_id  match_id  \n",
       "0      NaN         NaN        NaN       147  \n",
       "1      NaN         NaN        NaN       147  \n",
       "2      NaN         NaN        NaN       147  \n",
       "3     12.0          ON        NaN       147  \n",
       "4     12.0         OFF        NaN       147  "
      ]
     },
     "execution_count": 91,
     "metadata": {},
     "output_type": "execute_result"
    }
   ],
   "source": [
    "# Creating a list of unnecessary variables\n",
    "unuseful_features = [\"time_gmtOffset\", \"id\", \"time_millis\", \"time_label\", \"clock_secs\"]\n",
    "\n",
    "\n",
    "# Removing thoses variables\n",
    "for col in df_events.columns:\n",
    "    if col in unuseful_features:\n",
    "        try:\n",
    "            df_events.drop(col, axis=1, inplace=True)\n",
    "        except:\n",
    "            ...\n",
    "\n",
    "            \n",
    "# Creating a list of new names\n",
    "replace = {\n",
    "    \"score_homeScore\": \"home_team_score\",\n",
    "    \"score_awayScore\": \"away_team_score\",\n",
    "    \"personId\": \"player_id\",\n",
    "    \"teamId\": \"team_id\", \n",
    "    \"assistId\": \"assist_id\",\n",
    "    \"Match ID\": \"match_id\"}\n",
    "\n",
    "\n",
    "# Renaming columns\n",
    "df_events.rename(columns=replace, inplace=True)\n",
    "\n",
    "df_events.head()"
   ]
  },
  {
   "cell_type": "markdown",
   "metadata": {},
   "source": [
    "### Describe"
   ]
  },
  {
   "cell_type": "code",
   "execution_count": 92,
   "metadata": {
    "ExecuteTime": {
     "end_time": "2021-07-24T20:03:29.344707Z",
     "start_time": "2021-07-24T20:03:29.275655Z"
    }
   },
   "outputs": [
    {
     "data": {
      "text/html": [
       "<div>\n",
       "<style scoped>\n",
       "    .dataframe tbody tr th:only-of-type {\n",
       "        vertical-align: middle;\n",
       "    }\n",
       "\n",
       "    .dataframe tbody tr th {\n",
       "        vertical-align: top;\n",
       "    }\n",
       "\n",
       "    .dataframe thead th {\n",
       "        text-align: right;\n",
       "    }\n",
       "</style>\n",
       "<table border=\"1\" class=\"dataframe\">\n",
       "  <thead>\n",
       "    <tr style=\"text-align: right;\">\n",
       "      <th></th>\n",
       "      <th>clock_label</th>\n",
       "      <th>phase</th>\n",
       "      <th>type</th>\n",
       "      <th>home_team_score</th>\n",
       "      <th>away_team_score</th>\n",
       "      <th>player_id</th>\n",
       "      <th>team_id</th>\n",
       "      <th>description</th>\n",
       "      <th>assist_id</th>\n",
       "      <th>match_id</th>\n",
       "    </tr>\n",
       "  </thead>\n",
       "  <tbody>\n",
       "    <tr>\n",
       "      <th>count</th>\n",
       "      <td>205580</td>\n",
       "      <td>205580.00</td>\n",
       "      <td>205580</td>\n",
       "      <td>205580.00</td>\n",
       "      <td>205580.00</td>\n",
       "      <td>169374.00</td>\n",
       "      <td>169420.00</td>\n",
       "      <td>169417</td>\n",
       "      <td>20338.00</td>\n",
       "      <td>205580.00</td>\n",
       "    </tr>\n",
       "    <tr>\n",
       "      <th>unique</th>\n",
       "      <td>117</td>\n",
       "      <td>NaN</td>\n",
       "      <td>9</td>\n",
       "      <td>NaN</td>\n",
       "      <td>NaN</td>\n",
       "      <td>NaN</td>\n",
       "      <td>NaN</td>\n",
       "      <td>10</td>\n",
       "      <td>NaN</td>\n",
       "      <td>NaN</td>\n",
       "    </tr>\n",
       "    <tr>\n",
       "      <th>top</th>\n",
       "      <td>45'00</td>\n",
       "      <td>NaN</td>\n",
       "      <td>S</td>\n",
       "      <td>NaN</td>\n",
       "      <td>NaN</td>\n",
       "      <td>NaN</td>\n",
       "      <td>NaN</td>\n",
       "      <td>ON</td>\n",
       "      <td>NaN</td>\n",
       "      <td>NaN</td>\n",
       "    </tr>\n",
       "    <tr>\n",
       "      <th>freq</th>\n",
       "      <td>21377</td>\n",
       "      <td>NaN</td>\n",
       "      <td>103294</td>\n",
       "      <td>NaN</td>\n",
       "      <td>NaN</td>\n",
       "      <td>NaN</td>\n",
       "      <td>NaN</td>\n",
       "      <td>51647</td>\n",
       "      <td>NaN</td>\n",
       "      <td>NaN</td>\n",
       "    </tr>\n",
       "    <tr>\n",
       "      <th>mean</th>\n",
       "      <td>NaN</td>\n",
       "      <td>1.78</td>\n",
       "      <td>NaN</td>\n",
       "      <td>1.06</td>\n",
       "      <td>0.79</td>\n",
       "      <td>3723.22</td>\n",
       "      <td>20.65</td>\n",
       "      <td>NaN</td>\n",
       "      <td>3182.08</td>\n",
       "      <td>11261.12</td>\n",
       "    </tr>\n",
       "    <tr>\n",
       "      <th>std</th>\n",
       "      <td>NaN</td>\n",
       "      <td>0.42</td>\n",
       "      <td>NaN</td>\n",
       "      <td>1.12</td>\n",
       "      <td>0.96</td>\n",
       "      <td>5476.11</td>\n",
       "      <td>20.72</td>\n",
       "      <td>NaN</td>\n",
       "      <td>4527.45</td>\n",
       "      <td>14506.49</td>\n",
       "    </tr>\n",
       "    <tr>\n",
       "      <th>min</th>\n",
       "      <td>NaN</td>\n",
       "      <td>1.00</td>\n",
       "      <td>NaN</td>\n",
       "      <td>0.00</td>\n",
       "      <td>0.00</td>\n",
       "      <td>1.00</td>\n",
       "      <td>1.00</td>\n",
       "      <td>NaN</td>\n",
       "      <td>1.00</td>\n",
       "      <td>1.00</td>\n",
       "    </tr>\n",
       "    <tr>\n",
       "      <th>25%</th>\n",
       "      <td>NaN</td>\n",
       "      <td>2.00</td>\n",
       "      <td>NaN</td>\n",
       "      <td>0.00</td>\n",
       "      <td>0.00</td>\n",
       "      <td>1193.00</td>\n",
       "      <td>7.00</td>\n",
       "      <td>NaN</td>\n",
       "      <td>844.00</td>\n",
       "      <td>3260.00</td>\n",
       "    </tr>\n",
       "    <tr>\n",
       "      <th>50%</th>\n",
       "      <td>NaN</td>\n",
       "      <td>2.00</td>\n",
       "      <td>NaN</td>\n",
       "      <td>1.00</td>\n",
       "      <td>1.00</td>\n",
       "      <td>2437.00</td>\n",
       "      <td>19.00</td>\n",
       "      <td>NaN</td>\n",
       "      <td>2063.00</td>\n",
       "      <td>5939.00</td>\n",
       "    </tr>\n",
       "    <tr>\n",
       "      <th>75%</th>\n",
       "      <td>NaN</td>\n",
       "      <td>2.00</td>\n",
       "      <td>NaN</td>\n",
       "      <td>2.00</td>\n",
       "      <td>1.00</td>\n",
       "      <td>4135.00</td>\n",
       "      <td>28.00</td>\n",
       "      <td>NaN</td>\n",
       "      <td>3929.00</td>\n",
       "      <td>9857.00</td>\n",
       "    </tr>\n",
       "    <tr>\n",
       "      <th>max</th>\n",
       "      <td>NaN</td>\n",
       "      <td>2.00</td>\n",
       "      <td>NaN</td>\n",
       "      <td>9.00</td>\n",
       "      <td>9.00</td>\n",
       "      <td>111987.00</td>\n",
       "      <td>159.00</td>\n",
       "      <td>NaN</td>\n",
       "      <td>71432.00</td>\n",
       "      <td>59275.00</td>\n",
       "    </tr>\n",
       "  </tbody>\n",
       "</table>\n",
       "</div>"
      ],
      "text/plain": [
       "       clock_label      phase    type  home_team_score  away_team_score  \\\n",
       "count       205580  205580.00  205580        205580.00        205580.00   \n",
       "unique         117        NaN       9              NaN              NaN   \n",
       "top          45'00        NaN       S              NaN              NaN   \n",
       "freq         21377        NaN  103294              NaN              NaN   \n",
       "mean           NaN       1.78     NaN             1.06             0.79   \n",
       "std            NaN       0.42     NaN             1.12             0.96   \n",
       "min            NaN       1.00     NaN             0.00             0.00   \n",
       "25%            NaN       2.00     NaN             0.00             0.00   \n",
       "50%            NaN       2.00     NaN             1.00             1.00   \n",
       "75%            NaN       2.00     NaN             2.00             1.00   \n",
       "max            NaN       2.00     NaN             9.00             9.00   \n",
       "\n",
       "        player_id    team_id description  assist_id   match_id  \n",
       "count   169374.00  169420.00      169417   20338.00  205580.00  \n",
       "unique        NaN        NaN          10        NaN        NaN  \n",
       "top           NaN        NaN          ON        NaN        NaN  \n",
       "freq          NaN        NaN       51647        NaN        NaN  \n",
       "mean      3723.22      20.65         NaN    3182.08   11261.12  \n",
       "std       5476.11      20.72         NaN    4527.45   14506.49  \n",
       "min          1.00       1.00         NaN       1.00       1.00  \n",
       "25%       1193.00       7.00         NaN     844.00    3260.00  \n",
       "50%       2437.00      19.00         NaN    2063.00    5939.00  \n",
       "75%       4135.00      28.00         NaN    3929.00    9857.00  \n",
       "max     111987.00     159.00         NaN   71432.00   59275.00  "
      ]
     },
     "execution_count": 92,
     "metadata": {},
     "output_type": "execute_result"
    }
   ],
   "source": [
    "df_events.describe(include=\"all\").round(2)"
   ]
  },
  {
   "cell_type": "markdown",
   "metadata": {},
   "source": [
    "### Infos"
   ]
  },
  {
   "cell_type": "code",
   "execution_count": 93,
   "metadata": {
    "ExecuteTime": {
     "end_time": "2021-07-24T20:03:29.364108Z",
     "start_time": "2021-07-24T20:03:29.345433Z"
    }
   },
   "outputs": [
    {
     "name": "stdout",
     "output_type": "stream",
     "text": [
      "<class 'pandas.core.frame.DataFrame'>\n",
      "RangeIndex: 205580 entries, 0 to 205579\n",
      "Data columns (total 10 columns):\n",
      " #   Column           Non-Null Count   Dtype  \n",
      "---  ------           --------------   -----  \n",
      " 0   clock_label      205580 non-null  object \n",
      " 1   phase            205580 non-null  int64  \n",
      " 2   type             205580 non-null  object \n",
      " 3   home_team_score  205580 non-null  int64  \n",
      " 4   away_team_score  205580 non-null  int64  \n",
      " 5   player_id        169374 non-null  float64\n",
      " 6   team_id          169420 non-null  float64\n",
      " 7   description      169417 non-null  object \n",
      " 8   assist_id        20338 non-null   float64\n",
      " 9   match_id         205580 non-null  int64  \n",
      "dtypes: float64(3), int64(4), object(3)\n",
      "memory usage: 15.7+ MB\n"
     ]
    }
   ],
   "source": [
    "df_events.info()"
   ]
  },
  {
   "cell_type": "markdown",
   "metadata": {},
   "source": [
    "### Missing values"
   ]
  },
  {
   "cell_type": "code",
   "execution_count": 94,
   "metadata": {
    "ExecuteTime": {
     "end_time": "2021-07-24T20:03:29.382383Z",
     "start_time": "2021-07-24T20:03:29.364768Z"
    }
   },
   "outputs": [
    {
     "data": {
      "text/html": [
       "<div>\n",
       "<style scoped>\n",
       "    .dataframe tbody tr th:only-of-type {\n",
       "        vertical-align: middle;\n",
       "    }\n",
       "\n",
       "    .dataframe tbody tr th {\n",
       "        vertical-align: top;\n",
       "    }\n",
       "\n",
       "    .dataframe thead th {\n",
       "        text-align: right;\n",
       "    }\n",
       "</style>\n",
       "<table border=\"1\" class=\"dataframe\">\n",
       "  <thead>\n",
       "    <tr style=\"text-align: right;\">\n",
       "      <th></th>\n",
       "      <th>missing_val_count</th>\n",
       "      <th>missing_val_percent</th>\n",
       "    </tr>\n",
       "  </thead>\n",
       "  <tbody>\n",
       "    <tr>\n",
       "      <th>player_id</th>\n",
       "      <td>36206</td>\n",
       "      <td>17.6</td>\n",
       "    </tr>\n",
       "    <tr>\n",
       "      <th>team_id</th>\n",
       "      <td>36160</td>\n",
       "      <td>17.6</td>\n",
       "    </tr>\n",
       "    <tr>\n",
       "      <th>description</th>\n",
       "      <td>36163</td>\n",
       "      <td>17.6</td>\n",
       "    </tr>\n",
       "    <tr>\n",
       "      <th>assist_id</th>\n",
       "      <td>185242</td>\n",
       "      <td>90.1</td>\n",
       "    </tr>\n",
       "  </tbody>\n",
       "</table>\n",
       "</div>"
      ],
      "text/plain": [
       "             missing_val_count  missing_val_percent\n",
       "player_id                36206                 17.6\n",
       "team_id                  36160                 17.6\n",
       "description              36163                 17.6\n",
       "assist_id               185242                 90.1"
      ]
     },
     "metadata": {},
     "output_type": "display_data"
    }
   ],
   "source": [
    "missing(df_events)"
   ]
  },
  {
   "cell_type": "code",
   "execution_count": 95,
   "metadata": {
    "ExecuteTime": {
     "end_time": "2021-07-24T20:03:31.203102Z",
     "start_time": "2021-07-24T20:03:29.383027Z"
    }
   },
   "outputs": [
    {
     "data": {
      "image/png": "[encoded data removed]",
      "text/plain": [
       "<Figure size 1440x648 with 4 Axes>"
      ]
     },
     "metadata": {},
     "output_type": "display_data"
    }
   ],
   "source": [
    "klib.missingval_plot(df_events, figsize=(20, 9));"
   ]
  },
  {
   "cell_type": "markdown",
   "metadata": {},
   "source": [
    "There features have almost the exact same number of  missing values and it looks like they are at the same indexes. What are those events? "
   ]
  },
  {
   "cell_type": "code",
   "execution_count": 96,
   "metadata": {
    "ExecuteTime": {
     "end_time": "2021-07-24T20:03:31.562677Z",
     "start_time": "2021-07-24T20:03:31.203767Z"
    }
   },
   "outputs": [],
   "source": [
    "# Lowering all \n",
    "for col in df_events.columns:\n",
    "    df_events[col] = df_events[col].apply(lambda x: x.lower() if type(x)==str else x)\n",
    "\n",
    "# Replacing abbreviation for better understanding\n",
    "typee = {\"s\": \"substitution\",\n",
    "         \"b\": \"card\",\n",
    "         \"g\": \"goal\",\n",
    "         \"pe\": \"play_end\",\n",
    "         \"ps\": \"play_start\",\n",
    "         \"p\": \"goal\", \n",
    "         \"o\": \"own_goal\",\n",
    "         \"sp\": \"penalty_saved\",\n",
    "         \"mp\": \"penalty_missed\"} \n",
    "\n",
    "description = {\n",
    "    \"y\": \"yellow_card\",\n",
    "    \"r\": \"red_card\",\n",
    "    \"yr\": \"2y_red_card\",\n",
    "    \"g\": \"goal\",\n",
    "    \"o\": \"own_goal\",\n",
    "    \"p\": \"penalty\", \n",
    "    \"on\": \"sub_on\", \n",
    "    \"off\": \"sub_off\",\n",
    "    \"sp\": \"penalty_saved\",\n",
    "    \"mp\": \"penalty_missed\"}\n",
    "\n",
    "\n",
    "df_events[\"description\"].replace(description, inplace=True)\n",
    "df_events[\"type\"].replace(typee, inplace=True)"
   ]
  },
  {
   "cell_type": "code",
   "execution_count": 97,
   "metadata": {
    "ExecuteTime": {
     "end_time": "2021-07-24T20:03:31.571372Z",
     "start_time": "2021-07-24T20:03:31.563326Z"
    }
   },
   "outputs": [
    {
     "data": {
      "text/plain": [
       "play_start      18080\n",
       "play_end        18080\n",
       "substitution       40\n",
       "card                6\n",
       "Name: type, dtype: int64"
      ]
     },
     "execution_count": 97,
     "metadata": {},
     "output_type": "execute_result"
    }
   ],
   "source": [
    "df_events[df_events[\"player_id\"].isna()][\"type\"].value_counts()"
   ]
  },
  {
   "cell_type": "markdown",
   "metadata": {},
   "source": [
    "**Play start & play end** \n",
    "\n",
    "There are missing values for the events `play_start` et `play_end` which is normal as it doesn't involve any player, any team and there are no corresponding description for it."
   ]
  },
  {
   "cell_type": "markdown",
   "metadata": {},
   "source": [
    "**Subsitution**\n",
    "\n",
    "It's definitely that but there are still 40 `s` missing."
   ]
  },
  {
   "cell_type": "code",
   "execution_count": 98,
   "metadata": {
    "ExecuteTime": {
     "end_time": "2021-07-24T20:03:31.586338Z",
     "start_time": "2021-07-24T20:03:31.572129Z"
    }
   },
   "outputs": [],
   "source": [
    "missing_sub = df_events[(df_events[\"player_id\"].isna()) & (df_events[\"type\"]==\"substitution\")]\n",
    "indexes = missing_sub[missing_sub[\"description\"]==\"sub_on\"].index"
   ]
  },
  {
   "cell_type": "markdown",
   "metadata": {},
   "source": [
    "The 40 `substitution` missing are mostly players that never came in. When a player is substituted, a player is supposed to come on the pitch but here, nobody came in as the [game's page](https://www.premierleague.com/match/8224) of most games shows when you hover your mouse over `90+` on the time line. The reason why there are missing values is that I guess, as everything is automated, when a player goes out, a new data entry is automatically generated for the player in but as nobody came in there are missing values. We can drop them, they are irrelevant.\n",
    "For the three others where it's written `sub_off`, the id of the player who came on the pitch has not been recorded so 'ill add it manually by finding the player name on [match en direct](matchendirect.fr) (French website with live football)."
   ]
  },
  {
   "cell_type": "code",
   "execution_count": 99,
   "metadata": {
    "ExecuteTime": {
     "end_time": "2021-07-24T20:03:31.603116Z",
     "start_time": "2021-07-24T20:03:31.587294Z"
    }
   },
   "outputs": [],
   "source": [
    "# Dropping sub_on rows\n",
    "df_events.drop(indexes, inplace=True)\n",
    "\n",
    "\n",
    "# Adding player_id\n",
    "df_events.loc[6261, \"player_id\"] = 305\n",
    "df_events.loc[168355, \"player_id\"] = 21731\n",
    "df_events.loc[169988, \"player_id\"] = 21731"
   ]
  },
  {
   "cell_type": "markdown",
   "metadata": {},
   "source": [
    "**Card**"
   ]
  },
  {
   "cell_type": "code",
   "execution_count": 100,
   "metadata": {
    "ExecuteTime": {
     "end_time": "2021-07-24T20:03:31.614273Z",
     "start_time": "2021-07-24T20:03:31.604332Z"
    }
   },
   "outputs": [],
   "source": [
    "indexes = df_events[(df_events[\"player_id\"].isna()) & (df_events[\"type\"]==\"card\")].index"
   ]
  },
  {
   "cell_type": "markdown",
   "metadata": {
    "ExecuteTime": {
     "end_time": "2021-07-04T20:50:29.643828Z",
     "start_time": "2021-07-04T20:50:29.640035Z"
    }
   },
   "source": [
    "After some research, I found out that they are just forgotten players. Thanks again to [match en direct](https://www.matchendirect.fr/f), I found out that those events are not correct and nothing happened at this time in the game. No card was given. "
   ]
  },
  {
   "cell_type": "code",
   "execution_count": 101,
   "metadata": {
    "ExecuteTime": {
     "end_time": "2021-07-24T20:03:31.625865Z",
     "start_time": "2021-07-24T20:03:31.614945Z"
    }
   },
   "outputs": [],
   "source": [
    "df_events.drop(indexes, axis=0, inplace=True)"
   ]
  },
  {
   "cell_type": "markdown",
   "metadata": {},
   "source": [
    "**Description**"
   ]
  },
  {
   "cell_type": "code",
   "execution_count": 102,
   "metadata": {
    "ExecuteTime": {
     "end_time": "2021-07-24T20:03:31.658940Z",
     "start_time": "2021-07-24T20:03:31.630667Z"
    }
   },
   "outputs": [
    {
     "data": {
      "text/html": [
       "<div>\n",
       "<style scoped>\n",
       "    .dataframe tbody tr th:only-of-type {\n",
       "        vertical-align: middle;\n",
       "    }\n",
       "\n",
       "    .dataframe tbody tr th {\n",
       "        vertical-align: top;\n",
       "    }\n",
       "\n",
       "    .dataframe thead th {\n",
       "        text-align: right;\n",
       "    }\n",
       "</style>\n",
       "<table border=\"1\" class=\"dataframe\">\n",
       "  <thead>\n",
       "    <tr style=\"text-align: right;\">\n",
       "      <th></th>\n",
       "      <th>clock_label</th>\n",
       "      <th>phase</th>\n",
       "      <th>type</th>\n",
       "      <th>home_team_score</th>\n",
       "      <th>away_team_score</th>\n",
       "      <th>player_id</th>\n",
       "      <th>team_id</th>\n",
       "      <th>description</th>\n",
       "      <th>assist_id</th>\n",
       "      <th>match_id</th>\n",
       "    </tr>\n",
       "  </thead>\n",
       "  <tbody>\n",
       "    <tr>\n",
       "      <th>6856</th>\n",
       "      <td>45'00</td>\n",
       "      <td>2</td>\n",
       "      <td>card</td>\n",
       "      <td>1</td>\n",
       "      <td>1</td>\n",
       "      <td>798.0</td>\n",
       "      <td>25.0</td>\n",
       "      <td>NaN</td>\n",
       "      <td>NaN</td>\n",
       "      <td>923</td>\n",
       "    </tr>\n",
       "    <tr>\n",
       "      <th>24255</th>\n",
       "      <td>45'00</td>\n",
       "      <td>2</td>\n",
       "      <td>card</td>\n",
       "      <td>0</td>\n",
       "      <td>0</td>\n",
       "      <td>712.0</td>\n",
       "      <td>20.0</td>\n",
       "      <td>NaN</td>\n",
       "      <td>NaN</td>\n",
       "      <td>1581</td>\n",
       "    </tr>\n",
       "    <tr>\n",
       "      <th>33952</th>\n",
       "      <td>45'00</td>\n",
       "      <td>2</td>\n",
       "      <td>card</td>\n",
       "      <td>0</td>\n",
       "      <td>1</td>\n",
       "      <td>1461.0</td>\n",
       "      <td>20.0</td>\n",
       "      <td>NaN</td>\n",
       "      <td>NaN</td>\n",
       "      <td>2221</td>\n",
       "    </tr>\n",
       "  </tbody>\n",
       "</table>\n",
       "</div>"
      ],
      "text/plain": [
       "      clock_label  phase  type  home_team_score  away_team_score  player_id  \\\n",
       "6856        45'00      2  card                1                1      798.0   \n",
       "24255       45'00      2  card                0                0      712.0   \n",
       "33952       45'00      2  card                0                1     1461.0   \n",
       "\n",
       "       team_id description  assist_id  match_id  \n",
       "6856      25.0         NaN        NaN       923  \n",
       "24255     20.0         NaN        NaN      1581  \n",
       "33952     20.0         NaN        NaN      2221  "
      ]
     },
     "execution_count": 102,
     "metadata": {},
     "output_type": "execute_result"
    }
   ],
   "source": [
    "indexes = df_events[(df_events[\"description\"].isna()) & (df_events[\"type\"]==\"card\")].index\n",
    "df_events[(df_events[\"description\"].isna()) & (df_events[\"type\"]==\"card\")]"
   ]
  },
  {
   "cell_type": "markdown",
   "metadata": {},
   "source": [
    "After doing some research, I found out, again that those where errors and nothing happened at those times."
   ]
  },
  {
   "cell_type": "code",
   "execution_count": 103,
   "metadata": {
    "ExecuteTime": {
     "end_time": "2021-07-24T20:03:31.672330Z",
     "start_time": "2021-07-24T20:03:31.659633Z"
    }
   },
   "outputs": [],
   "source": [
    "df_events.drop(indexes, axis=0, inplace=True)"
   ]
  },
  {
   "cell_type": "markdown",
   "metadata": {},
   "source": [
    "**Missing values**"
   ]
  },
  {
   "cell_type": "code",
   "execution_count": 104,
   "metadata": {
    "ExecuteTime": {
     "end_time": "2021-07-24T20:03:31.690804Z",
     "start_time": "2021-07-24T20:03:31.672908Z"
    }
   },
   "outputs": [
    {
     "data": {
      "text/html": [
       "<div>\n",
       "<style scoped>\n",
       "    .dataframe tbody tr th:only-of-type {\n",
       "        vertical-align: middle;\n",
       "    }\n",
       "\n",
       "    .dataframe tbody tr th {\n",
       "        vertical-align: top;\n",
       "    }\n",
       "\n",
       "    .dataframe thead th {\n",
       "        text-align: right;\n",
       "    }\n",
       "</style>\n",
       "<table border=\"1\" class=\"dataframe\">\n",
       "  <thead>\n",
       "    <tr style=\"text-align: right;\">\n",
       "      <th></th>\n",
       "      <th>missing_val_count</th>\n",
       "      <th>missing_val_percent</th>\n",
       "    </tr>\n",
       "  </thead>\n",
       "  <tbody>\n",
       "    <tr>\n",
       "      <th>player_id</th>\n",
       "      <td>36160</td>\n",
       "      <td>17.6</td>\n",
       "    </tr>\n",
       "    <tr>\n",
       "      <th>team_id</th>\n",
       "      <td>36160</td>\n",
       "      <td>17.6</td>\n",
       "    </tr>\n",
       "    <tr>\n",
       "      <th>description</th>\n",
       "      <td>36160</td>\n",
       "      <td>17.6</td>\n",
       "    </tr>\n",
       "    <tr>\n",
       "      <th>assist_id</th>\n",
       "      <td>185196</td>\n",
       "      <td>90.1</td>\n",
       "    </tr>\n",
       "  </tbody>\n",
       "</table>\n",
       "</div>"
      ],
      "text/plain": [
       "             missing_val_count  missing_val_percent\n",
       "player_id                36160                 17.6\n",
       "team_id                  36160                 17.6\n",
       "description              36160                 17.6\n",
       "assist_id               185196                 90.1"
      ]
     },
     "metadata": {},
     "output_type": "display_data"
    }
   ],
   "source": [
    "missing(df_events)"
   ]
  },
  {
   "cell_type": "markdown",
   "metadata": {},
   "source": [
    "Alright, the others missing values for the top three rows come from the play_end and play_start so it's normal and `assist_id` comes from the fact that it needs a goal to be filled by player id (the one who did the last pass to the scorer). Among the `36160` missing values, half of it for the start of the first half of the game and the second half for the start of the second one. However, for each game, there are two starts and two ends. the thing is that 36k/4 is not equal to the total number of games in df_games so there are some games which don't have play_start and play_end. \n",
    "\n",
    "**play_start, play_end**\n",
    "\n",
    "After digging down into the dataset I found out that some games, around 2,000 didn't have either play start or play end. This might b e a ploblem later if I decide to calculate something on it."
   ]
  },
  {
   "cell_type": "code",
   "execution_count": 105,
   "metadata": {
    "ExecuteTime": {
     "end_time": "2021-07-24T20:03:32.922091Z",
     "start_time": "2021-07-24T20:03:31.691546Z"
    }
   },
   "outputs": [
    {
     "name": "stderr",
     "output_type": "stream",
     "text": [
      "100%|█████████████████████████████████████| 2227/2227 [00:01<00:00, 1996.28it/s]\n"
     ]
    }
   ],
   "source": [
    "# Formatting time to have it as integer\n",
    "df_events[\"add_time\"] = df_events[\"clock_label\"].apply(lambda x: int(x.split(\"+\")[1].split(\"'\")[0]) if \"+\" in x else 0)\n",
    "df_events[\"clock_label\"] = df_events[\"clock_label\"].apply(lambda x: int(x[:2]))\n",
    "\n",
    "# collecting missing values\n",
    "missing_ids = set(df_games[\"match_id\"].unique()) - set(df_events[df_events[\"type\"]==\"play_end\"][\"match_id\"].unique())\n",
    "missing_ids = list(missing_ids)\n",
    "\n",
    "to_add = []\n",
    "for missing_id in tqdm(missing_ids):\n",
    "\n",
    "    sub = df_events[df_events[\"match_id\"]==missing_id]\n",
    "\n",
    "    # If there is an error, then there was no event meaning score: 0-0\n",
    "    try:\n",
    "        ht_score = sub[sub[\"clock_label\"]<46].iloc[-1, 3:5]\n",
    "    except IndexError: ht_score = [0, 0] \n",
    "        \n",
    "    ft_score = sub.iloc[-1, 3:5]\n",
    "\n",
    "    to_add.extend([[0, 1, \"play_start\", 0, 0] + [np.nan]*4 + [missing_id, 0], \n",
    "                   [45, 1, \"play_end\", ht_score[0], ht_score[1]] + [np.nan]*4 + [missing_id, 0], \n",
    "                   [45, 2, \"play_start\", ht_score[0], ht_score[1]] + [np.nan]*4 + [missing_id, 0], \n",
    "                   [90, 2, \"play_end\", ft_score[0], ft_score[1]] + [np.nan]*4 + [missing_id, 0]])\n",
    "\n",
    "\n",
    "to_add = pd.DataFrame(to_add, columns=df_events.columns)\n",
    "df_events = pd.concat([df_events, to_add], axis = 0)"
   ]
  },
  {
   "cell_type": "code",
   "execution_count": 106,
   "metadata": {
    "ExecuteTime": {
     "end_time": "2021-07-24T20:03:32.935348Z",
     "start_time": "2021-07-24T20:03:32.922891Z"
    }
   },
   "outputs": [
    {
     "data": {
      "text/plain": [
       "play_start    22534\n",
       "play_end      22534\n",
       "Name: type, dtype: int64"
      ]
     },
     "execution_count": 106,
     "metadata": {},
     "output_type": "execute_result"
    }
   ],
   "source": [
    "df_events[df_events[\"player_id\"].isna()][\"type\"].value_counts()"
   ]
  },
  {
   "cell_type": "markdown",
   "metadata": {},
   "source": [
    "Awesome! There are now `22534` missing values for play_start and end which corresponds to twice the number of games ever in PL."
   ]
  },
  {
   "cell_type": "markdown",
   "metadata": {},
   "source": [
    "### Adding outcome "
   ]
  },
  {
   "cell_type": "code",
   "execution_count": 107,
   "metadata": {
    "ExecuteTime": {
     "end_time": "2021-07-24T20:03:32.937798Z",
     "start_time": "2021-07-24T20:03:32.936069Z"
    }
   },
   "outputs": [],
   "source": [
    "# df_events[\"outcome\"] = df_events[[\"home_team_score\", \"away_team_score\"]]\\\n",
    "#     .apply(lambda x: (\"h\" if x[\"home_team_score\"] > x[\"away_team_score\"] else \"a\") \\\n",
    "#            if x[\"home_team_score\"] != x[\"away_team_score\"] else \"d\",\n",
    "#            axis=1)"
   ]
  },
  {
   "cell_type": "markdown",
   "metadata": {
    "ExecuteTime": {
     "end_time": "2021-07-03T09:23:21.931516Z",
     "start_time": "2021-07-03T09:23:21.894688Z"
    }
   },
   "source": [
    "## Players"
   ]
  },
  {
   "cell_type": "code",
   "execution_count": 108,
   "metadata": {
    "ExecuteTime": {
     "end_time": "2021-07-24T20:03:32.946550Z",
     "start_time": "2021-07-24T20:03:32.938436Z"
    }
   },
   "outputs": [
    {
     "data": {
      "text/html": [
       "<div>\n",
       "<style scoped>\n",
       "    .dataframe tbody tr th:only-of-type {\n",
       "        vertical-align: middle;\n",
       "    }\n",
       "\n",
       "    .dataframe tbody tr th {\n",
       "        vertical-align: top;\n",
       "    }\n",
       "\n",
       "    .dataframe thead th {\n",
       "        text-align: right;\n",
       "    }\n",
       "</style>\n",
       "<table border=\"1\" class=\"dataframe\">\n",
       "  <thead>\n",
       "    <tr style=\"text-align: right;\">\n",
       "      <th></th>\n",
       "      <th>matchPosition</th>\n",
       "      <th>matchShirtNumber</th>\n",
       "      <th>captain</th>\n",
       "      <th>playerId</th>\n",
       "      <th>info_position</th>\n",
       "      <th>info_positionInfo</th>\n",
       "      <th>nationalTeam_isoCode</th>\n",
       "      <th>nationalTeam_country</th>\n",
       "      <th>nationalTeam_demonym</th>\n",
       "      <th>birth_date_millis</th>\n",
       "      <th>birth_date_label</th>\n",
       "      <th>birth_country_isoCode</th>\n",
       "      <th>birth_country_country</th>\n",
       "      <th>birth_country_demonym</th>\n",
       "      <th>age</th>\n",
       "      <th>name_display</th>\n",
       "      <th>name_first</th>\n",
       "      <th>name_last</th>\n",
       "      <th>id</th>\n",
       "      <th>altIds_opta</th>\n",
       "      <th>substitute</th>\n",
       "      <th>team_id</th>\n",
       "      <th>info_shirtNum</th>\n",
       "      <th>birth_place</th>\n",
       "      <th>match_id</th>\n",
       "      <th>name_middle</th>\n",
       "      <th>info_loan</th>\n",
       "      <th>nationalTeam</th>\n",
       "    </tr>\n",
       "  </thead>\n",
       "  <tbody>\n",
       "    <tr>\n",
       "      <th>0</th>\n",
       "      <td>M</td>\n",
       "      <td>99.0</td>\n",
       "      <td>False</td>\n",
       "      <td>0</td>\n",
       "      <td>M</td>\n",
       "      <td>Midfielder</td>\n",
       "      <td>RU</td>\n",
       "      <td>Russia</td>\n",
       "      <td>Russian</td>\n",
       "      <td>-2.963520e+10</td>\n",
       "      <td>23 January 1969</td>\n",
       "      <td>RU</td>\n",
       "      <td>Russia</td>\n",
       "      <td>Russian</td>\n",
       "      <td>23 years 282 days</td>\n",
       "      <td>Andrei Kanchelskis</td>\n",
       "      <td>Andrei</td>\n",
       "      <td>Kanchelskis</td>\n",
       "      <td>324</td>\n",
       "      <td>p2329</td>\n",
       "      <td>0</td>\n",
       "      <td>12</td>\n",
       "      <td>NaN</td>\n",
       "      <td>NaN</td>\n",
       "      <td>147</td>\n",
       "      <td>NaN</td>\n",
       "      <td>NaN</td>\n",
       "      <td>NaN</td>\n",
       "    </tr>\n",
       "    <tr>\n",
       "      <th>1</th>\n",
       "      <td>D</td>\n",
       "      <td>99.0</td>\n",
       "      <td>False</td>\n",
       "      <td>0</td>\n",
       "      <td>D</td>\n",
       "      <td>Defender</td>\n",
       "      <td>GB-ENG</td>\n",
       "      <td>England</td>\n",
       "      <td>English</td>\n",
       "      <td>-1.422144e+11</td>\n",
       "      <td>30 June 1965</td>\n",
       "      <td>GB-ENG</td>\n",
       "      <td>England</td>\n",
       "      <td>English</td>\n",
       "      <td>27 years 123 days</td>\n",
       "      <td>Gary Pallister</td>\n",
       "      <td>Gary</td>\n",
       "      <td>Pallister</td>\n",
       "      <td>320</td>\n",
       "      <td>p1844</td>\n",
       "      <td>0</td>\n",
       "      <td>12</td>\n",
       "      <td>NaN</td>\n",
       "      <td>NaN</td>\n",
       "      <td>147</td>\n",
       "      <td>NaN</td>\n",
       "      <td>NaN</td>\n",
       "      <td>NaN</td>\n",
       "    </tr>\n",
       "    <tr>\n",
       "      <th>2</th>\n",
       "      <td>D</td>\n",
       "      <td>99.0</td>\n",
       "      <td>False</td>\n",
       "      <td>0</td>\n",
       "      <td>D</td>\n",
       "      <td>Defender</td>\n",
       "      <td>GB-ENG</td>\n",
       "      <td>England</td>\n",
       "      <td>English</td>\n",
       "      <td>-2.840832e+11</td>\n",
       "      <td>31 December 1960</td>\n",
       "      <td>GB-ENG</td>\n",
       "      <td>England</td>\n",
       "      <td>English</td>\n",
       "      <td>31 years 305 days</td>\n",
       "      <td>Steve Bruce</td>\n",
       "      <td>Steve</td>\n",
       "      <td>Bruce</td>\n",
       "      <td>319</td>\n",
       "      <td>p10775</td>\n",
       "      <td>0</td>\n",
       "      <td>12</td>\n",
       "      <td>NaN</td>\n",
       "      <td>NaN</td>\n",
       "      <td>147</td>\n",
       "      <td>NaN</td>\n",
       "      <td>NaN</td>\n",
       "      <td>NaN</td>\n",
       "    </tr>\n",
       "    <tr>\n",
       "      <th>3</th>\n",
       "      <td>F</td>\n",
       "      <td>99.0</td>\n",
       "      <td>False</td>\n",
       "      <td>0</td>\n",
       "      <td>F</td>\n",
       "      <td>Forward</td>\n",
       "      <td>GB-WLS</td>\n",
       "      <td>Wales</td>\n",
       "      <td>Welsh</td>\n",
       "      <td>-1.946592e+11</td>\n",
       "      <td>1 November 1963</td>\n",
       "      <td>GB-WLS</td>\n",
       "      <td>Wales</td>\n",
       "      <td>Welsh</td>\n",
       "      <td>28 years 365 days</td>\n",
       "      <td>Mark Hughes</td>\n",
       "      <td>Mark</td>\n",
       "      <td>Hughes</td>\n",
       "      <td>339</td>\n",
       "      <td>p1925</td>\n",
       "      <td>0</td>\n",
       "      <td>12</td>\n",
       "      <td>NaN</td>\n",
       "      <td>NaN</td>\n",
       "      <td>147</td>\n",
       "      <td>NaN</td>\n",
       "      <td>NaN</td>\n",
       "      <td>NaN</td>\n",
       "    </tr>\n",
       "    <tr>\n",
       "      <th>4</th>\n",
       "      <td>D</td>\n",
       "      <td>99.0</td>\n",
       "      <td>False</td>\n",
       "      <td>0</td>\n",
       "      <td>D</td>\n",
       "      <td>Defender</td>\n",
       "      <td>GB-ENG</td>\n",
       "      <td>England</td>\n",
       "      <td>English</td>\n",
       "      <td>-1.812672e+11</td>\n",
       "      <td>4 April 1964</td>\n",
       "      <td>GB-ENG</td>\n",
       "      <td>England</td>\n",
       "      <td>English</td>\n",
       "      <td>28 years 210 days</td>\n",
       "      <td>Paul Parker</td>\n",
       "      <td>Paul</td>\n",
       "      <td>Parker</td>\n",
       "      <td>317</td>\n",
       "      <td>p12751</td>\n",
       "      <td>0</td>\n",
       "      <td>12</td>\n",
       "      <td>NaN</td>\n",
       "      <td>NaN</td>\n",
       "      <td>147</td>\n",
       "      <td>NaN</td>\n",
       "      <td>NaN</td>\n",
       "      <td>NaN</td>\n",
       "    </tr>\n",
       "  </tbody>\n",
       "</table>\n",
       "</div>"
      ],
      "text/plain": [
       "  matchPosition  matchShirtNumber  captain  playerId info_position  \\\n",
       "0             M              99.0    False         0             M   \n",
       "1             D              99.0    False         0             D   \n",
       "2             D              99.0    False         0             D   \n",
       "3             F              99.0    False         0             F   \n",
       "4             D              99.0    False         0             D   \n",
       "\n",
       "  info_positionInfo nationalTeam_isoCode nationalTeam_country  \\\n",
       "0        Midfielder                   RU               Russia   \n",
       "1          Defender               GB-ENG              England   \n",
       "2          Defender               GB-ENG              England   \n",
       "3           Forward               GB-WLS                Wales   \n",
       "4          Defender               GB-ENG              England   \n",
       "\n",
       "  nationalTeam_demonym  birth_date_millis  birth_date_label  \\\n",
       "0              Russian      -2.963520e+10   23 January 1969   \n",
       "1              English      -1.422144e+11      30 June 1965   \n",
       "2              English      -2.840832e+11  31 December 1960   \n",
       "3                Welsh      -1.946592e+11   1 November 1963   \n",
       "4              English      -1.812672e+11      4 April 1964   \n",
       "\n",
       "  birth_country_isoCode birth_country_country birth_country_demonym  \\\n",
       "0                    RU                Russia               Russian   \n",
       "1                GB-ENG               England               English   \n",
       "2                GB-ENG               England               English   \n",
       "3                GB-WLS                 Wales                 Welsh   \n",
       "4                GB-ENG               England               English   \n",
       "\n",
       "                 age        name_display name_first    name_last   id  \\\n",
       "0  23 years 282 days  Andrei Kanchelskis     Andrei  Kanchelskis  324   \n",
       "1  27 years 123 days      Gary Pallister       Gary    Pallister  320   \n",
       "2  31 years 305 days         Steve Bruce      Steve        Bruce  319   \n",
       "3  28 years 365 days         Mark Hughes       Mark       Hughes  339   \n",
       "4  28 years 210 days         Paul Parker       Paul       Parker  317   \n",
       "\n",
       "  altIds_opta  substitute  team_id  info_shirtNum birth_place  match_id  \\\n",
       "0       p2329           0       12            NaN         NaN       147   \n",
       "1       p1844           0       12            NaN         NaN       147   \n",
       "2      p10775           0       12            NaN         NaN       147   \n",
       "3       p1925           0       12            NaN         NaN       147   \n",
       "4      p12751           0       12            NaN         NaN       147   \n",
       "\n",
       "  name_middle info_loan nationalTeam  \n",
       "0         NaN       NaN          NaN  \n",
       "1         NaN       NaN          NaN  \n",
       "2         NaN       NaN          NaN  \n",
       "3         NaN       NaN          NaN  \n",
       "4         NaN       NaN          NaN  "
      ]
     },
     "execution_count": 108,
     "metadata": {},
     "output_type": "execute_result"
    }
   ],
   "source": [
    "df_players.head(5)"
   ]
  },
  {
   "cell_type": "markdown",
   "metadata": {
    "ExecuteTime": {
     "end_time": "2021-07-05T01:10:37.129776Z",
     "start_time": "2021-07-05T01:10:37.098277Z"
    }
   },
   "source": [
    "### Columns renaming"
   ]
  },
  {
   "cell_type": "code",
   "execution_count": 109,
   "metadata": {
    "ExecuteTime": {
     "end_time": "2021-07-24T20:03:34.841682Z",
     "start_time": "2021-07-24T20:03:32.947278Z"
    }
   },
   "outputs": [
    {
     "name": "stdout",
     "output_type": "stream",
     "text": [
      "Shape: 346,951/16 | Unique players: 4,863\n"
     ]
    },
    {
     "data": {
      "text/html": [
       "<div>\n",
       "<style scoped>\n",
       "    .dataframe tbody tr th:only-of-type {\n",
       "        vertical-align: middle;\n",
       "    }\n",
       "\n",
       "    .dataframe tbody tr th {\n",
       "        vertical-align: top;\n",
       "    }\n",
       "\n",
       "    .dataframe thead th {\n",
       "        text-align: right;\n",
       "    }\n",
       "</style>\n",
       "<table border=\"1\" class=\"dataframe\">\n",
       "  <thead>\n",
       "    <tr style=\"text-align: right;\">\n",
       "      <th></th>\n",
       "      <th>match_position</th>\n",
       "      <th>player_number</th>\n",
       "      <th>captain</th>\n",
       "      <th>normal_position</th>\n",
       "      <th>full_position</th>\n",
       "      <th>nateam</th>\n",
       "      <th>birth_date</th>\n",
       "      <th>birth_country_isoCode</th>\n",
       "      <th>birth_country</th>\n",
       "      <th>age</th>\n",
       "      <th>player_name</th>\n",
       "      <th>player_id</th>\n",
       "      <th>substitute</th>\n",
       "      <th>team_id</th>\n",
       "      <th>match_id</th>\n",
       "      <th>info_loan</th>\n",
       "    </tr>\n",
       "  </thead>\n",
       "  <tbody>\n",
       "    <tr>\n",
       "      <th>0</th>\n",
       "      <td>m</td>\n",
       "      <td>99.0</td>\n",
       "      <td>False</td>\n",
       "      <td>m</td>\n",
       "      <td>midfielder</td>\n",
       "      <td>russia</td>\n",
       "      <td>23 january 1969</td>\n",
       "      <td>ru</td>\n",
       "      <td>russia</td>\n",
       "      <td>23 years 282 days</td>\n",
       "      <td>andrei kanchelskis</td>\n",
       "      <td>324</td>\n",
       "      <td>0</td>\n",
       "      <td>12</td>\n",
       "      <td>147</td>\n",
       "      <td>NaN</td>\n",
       "    </tr>\n",
       "  </tbody>\n",
       "</table>\n",
       "</div>"
      ],
      "text/plain": [
       "  match_position  player_number  captain normal_position full_position  \\\n",
       "0              m           99.0    False               m    midfielder   \n",
       "\n",
       "   nateam       birth_date birth_country_isoCode birth_country  \\\n",
       "0  russia  23 january 1969                    ru        russia   \n",
       "\n",
       "                 age         player_name  player_id  substitute  team_id  \\\n",
       "0  23 years 282 days  andrei kanchelskis        324           0       12   \n",
       "\n",
       "   match_id info_loan  \n",
       "0       147       NaN  "
      ]
     },
     "execution_count": 109,
     "metadata": {},
     "output_type": "execute_result"
    }
   ],
   "source": [
    "for col in df_players.columns:\n",
    "    df_players[col] = df_players[col].apply(lambda x: x.lower() if type(x)==str else x)\n",
    "\n",
    "# Creating a list of unnecessary variables\n",
    "unuseful_features = [\"nationalTeam_demonym\", \"birth_date_millis\", \"playerId\", \n",
    "                    \"birth_country_demonym\", \"name_first\", \"name_last\", \"altIds_opta\", \"name_middle\", \n",
    "                    \"nationalTeam\", \"nationalTeam_isoCode\", \n",
    "                     \"birth_place\", \"name_middle\", \"info_shirtNum\"]\n",
    "\n",
    "\n",
    "# Removing thoses variables\n",
    "for col in unuseful_features:\n",
    "    try:\n",
    "        df_players.drop(col, axis=1, inplace=True)\n",
    "    except:\n",
    "        ...\n",
    "\n",
    "            \n",
    "# Creating a list of new names       \n",
    "replace = {\"score_homeScore\": \"home_team_score\", \n",
    "          \"matchPosition\": \"match_position\", \n",
    "          \"playerId\": \"player_id\", \n",
    "          \"nationalTeam_country\": \"nateam\", \n",
    "          \"birth_country_country\": \"birth_country\", \n",
    "          \"birth_date_label\": \"birth_date\", \n",
    "          \"name_display\": \"player_name\", \n",
    "          \"id\": \"player_id\", \n",
    "           \"info_position\": \"normal_position\",\n",
    "          \"info_positionInfo\": \"full_position\", \n",
    "          \"Match ID\": \"match_id\", \n",
    "          \"matchShirtNumber\": \"player_number\"}\n",
    "\n",
    "\n",
    "# Renaming columns\n",
    "df_players.rename(columns=replace, inplace=True)\n",
    "\n",
    "nb_players = len(set(df_players[\"player_id\"]))\n",
    "print(f\"Shape: {df_players.shape[0]:,}/{df_players.shape[1]} | Unique players: {nb_players:,}\")\n",
    "df_players.head(1)"
   ]
  },
  {
   "cell_type": "markdown",
   "metadata": {},
   "source": [
    "### Table splitting \n",
    "\n",
    "As df_players is redundant, I'm going to divide it into two dataframes: \n",
    "* df_players_infos: containing all individual players informations \n",
    "* df_lineup: containing all players lined up for all games "
   ]
  },
  {
   "cell_type": "code",
   "execution_count": 110,
   "metadata": {
    "ExecuteTime": {
     "end_time": "2021-07-24T20:03:34.849541Z",
     "start_time": "2021-07-24T20:03:34.842454Z"
    }
   },
   "outputs": [
    {
     "data": {
      "text/html": [
       "<div>\n",
       "<style scoped>\n",
       "    .dataframe tbody tr th:only-of-type {\n",
       "        vertical-align: middle;\n",
       "    }\n",
       "\n",
       "    .dataframe tbody tr th {\n",
       "        vertical-align: top;\n",
       "    }\n",
       "\n",
       "    .dataframe thead th {\n",
       "        text-align: right;\n",
       "    }\n",
       "</style>\n",
       "<table border=\"1\" class=\"dataframe\">\n",
       "  <thead>\n",
       "    <tr style=\"text-align: right;\">\n",
       "      <th></th>\n",
       "      <th>match_position</th>\n",
       "      <th>player_number</th>\n",
       "      <th>captain</th>\n",
       "      <th>normal_position</th>\n",
       "      <th>full_position</th>\n",
       "      <th>nateam</th>\n",
       "      <th>birth_date</th>\n",
       "      <th>birth_country_isoCode</th>\n",
       "      <th>birth_country</th>\n",
       "      <th>age</th>\n",
       "      <th>player_name</th>\n",
       "      <th>player_id</th>\n",
       "      <th>substitute</th>\n",
       "      <th>team_id</th>\n",
       "      <th>match_id</th>\n",
       "      <th>info_loan</th>\n",
       "    </tr>\n",
       "  </thead>\n",
       "  <tbody>\n",
       "    <tr>\n",
       "      <th>0</th>\n",
       "      <td>m</td>\n",
       "      <td>99.0</td>\n",
       "      <td>False</td>\n",
       "      <td>m</td>\n",
       "      <td>midfielder</td>\n",
       "      <td>russia</td>\n",
       "      <td>23 january 1969</td>\n",
       "      <td>ru</td>\n",
       "      <td>russia</td>\n",
       "      <td>23 years 282 days</td>\n",
       "      <td>andrei kanchelskis</td>\n",
       "      <td>324</td>\n",
       "      <td>0</td>\n",
       "      <td>12</td>\n",
       "      <td>147</td>\n",
       "      <td>NaN</td>\n",
       "    </tr>\n",
       "    <tr>\n",
       "      <th>1</th>\n",
       "      <td>d</td>\n",
       "      <td>99.0</td>\n",
       "      <td>False</td>\n",
       "      <td>d</td>\n",
       "      <td>defender</td>\n",
       "      <td>england</td>\n",
       "      <td>30 june 1965</td>\n",
       "      <td>gb-eng</td>\n",
       "      <td>england</td>\n",
       "      <td>27 years 123 days</td>\n",
       "      <td>gary pallister</td>\n",
       "      <td>320</td>\n",
       "      <td>0</td>\n",
       "      <td>12</td>\n",
       "      <td>147</td>\n",
       "      <td>NaN</td>\n",
       "    </tr>\n",
       "    <tr>\n",
       "      <th>2</th>\n",
       "      <td>d</td>\n",
       "      <td>99.0</td>\n",
       "      <td>False</td>\n",
       "      <td>d</td>\n",
       "      <td>defender</td>\n",
       "      <td>england</td>\n",
       "      <td>31 december 1960</td>\n",
       "      <td>gb-eng</td>\n",
       "      <td>england</td>\n",
       "      <td>31 years 305 days</td>\n",
       "      <td>steve bruce</td>\n",
       "      <td>319</td>\n",
       "      <td>0</td>\n",
       "      <td>12</td>\n",
       "      <td>147</td>\n",
       "      <td>NaN</td>\n",
       "    </tr>\n",
       "    <tr>\n",
       "      <th>3</th>\n",
       "      <td>f</td>\n",
       "      <td>99.0</td>\n",
       "      <td>False</td>\n",
       "      <td>f</td>\n",
       "      <td>forward</td>\n",
       "      <td>wales</td>\n",
       "      <td>1 november 1963</td>\n",
       "      <td>gb-wls</td>\n",
       "      <td>wales</td>\n",
       "      <td>28 years 365 days</td>\n",
       "      <td>mark hughes</td>\n",
       "      <td>339</td>\n",
       "      <td>0</td>\n",
       "      <td>12</td>\n",
       "      <td>147</td>\n",
       "      <td>NaN</td>\n",
       "    </tr>\n",
       "    <tr>\n",
       "      <th>4</th>\n",
       "      <td>d</td>\n",
       "      <td>99.0</td>\n",
       "      <td>False</td>\n",
       "      <td>d</td>\n",
       "      <td>defender</td>\n",
       "      <td>england</td>\n",
       "      <td>4 april 1964</td>\n",
       "      <td>gb-eng</td>\n",
       "      <td>england</td>\n",
       "      <td>28 years 210 days</td>\n",
       "      <td>paul parker</td>\n",
       "      <td>317</td>\n",
       "      <td>0</td>\n",
       "      <td>12</td>\n",
       "      <td>147</td>\n",
       "      <td>NaN</td>\n",
       "    </tr>\n",
       "  </tbody>\n",
       "</table>\n",
       "</div>"
      ],
      "text/plain": [
       "  match_position  player_number  captain normal_position full_position  \\\n",
       "0              m           99.0    False               m    midfielder   \n",
       "1              d           99.0    False               d      defender   \n",
       "2              d           99.0    False               d      defender   \n",
       "3              f           99.0    False               f       forward   \n",
       "4              d           99.0    False               d      defender   \n",
       "\n",
       "    nateam        birth_date birth_country_isoCode birth_country  \\\n",
       "0   russia   23 january 1969                    ru        russia   \n",
       "1  england      30 june 1965                gb-eng       england   \n",
       "2  england  31 december 1960                gb-eng       england   \n",
       "3    wales   1 november 1963                gb-wls         wales   \n",
       "4  england      4 april 1964                gb-eng       england   \n",
       "\n",
       "                 age         player_name  player_id  substitute  team_id  \\\n",
       "0  23 years 282 days  andrei kanchelskis        324           0       12   \n",
       "1  27 years 123 days      gary pallister        320           0       12   \n",
       "2  31 years 305 days         steve bruce        319           0       12   \n",
       "3  28 years 365 days         mark hughes        339           0       12   \n",
       "4  28 years 210 days         paul parker        317           0       12   \n",
       "\n",
       "   match_id info_loan  \n",
       "0       147       NaN  \n",
       "1       147       NaN  \n",
       "2       147       NaN  \n",
       "3       147       NaN  \n",
       "4       147       NaN  "
      ]
     },
     "execution_count": 110,
     "metadata": {},
     "output_type": "execute_result"
    }
   ],
   "source": [
    "df_players.head(5)"
   ]
  },
  {
   "cell_type": "markdown",
   "metadata": {},
   "source": [
    "Before Splitting the values, I need to change some values of normal position. This column is supposed to be the normal position of the player and not the one he played at during the game. Some players have multiple normal position as it changed during their career as they got better at another position. For that, I will make sure that every player has only one normal position, the most frequent one."
   ]
  },
  {
   "cell_type": "code",
   "execution_count": 111,
   "metadata": {
    "ExecuteTime": {
     "end_time": "2021-07-24T20:03:52.855014Z",
     "start_time": "2021-07-24T20:03:34.850328Z"
    }
   },
   "outputs": [
    {
     "name": "stderr",
     "output_type": "stream",
     "text": [
      "100%|██████████████████████████████████████| 4863/4863 [00:17<00:00, 270.18it/s]\n"
     ]
    }
   ],
   "source": [
    "# replacing all normal position of the most frequent value for each player\n",
    "for pid in tqdm(df_players[\"player_id\"].unique()):\n",
    "    sub = df_players[df_players[\"player_id\"]==pid]\n",
    "    indexes = sub.index\n",
    "    df_players.loc[indexes, \"normal_position\"] = sub[\"normal_position\"].mode().squeeze()\n"
   ]
  },
  {
   "cell_type": "code",
   "execution_count": 112,
   "metadata": {
    "ExecuteTime": {
     "end_time": "2021-07-24T20:03:53.041538Z",
     "start_time": "2021-07-24T20:03:52.855851Z"
    }
   },
   "outputs": [],
   "source": [
    "# Defining columns for which values will be the same for all games \n",
    "infos_cols = [\"nateam\", \"birth_date\", \"birth_country_isoCode\", \"birth_country\", \n",
    "              \"player_name\", \"player_id\", \"normal_position\"]\n",
    "\n",
    "df_players_info = df_players[infos_cols].drop_duplicates().reset_index(drop=True)\n",
    "\n",
    "\n",
    "lineup_cols = list(set(df_players.columns) - set(infos_cols)) + [\"player_name\", \"player_id\"]\n",
    "df_lineup = df_players[lineup_cols].reset_index(drop=True)"
   ]
  },
  {
   "cell_type": "markdown",
   "metadata": {
    "ExecuteTime": {
     "end_time": "2021-07-18T17:19:04.259933Z",
     "start_time": "2021-07-18T17:17:55.182020Z"
    }
   },
   "source": [
    "## Players info"
   ]
  },
  {
   "cell_type": "code",
   "execution_count": 113,
   "metadata": {
    "ExecuteTime": {
     "end_time": "2021-07-24T20:03:53.048828Z",
     "start_time": "2021-07-24T20:03:53.042331Z"
    }
   },
   "outputs": [
    {
     "data": {
      "text/html": [
       "<div>\n",
       "<style scoped>\n",
       "    .dataframe tbody tr th:only-of-type {\n",
       "        vertical-align: middle;\n",
       "    }\n",
       "\n",
       "    .dataframe tbody tr th {\n",
       "        vertical-align: top;\n",
       "    }\n",
       "\n",
       "    .dataframe thead th {\n",
       "        text-align: right;\n",
       "    }\n",
       "</style>\n",
       "<table border=\"1\" class=\"dataframe\">\n",
       "  <thead>\n",
       "    <tr style=\"text-align: right;\">\n",
       "      <th></th>\n",
       "      <th>missing_val_count</th>\n",
       "      <th>missing_val_percent</th>\n",
       "    </tr>\n",
       "  </thead>\n",
       "  <tbody>\n",
       "    <tr>\n",
       "      <th>nateam</th>\n",
       "      <td>62</td>\n",
       "      <td>1.3</td>\n",
       "    </tr>\n",
       "    <tr>\n",
       "      <th>birth_date</th>\n",
       "      <td>2</td>\n",
       "      <td>0.0</td>\n",
       "    </tr>\n",
       "    <tr>\n",
       "      <th>birth_country</th>\n",
       "      <td>60</td>\n",
       "      <td>1.2</td>\n",
       "    </tr>\n",
       "    <tr>\n",
       "      <th>normal_position</th>\n",
       "      <td>2</td>\n",
       "      <td>0.0</td>\n",
       "    </tr>\n",
       "  </tbody>\n",
       "</table>\n",
       "</div>"
      ],
      "text/plain": [
       "                 missing_val_count  missing_val_percent\n",
       "nateam                          62                  1.3\n",
       "birth_date                       2                  0.0\n",
       "birth_country                   60                  1.2\n",
       "normal_position                  2                  0.0"
      ]
     },
     "metadata": {},
     "output_type": "display_data"
    }
   ],
   "source": [
    "missing(df_players_info)"
   ]
  },
  {
   "cell_type": "markdown",
   "metadata": {},
   "source": [
    "**Birth date**"
   ]
  },
  {
   "cell_type": "code",
   "execution_count": 114,
   "metadata": {
    "ExecuteTime": {
     "end_time": "2021-07-24T20:03:53.055049Z",
     "start_time": "2021-07-24T20:03:53.049893Z"
    }
   },
   "outputs": [
    {
     "data": {
      "text/html": [
       "<div>\n",
       "<style scoped>\n",
       "    .dataframe tbody tr th:only-of-type {\n",
       "        vertical-align: middle;\n",
       "    }\n",
       "\n",
       "    .dataframe tbody tr th {\n",
       "        vertical-align: top;\n",
       "    }\n",
       "\n",
       "    .dataframe thead th {\n",
       "        text-align: right;\n",
       "    }\n",
       "</style>\n",
       "<table border=\"1\" class=\"dataframe\">\n",
       "  <thead>\n",
       "    <tr style=\"text-align: right;\">\n",
       "      <th></th>\n",
       "      <th>nateam</th>\n",
       "      <th>birth_date</th>\n",
       "      <th>birth_country_isoCode</th>\n",
       "      <th>birth_country</th>\n",
       "      <th>player_name</th>\n",
       "      <th>player_id</th>\n",
       "      <th>normal_position</th>\n",
       "    </tr>\n",
       "  </thead>\n",
       "  <tbody>\n",
       "    <tr>\n",
       "      <th>4788</th>\n",
       "      <td>england</td>\n",
       "      <td>NaN</td>\n",
       "      <td>gb-eng</td>\n",
       "      <td>england</td>\n",
       "      <td>taylor gardner-hickman</td>\n",
       "      <td>26714</td>\n",
       "      <td>f</td>\n",
       "    </tr>\n",
       "    <tr>\n",
       "      <th>4789</th>\n",
       "      <td>england</td>\n",
       "      <td>NaN</td>\n",
       "      <td>gb-eng</td>\n",
       "      <td>england</td>\n",
       "      <td>caleb taylor</td>\n",
       "      <td>53789</td>\n",
       "      <td>d</td>\n",
       "    </tr>\n",
       "  </tbody>\n",
       "</table>\n",
       "</div>"
      ],
      "text/plain": [
       "       nateam birth_date birth_country_isoCode birth_country  \\\n",
       "4788  england        NaN                gb-eng       england   \n",
       "4789  england        NaN                gb-eng       england   \n",
       "\n",
       "                 player_name  player_id normal_position  \n",
       "4788  taylor gardner-hickman      26714               f  \n",
       "4789            caleb taylor      53789               d  "
      ]
     },
     "execution_count": 114,
     "metadata": {},
     "output_type": "execute_result"
    }
   ],
   "source": [
    "df_players_info.loc[df_players_info.birth_date.isna()]"
   ]
  },
  {
   "cell_type": "code",
   "execution_count": null,
   "metadata": {
    "ExecuteTime": {
     "end_time": "2021-07-18T18:12:34.759705Z",
     "start_time": "2021-07-18T18:12:34.741537Z"
    }
   },
   "outputs": [],
   "source": []
  },
  {
   "cell_type": "code",
   "execution_count": 115,
   "metadata": {
    "ExecuteTime": {
     "end_time": "2021-07-24T20:03:53.057890Z",
     "start_time": "2021-07-24T20:03:53.055786Z"
    }
   },
   "outputs": [],
   "source": [
    "df_players_info.loc[4788, \"birth_date\"] = \"30 December 2001\"\n",
    "df_players_info.loc[4789, \"birth_date\"] = \"14 January 2003\""
   ]
  },
  {
   "cell_type": "code",
   "execution_count": 116,
   "metadata": {
    "ExecuteTime": {
     "end_time": "2021-07-24T20:03:53.067873Z",
     "start_time": "2021-07-24T20:03:53.058518Z"
    }
   },
   "outputs": [],
   "source": [
    "df_players_info[\"birth_date\"] = pd.to_datetime(df_players_info[\"birth_date\"], format='%d %B %Y')"
   ]
  },
  {
   "cell_type": "markdown",
   "metadata": {
    "ExecuteTime": {
     "end_time": "2021-07-18T18:07:18.651000Z",
     "start_time": "2021-07-18T18:07:18.643822Z"
    }
   },
   "source": [
    "**Normal position**"
   ]
  },
  {
   "cell_type": "code",
   "execution_count": 117,
   "metadata": {
    "ExecuteTime": {
     "end_time": "2021-07-24T20:03:53.075152Z",
     "start_time": "2021-07-24T20:03:53.068704Z"
    }
   },
   "outputs": [
    {
     "data": {
      "text/html": [
       "<div>\n",
       "<style scoped>\n",
       "    .dataframe tbody tr th:only-of-type {\n",
       "        vertical-align: middle;\n",
       "    }\n",
       "\n",
       "    .dataframe tbody tr th {\n",
       "        vertical-align: top;\n",
       "    }\n",
       "\n",
       "    .dataframe thead th {\n",
       "        text-align: right;\n",
       "    }\n",
       "</style>\n",
       "<table border=\"1\" class=\"dataframe\">\n",
       "  <thead>\n",
       "    <tr style=\"text-align: right;\">\n",
       "      <th></th>\n",
       "      <th>nateam</th>\n",
       "      <th>birth_date</th>\n",
       "      <th>birth_country_isoCode</th>\n",
       "      <th>birth_country</th>\n",
       "      <th>player_name</th>\n",
       "      <th>player_id</th>\n",
       "      <th>normal_position</th>\n",
       "    </tr>\n",
       "  </thead>\n",
       "  <tbody>\n",
       "    <tr>\n",
       "      <th>800</th>\n",
       "      <td>ghana</td>\n",
       "      <td>1974-12-10</td>\n",
       "      <td>gh</td>\n",
       "      <td>ghana</td>\n",
       "      <td>nii lamptey</td>\n",
       "      <td>846</td>\n",
       "      <td>NaN</td>\n",
       "    </tr>\n",
       "    <tr>\n",
       "      <th>1851</th>\n",
       "      <td>nigeria</td>\n",
       "      <td>1980-07-21</td>\n",
       "      <td>ng</td>\n",
       "      <td>nigeria</td>\n",
       "      <td>ifeanyi udeze</td>\n",
       "      <td>2367</td>\n",
       "      <td>NaN</td>\n",
       "    </tr>\n",
       "  </tbody>\n",
       "</table>\n",
       "</div>"
      ],
      "text/plain": [
       "       nateam birth_date birth_country_isoCode birth_country    player_name  \\\n",
       "800     ghana 1974-12-10                    gh         ghana    nii lamptey   \n",
       "1851  nigeria 1980-07-21                    ng       nigeria  ifeanyi udeze   \n",
       "\n",
       "      player_id normal_position  \n",
       "800         846             NaN  \n",
       "1851       2367             NaN  "
      ]
     },
     "execution_count": 117,
     "metadata": {},
     "output_type": "execute_result"
    }
   ],
   "source": [
    "df_players_info.loc[df_players_info.normal_position.isna()]"
   ]
  },
  {
   "cell_type": "code",
   "execution_count": 118,
   "metadata": {
    "ExecuteTime": {
     "end_time": "2021-07-24T20:03:53.077984Z",
     "start_time": "2021-07-24T20:03:53.075915Z"
    }
   },
   "outputs": [],
   "source": [
    "df_players_info.loc[800, \"normal_position\"] = \"F\"\n",
    "df_players_info.loc[1851, \"normal_position\"] = \"D\""
   ]
  },
  {
   "cell_type": "markdown",
   "metadata": {},
   "source": [
    "**Birth country**\n",
    "\n",
    "If a player has missing val for birth country but not for nateam then we can consider that his birth_country is his national team. A player that plays for a national team might be born in this country but it's not sure as the FIFA has a rule saying a player can play for any team he has origin of (nationality of parents or grandparents). I will assume the players are born in the country for which they play for."
   ]
  },
  {
   "cell_type": "code",
   "execution_count": null,
   "metadata": {
    "ExecuteTime": {
     "end_time": "2021-07-18T19:37:13.784466Z",
     "start_time": "2021-07-18T19:37:13.738038Z"
    }
   },
   "outputs": [],
   "source": []
  },
  {
   "cell_type": "code",
   "execution_count": 119,
   "metadata": {
    "ExecuteTime": {
     "end_time": "2021-07-24T20:03:53.084192Z",
     "start_time": "2021-07-24T20:03:53.078747Z"
    }
   },
   "outputs": [
    {
     "data": {
      "text/html": [
       "<div>\n",
       "<style scoped>\n",
       "    .dataframe tbody tr th:only-of-type {\n",
       "        vertical-align: middle;\n",
       "    }\n",
       "\n",
       "    .dataframe tbody tr th {\n",
       "        vertical-align: top;\n",
       "    }\n",
       "\n",
       "    .dataframe thead th {\n",
       "        text-align: right;\n",
       "    }\n",
       "</style>\n",
       "<table border=\"1\" class=\"dataframe\">\n",
       "  <thead>\n",
       "    <tr style=\"text-align: right;\">\n",
       "      <th></th>\n",
       "      <th>missing_val_count</th>\n",
       "      <th>missing_val_percent</th>\n",
       "    </tr>\n",
       "  </thead>\n",
       "  <tbody>\n",
       "    <tr>\n",
       "      <th>nateam</th>\n",
       "      <td>62</td>\n",
       "      <td>1.3</td>\n",
       "    </tr>\n",
       "    <tr>\n",
       "      <th>birth_country</th>\n",
       "      <td>60</td>\n",
       "      <td>1.2</td>\n",
       "    </tr>\n",
       "  </tbody>\n",
       "</table>\n",
       "</div>"
      ],
      "text/plain": [
       "               missing_val_count  missing_val_percent\n",
       "nateam                        62                  1.3\n",
       "birth_country                 60                  1.2"
      ]
     },
     "metadata": {},
     "output_type": "display_data"
    }
   ],
   "source": [
    "missing(df_players_info)"
   ]
  },
  {
   "cell_type": "code",
   "execution_count": 120,
   "metadata": {
    "ExecuteTime": {
     "end_time": "2021-07-24T20:03:53.090903Z",
     "start_time": "2021-07-24T20:03:53.084838Z"
    }
   },
   "outputs": [],
   "source": [
    "for index, value in enumerate(df_players_info[\"birth_country\"]):\n",
    "    if pd.isnull(value) and pd.notnull(df_players_info.loc[index, \"nateam\"]):\n",
    "        df_players_info.loc[index, \"birth_country\"] = df_players_info.loc[index, \"nateam\"]"
   ]
  },
  {
   "cell_type": "code",
   "execution_count": 121,
   "metadata": {
    "ExecuteTime": {
     "end_time": "2021-07-24T20:03:53.097207Z",
     "start_time": "2021-07-24T20:03:53.091668Z"
    }
   },
   "outputs": [
    {
     "data": {
      "text/html": [
       "<div>\n",
       "<style scoped>\n",
       "    .dataframe tbody tr th:only-of-type {\n",
       "        vertical-align: middle;\n",
       "    }\n",
       "\n",
       "    .dataframe tbody tr th {\n",
       "        vertical-align: top;\n",
       "    }\n",
       "\n",
       "    .dataframe thead th {\n",
       "        text-align: right;\n",
       "    }\n",
       "</style>\n",
       "<table border=\"1\" class=\"dataframe\">\n",
       "  <thead>\n",
       "    <tr style=\"text-align: right;\">\n",
       "      <th></th>\n",
       "      <th>missing_val_count</th>\n",
       "      <th>missing_val_percent</th>\n",
       "    </tr>\n",
       "  </thead>\n",
       "  <tbody>\n",
       "    <tr>\n",
       "      <th>nateam</th>\n",
       "      <td>62</td>\n",
       "      <td>1.3</td>\n",
       "    </tr>\n",
       "    <tr>\n",
       "      <th>birth_country</th>\n",
       "      <td>43</td>\n",
       "      <td>0.9</td>\n",
       "    </tr>\n",
       "  </tbody>\n",
       "</table>\n",
       "</div>"
      ],
      "text/plain": [
       "               missing_val_count  missing_val_percent\n",
       "nateam                        62                  1.3\n",
       "birth_country                 43                  0.9"
      ]
     },
     "metadata": {},
     "output_type": "display_data"
    }
   ],
   "source": [
    "missing(df_players_info)"
   ]
  },
  {
   "cell_type": "markdown",
   "metadata": {
    "ExecuteTime": {
     "end_time": "2021-07-18T19:30:14.750562Z",
     "start_time": "2021-07-18T19:30:14.729547Z"
    }
   },
   "source": [
    "## Line-up"
   ]
  },
  {
   "cell_type": "code",
   "execution_count": 122,
   "metadata": {
    "ExecuteTime": {
     "end_time": "2021-07-24T20:03:53.172386Z",
     "start_time": "2021-07-24T20:03:53.097856Z"
    }
   },
   "outputs": [
    {
     "data": {
      "text/html": [
       "<div>\n",
       "<style scoped>\n",
       "    .dataframe tbody tr th:only-of-type {\n",
       "        vertical-align: middle;\n",
       "    }\n",
       "\n",
       "    .dataframe tbody tr th {\n",
       "        vertical-align: top;\n",
       "    }\n",
       "\n",
       "    .dataframe thead th {\n",
       "        text-align: right;\n",
       "    }\n",
       "</style>\n",
       "<table border=\"1\" class=\"dataframe\">\n",
       "  <thead>\n",
       "    <tr style=\"text-align: right;\">\n",
       "      <th></th>\n",
       "      <th>missing_val_count</th>\n",
       "      <th>missing_val_percent</th>\n",
       "    </tr>\n",
       "  </thead>\n",
       "  <tbody>\n",
       "    <tr>\n",
       "      <th>full_position</th>\n",
       "      <td>82</td>\n",
       "      <td>0.0</td>\n",
       "    </tr>\n",
       "    <tr>\n",
       "      <th>player_number</th>\n",
       "      <td>672</td>\n",
       "      <td>0.2</td>\n",
       "    </tr>\n",
       "    <tr>\n",
       "      <th>age</th>\n",
       "      <td>6</td>\n",
       "      <td>0.0</td>\n",
       "    </tr>\n",
       "  </tbody>\n",
       "</table>\n",
       "</div>"
      ],
      "text/plain": [
       "               missing_val_count  missing_val_percent\n",
       "full_position                 82                  0.0\n",
       "player_number                672                  0.2\n",
       "age                            6                  0.0"
      ]
     },
     "metadata": {},
     "output_type": "display_data"
    }
   ],
   "source": [
    "missing(df_lineup.drop([\"info_loan\", \"match_position\"], axis=1))"
   ]
  },
  {
   "cell_type": "markdown",
   "metadata": {},
   "source": [
    "**Match position**"
   ]
  },
  {
   "cell_type": "code",
   "execution_count": 123,
   "metadata": {
    "ExecuteTime": {
     "end_time": "2021-07-24T20:03:53.185175Z",
     "start_time": "2021-07-24T20:03:53.173181Z"
    }
   },
   "outputs": [
    {
     "data": {
      "text/html": [
       "<div>\n",
       "<style scoped>\n",
       "    .dataframe tbody tr th:only-of-type {\n",
       "        vertical-align: middle;\n",
       "    }\n",
       "\n",
       "    .dataframe tbody tr th {\n",
       "        vertical-align: top;\n",
       "    }\n",
       "\n",
       "    .dataframe thead th {\n",
       "        text-align: right;\n",
       "    }\n",
       "</style>\n",
       "<table border=\"1\" class=\"dataframe\">\n",
       "  <thead>\n",
       "    <tr style=\"text-align: right;\">\n",
       "      <th></th>\n",
       "      <th>info_loan</th>\n",
       "      <th>substitute</th>\n",
       "      <th>match_id</th>\n",
       "      <th>team_id</th>\n",
       "      <th>captain</th>\n",
       "      <th>full_position</th>\n",
       "      <th>player_number</th>\n",
       "      <th>age</th>\n",
       "      <th>match_position</th>\n",
       "      <th>player_name</th>\n",
       "      <th>player_id</th>\n",
       "    </tr>\n",
       "  </thead>\n",
       "  <tbody>\n",
       "  </tbody>\n",
       "</table>\n",
       "</div>"
      ],
      "text/plain": [
       "Empty DataFrame\n",
       "Columns: [info_loan, substitute, match_id, team_id, captain, full_position, player_number, age, match_position, player_name, player_id]\n",
       "Index: []"
      ]
     },
     "execution_count": 123,
     "metadata": {},
     "output_type": "execute_result"
    }
   ],
   "source": [
    " df_lineup[(df_lineup[\"match_position\"].isna()) & (df_lineup[\"substitute\"]==0)]"
   ]
  },
  {
   "cell_type": "markdown",
   "metadata": {},
   "source": [
    "As we can see, when subsetting the `match_position` column where there are missing values and where substitute is `0` there are no values so missing values on `match_position` means that the player started the game as substitute. "
   ]
  },
  {
   "cell_type": "code",
   "execution_count": 124,
   "metadata": {
    "ExecuteTime": {
     "end_time": "2021-07-24T20:03:53.197173Z",
     "start_time": "2021-07-24T20:03:53.185939Z"
    }
   },
   "outputs": [],
   "source": [
    "# Replacing misssing values by substitute as S\n",
    "df_lineup[\"match_position\"].fillna(\"S\", inplace=True)"
   ]
  },
  {
   "cell_type": "code",
   "execution_count": null,
   "metadata": {},
   "outputs": [],
   "source": []
  },
  {
   "cell_type": "markdown",
   "metadata": {},
   "source": [
    "**Player number**"
   ]
  },
  {
   "cell_type": "code",
   "execution_count": 125,
   "metadata": {
    "ExecuteTime": {
     "end_time": "2021-07-24T20:03:53.202837Z",
     "start_time": "2021-07-24T20:03:53.197946Z"
    }
   },
   "outputs": [
    {
     "data": {
      "text/plain": [
       "99.0    93779\n",
       "1.0     11073\n",
       "10.0    10691\n",
       "5.0     10081\n",
       "8.0      9899\n",
       "Name: player_number, dtype: int64"
      ]
     },
     "execution_count": 125,
     "metadata": {},
     "output_type": "execute_result"
    }
   ],
   "source": [
    "df_lineup[\"player_number\"].value_counts().head()"
   ]
  },
  {
   "cell_type": "markdown",
   "metadata": {},
   "source": [
    "Most of the players number are 99 which is an error as the 99th number is rarely given. In a quarter-final tie on 17 December 2019, Liverpool player Tom Hill became the first player in English football history to wear the number 99 shirt in a competitive match. After checking the data and the PL website, 99 correspond to missing values."
   ]
  },
  {
   "cell_type": "code",
   "execution_count": 126,
   "metadata": {
    "ExecuteTime": {
     "end_time": "2021-07-24T20:03:53.243464Z",
     "start_time": "2021-07-24T20:03:53.203617Z"
    }
   },
   "outputs": [],
   "source": [
    "df_lineup[\"player_number\"] = df_lineup[\"player_number\"].apply(lambda x: np.nan if x == 99 else x)"
   ]
  },
  {
   "cell_type": "code",
   "execution_count": 127,
   "metadata": {
    "ExecuteTime": {
     "end_time": "2021-07-24T20:03:53.286334Z",
     "start_time": "2021-07-24T20:03:53.244090Z"
    }
   },
   "outputs": [
    {
     "data": {
      "text/plain": [
       "1992/93    11248\n",
       "1994/95    10980\n",
       "1993/94    10860\n",
       "1997/98     9044\n",
       "1995/96     8921\n",
       "1996/97     8907\n",
       "1998/99     8805\n",
       "1999/00     8055\n",
       "2000/01     7360\n",
       "2001/02     5826\n",
       "2002/03     4469\n",
       "2003/04       18\n",
       "2006/07        3\n",
       "2004/05        1\n",
       "Name: season, dtype: int64"
      ]
     },
     "execution_count": 127,
     "metadata": {},
     "output_type": "execute_result"
    }
   ],
   "source": [
    "df_lineup[df_lineup[\"player_number\"].isna()]\\\n",
    ".merge(df_games[[\"season\", \"match_id\"]], how=\"left\")\\\n",
    "[\"season\"].value_counts()"
   ]
  },
  {
   "cell_type": "markdown",
   "metadata": {
    "ExecuteTime": {
     "end_time": "2021-07-18T19:53:54.240886Z",
     "start_time": "2021-07-18T19:53:54.224362Z"
    }
   },
   "source": [
    "**Full position**\n",
    "\n",
    "Replacing missing values with the mode of the normal position subset."
   ]
  },
  {
   "cell_type": "code",
   "execution_count": 128,
   "metadata": {
    "ExecuteTime": {
     "end_time": "2021-07-24T20:03:53.578581Z",
     "start_time": "2021-07-24T20:03:53.287098Z"
    }
   },
   "outputs": [
    {
     "name": "stderr",
     "output_type": "stream",
     "text": [
      "100%|█████████████████████████████████████████████| 6/6 [00:00<00:00, 22.10it/s]\n"
     ]
    }
   ],
   "source": [
    "for position in tqdm(df_lineup[\"match_position\"].unique()):\n",
    "    sub = df_lineup[(df_lineup[\"full_position\"].isna()) & (df_lineup[\"match_position\"]==position)]\n",
    "    indexes = sub.index\n",
    "    df_lineup.loc[indexes, \"full_position\"] = df_lineup[df_lineup[\"match_position\"]==position][\"full_position\"].mode().squeeze()        "
   ]
  },
  {
   "cell_type": "markdown",
   "metadata": {},
   "source": [
    "**Replacing missing values age**\n",
    "Replacing the whole columns is actually easier and faster"
   ]
  },
  {
   "cell_type": "code",
   "execution_count": 129,
   "metadata": {
    "ExecuteTime": {
     "end_time": "2021-07-24T20:03:53.737570Z",
     "start_time": "2021-07-24T20:03:53.579263Z"
    }
   },
   "outputs": [],
   "source": [
    "sub = df_lineup.merge(df_games[[\"kickoff_dt\", \"match_id\"]], how=\"left\")\\\n",
    "         .merge(df_players_info[[\"player_id\", \"birth_date\"]], how=\"left\")\n",
    "\n",
    "\n",
    "df_lineup[\"age\"] = (sub[\"kickoff_dt\"] - sub[\"birth_date\"]) / np.timedelta64(1, 'Y')"
   ]
  },
  {
   "cell_type": "code",
   "execution_count": null,
   "metadata": {
    "ExecuteTime": {
     "end_time": "2021-07-18T21:15:16.781416Z",
     "start_time": "2021-07-18T21:15:16.730368Z"
    }
   },
   "outputs": [],
   "source": []
  },
  {
   "cell_type": "code",
   "execution_count": null,
   "metadata": {},
   "outputs": [],
   "source": []
  },
  {
   "cell_type": "code",
   "execution_count": null,
   "metadata": {},
   "outputs": [],
   "source": []
  },
  {
   "cell_type": "code",
   "execution_count": null,
   "metadata": {
    "ExecuteTime": {
     "end_time": "2021-07-18T21:14:30.378586Z",
     "start_time": "2021-07-18T21:14:30.349627Z"
    }
   },
   "outputs": [],
   "source": []
  },
  {
   "cell_type": "code",
   "execution_count": null,
   "metadata": {},
   "outputs": [],
   "source": []
  },
  {
   "cell_type": "code",
   "execution_count": null,
   "metadata": {},
   "outputs": [],
   "source": []
  },
  {
   "cell_type": "code",
   "execution_count": null,
   "metadata": {},
   "outputs": [],
   "source": []
  },
  {
   "cell_type": "code",
   "execution_count": null,
   "metadata": {},
   "outputs": [],
   "source": []
  },
  {
   "cell_type": "code",
   "execution_count": null,
   "metadata": {},
   "outputs": [],
   "source": []
  },
  {
   "cell_type": "code",
   "execution_count": null,
   "metadata": {},
   "outputs": [],
   "source": []
  },
  {
   "cell_type": "code",
   "execution_count": null,
   "metadata": {},
   "outputs": [],
   "source": []
  },
  {
   "cell_type": "code",
   "execution_count": null,
   "metadata": {},
   "outputs": [],
   "source": []
  },
  {
   "cell_type": "markdown",
   "metadata": {},
   "source": [
    "### Infos"
   ]
  },
  {
   "cell_type": "code",
   "execution_count": 130,
   "metadata": {
    "ExecuteTime": {
     "end_time": "2021-07-24T20:03:53.858885Z",
     "start_time": "2021-07-24T20:03:53.738296Z"
    }
   },
   "outputs": [
    {
     "name": "stdout",
     "output_type": "stream",
     "text": [
      "<class 'pandas.core.frame.DataFrame'>\n",
      "RangeIndex: 346951 entries, 0 to 346950\n",
      "Data columns (total 16 columns):\n",
      " #   Column                 Non-Null Count   Dtype         \n",
      "---  ------                 --------------   -----         \n",
      " 0   match_position         328820 non-null  object        \n",
      " 1   player_number          346279 non-null  float64       \n",
      " 2   captain                346951 non-null  bool          \n",
      " 3   normal_position        346928 non-null  object        \n",
      " 4   full_position          346869 non-null  object        \n",
      " 5   nateam                 342217 non-null  object        \n",
      " 6   birth_date             346945 non-null  datetime64[ns]\n",
      " 7   birth_country_isoCode  346951 non-null  object        \n",
      " 8   birth_country          341981 non-null  object        \n",
      " 9   age                    346945 non-null  object        \n",
      " 10  player_name            346951 non-null  object        \n",
      " 11  player_id              346951 non-null  int64         \n",
      " 12  substitute             346951 non-null  int64         \n",
      " 13  team_id                346951 non-null  int64         \n",
      " 14  match_id               346951 non-null  int64         \n",
      " 15  info_loan              10486 non-null   object        \n",
      "dtypes: bool(1), datetime64[ns](1), float64(1), int64(4), object(9)\n",
      "memory usage: 40.0+ MB\n"
     ]
    }
   ],
   "source": [
    "df_players[\"birth_date\"] = pd.to_datetime(df_players[\"birth_date\"], format='%d %B %Y')\n",
    "\n",
    "df_players.info()"
   ]
  },
  {
   "cell_type": "markdown",
   "metadata": {},
   "source": [
    "### Missing values"
   ]
  },
  {
   "cell_type": "code",
   "execution_count": 131,
   "metadata": {
    "ExecuteTime": {
     "end_time": "2021-07-24T20:03:53.925020Z",
     "start_time": "2021-07-24T20:03:53.859595Z"
    }
   },
   "outputs": [
    {
     "data": {
      "text/html": [
       "<div>\n",
       "<style scoped>\n",
       "    .dataframe tbody tr th:only-of-type {\n",
       "        vertical-align: middle;\n",
       "    }\n",
       "\n",
       "    .dataframe tbody tr th {\n",
       "        vertical-align: top;\n",
       "    }\n",
       "\n",
       "    .dataframe thead th {\n",
       "        text-align: right;\n",
       "    }\n",
       "</style>\n",
       "<table border=\"1\" class=\"dataframe\">\n",
       "  <thead>\n",
       "    <tr style=\"text-align: right;\">\n",
       "      <th></th>\n",
       "      <th>missing_val_count</th>\n",
       "      <th>missing_val_percent</th>\n",
       "    </tr>\n",
       "  </thead>\n",
       "  <tbody>\n",
       "    <tr>\n",
       "      <th>match_position</th>\n",
       "      <td>18131</td>\n",
       "      <td>5.2</td>\n",
       "    </tr>\n",
       "    <tr>\n",
       "      <th>player_number</th>\n",
       "      <td>672</td>\n",
       "      <td>0.2</td>\n",
       "    </tr>\n",
       "    <tr>\n",
       "      <th>normal_position</th>\n",
       "      <td>23</td>\n",
       "      <td>0.0</td>\n",
       "    </tr>\n",
       "    <tr>\n",
       "      <th>full_position</th>\n",
       "      <td>82</td>\n",
       "      <td>0.0</td>\n",
       "    </tr>\n",
       "    <tr>\n",
       "      <th>nateam</th>\n",
       "      <td>4734</td>\n",
       "      <td>1.4</td>\n",
       "    </tr>\n",
       "    <tr>\n",
       "      <th>birth_date</th>\n",
       "      <td>6</td>\n",
       "      <td>0.0</td>\n",
       "    </tr>\n",
       "    <tr>\n",
       "      <th>birth_country</th>\n",
       "      <td>4970</td>\n",
       "      <td>1.4</td>\n",
       "    </tr>\n",
       "    <tr>\n",
       "      <th>age</th>\n",
       "      <td>6</td>\n",
       "      <td>0.0</td>\n",
       "    </tr>\n",
       "    <tr>\n",
       "      <th>info_loan</th>\n",
       "      <td>336465</td>\n",
       "      <td>97.0</td>\n",
       "    </tr>\n",
       "  </tbody>\n",
       "</table>\n",
       "</div>"
      ],
      "text/plain": [
       "                 missing_val_count  missing_val_percent\n",
       "match_position               18131                  5.2\n",
       "player_number                  672                  0.2\n",
       "normal_position                 23                  0.0\n",
       "full_position                   82                  0.0\n",
       "nateam                        4734                  1.4\n",
       "birth_date                       6                  0.0\n",
       "birth_country                 4970                  1.4\n",
       "age                              6                  0.0\n",
       "info_loan                   336465                 97.0"
      ]
     },
     "metadata": {},
     "output_type": "display_data"
    }
   ],
   "source": [
    "missing(df_players)"
   ]
  },
  {
   "cell_type": "markdown",
   "metadata": {},
   "source": [
    "Here it seems that some columns are correlated for the missing values: \n",
    "* Both positions columns \n",
    "* Age and birth date \n",
    "\n",
    "Info loan has many missing values which is normal as most players are bought from club to clubs and not loaned."
   ]
  },
  {
   "cell_type": "code",
   "execution_count": 132,
   "metadata": {
    "ExecuteTime": {
     "end_time": "2021-07-24T20:03:57.744545Z",
     "start_time": "2021-07-24T20:03:53.925697Z"
    }
   },
   "outputs": [
    {
     "data": {
      "image/png": "[encoded data removed]",
      "text/plain": [
       "<Figure size 1440x648 with 4 Axes>"
      ]
     },
     "metadata": {},
     "output_type": "display_data"
    }
   ],
   "source": [
    "klib.missingval_plot(df_players, figsize=(20, 9));"
   ]
  },
  {
   "cell_type": "markdown",
   "metadata": {
    "ExecuteTime": {
     "end_time": "2021-07-03T21:35:47.605434Z",
     "start_time": "2021-07-03T21:35:47.602680Z"
    }
   },
   "source": [
    "\n",
    "\n",
    "**Normal position & full position**\n"
   ]
  },
  {
   "cell_type": "code",
   "execution_count": null,
   "metadata": {},
   "outputs": [],
   "source": []
  },
  {
   "cell_type": "code",
   "execution_count": 133,
   "metadata": {
    "ExecuteTime": {
     "end_time": "2021-07-24T20:03:57.933971Z",
     "start_time": "2021-07-24T20:03:57.745651Z"
    }
   },
   "outputs": [],
   "source": [
    "names = df_players[df_players[\"normal_position\"].isna()][\"player_name\"].value_counts().index.to_list()\n",
    "\n",
    "\n",
    "\n",
    "for name in names: \n",
    "    indexes = list(df_players[(df_players[\"normal_position\"].isna()) &  \n",
    "                                  (df_players[\"player_name\"]==name)].index)\n",
    "    # Some players have full missing values on all rows so they throw an error \n",
    "    try:\n",
    "        normal_position, full_position = tuple(df_players[(df_players[\"player_name\"]==name) & \\\n",
    "                                                          (df_players[\"normal_position\"].notna())]\\\n",
    "                                                          .reset_index(drop=True)\\\n",
    "                                                          .loc[0, [\"normal_position\", \"full_position\"]])\n",
    "\n",
    "        df_players.loc[indexes, \"normal_position\"] = normal_position\n",
    "        df_players.loc[indexes, \"full_position\"] = full_position\n",
    "        \n",
    "        \n",
    "    except: \n",
    "        match_position = df_players[df_players[\"player_name\"]==name][\"match_position\"].mode()[0]\n",
    "        df_players.loc[indexes, \"normal_position\"] = match_position\n",
    "\n",
    "        full_position = df_players[df_players[\"normal_position\"]==match_position][\"full_position\"]\\\n",
    "                                                                                 .mode()[0]\n",
    "        df_players.loc[indexes, \"full_position\"] = full_position"
   ]
  },
  {
   "cell_type": "markdown",
   "metadata": {},
   "source": [
    "I managed to fill some missing values but there are still some players for whom I don't know any of the position they ever played at. I still have the position they played during the game they played so I'm going to assume it's their normal position and then take the mode of the full position based on a subset of their position."
   ]
  },
  {
   "cell_type": "code",
   "execution_count": 134,
   "metadata": {
    "ExecuteTime": {
     "end_time": "2021-07-24T20:03:58.002067Z",
     "start_time": "2021-07-24T20:03:57.934689Z"
    }
   },
   "outputs": [
    {
     "data": {
      "text/html": [
       "<div>\n",
       "<style scoped>\n",
       "    .dataframe tbody tr th:only-of-type {\n",
       "        vertical-align: middle;\n",
       "    }\n",
       "\n",
       "    .dataframe tbody tr th {\n",
       "        vertical-align: top;\n",
       "    }\n",
       "\n",
       "    .dataframe thead th {\n",
       "        text-align: right;\n",
       "    }\n",
       "</style>\n",
       "<table border=\"1\" class=\"dataframe\">\n",
       "  <thead>\n",
       "    <tr style=\"text-align: right;\">\n",
       "      <th></th>\n",
       "      <th>missing_val_count</th>\n",
       "      <th>missing_val_percent</th>\n",
       "    </tr>\n",
       "  </thead>\n",
       "  <tbody>\n",
       "    <tr>\n",
       "      <th>match_position</th>\n",
       "      <td>18131</td>\n",
       "      <td>5.2</td>\n",
       "    </tr>\n",
       "    <tr>\n",
       "      <th>player_number</th>\n",
       "      <td>672</td>\n",
       "      <td>0.2</td>\n",
       "    </tr>\n",
       "    <tr>\n",
       "      <th>full_position</th>\n",
       "      <td>71</td>\n",
       "      <td>0.0</td>\n",
       "    </tr>\n",
       "    <tr>\n",
       "      <th>nateam</th>\n",
       "      <td>4734</td>\n",
       "      <td>1.4</td>\n",
       "    </tr>\n",
       "    <tr>\n",
       "      <th>birth_date</th>\n",
       "      <td>6</td>\n",
       "      <td>0.0</td>\n",
       "    </tr>\n",
       "    <tr>\n",
       "      <th>birth_country</th>\n",
       "      <td>4970</td>\n",
       "      <td>1.4</td>\n",
       "    </tr>\n",
       "    <tr>\n",
       "      <th>age</th>\n",
       "      <td>6</td>\n",
       "      <td>0.0</td>\n",
       "    </tr>\n",
       "    <tr>\n",
       "      <th>info_loan</th>\n",
       "      <td>336465</td>\n",
       "      <td>97.0</td>\n",
       "    </tr>\n",
       "  </tbody>\n",
       "</table>\n",
       "</div>"
      ],
      "text/plain": [
       "                missing_val_count  missing_val_percent\n",
       "match_position              18131                  5.2\n",
       "player_number                 672                  0.2\n",
       "full_position                  71                  0.0\n",
       "nateam                       4734                  1.4\n",
       "birth_date                      6                  0.0\n",
       "birth_country                4970                  1.4\n",
       "age                             6                  0.0\n",
       "info_loan                  336465                 97.0"
      ]
     },
     "metadata": {},
     "output_type": "display_data"
    }
   ],
   "source": [
    "missing(df_players)"
   ]
  },
  {
   "cell_type": "code",
   "execution_count": 135,
   "metadata": {
    "ExecuteTime": {
     "end_time": "2021-07-24T20:03:58.005076Z",
     "start_time": "2021-07-24T20:03:58.002804Z"
    }
   },
   "outputs": [
    {
     "data": {
      "text/plain": [
       "(346951, 16)"
      ]
     },
     "execution_count": 135,
     "metadata": {},
     "output_type": "execute_result"
    }
   ],
   "source": [
    "df_players.shape"
   ]
  },
  {
   "cell_type": "markdown",
   "metadata": {},
   "source": [
    "**Infos_loan:** Players on loan from another club are rare, nothing surprising\n",
    "\n",
    "**Birth_country:** I assume this wasn't recorded but we can assume it's the nateam if the player has one. In football a player can play for any team has origin in. The origin being his, parents or grandpareants. I will assume that if the birth_country of a player is missing, the nateam is his birth_country\n",
    "\n",
    "**Nateam:** Maybe the player didn't have one as he was not good enough to be selected. \n"
   ]
  },
  {
   "cell_type": "code",
   "execution_count": 136,
   "metadata": {
    "ExecuteTime": {
     "end_time": "2021-07-24T20:03:58.028572Z",
     "start_time": "2021-07-24T20:03:58.005954Z"
    }
   },
   "outputs": [
    {
     "data": {
      "text/plain": [
       "(79, 60, 62)"
      ]
     },
     "execution_count": 136,
     "metadata": {},
     "output_type": "execute_result"
    }
   ],
   "source": [
    "no_birth_country = list(df_players[df_players[\"birth_country\"].isna()][\"player_name\"].unique())\n",
    "no_nateam = list(df_players[df_players[\"nateam\"].isna()][\"player_name\"].unique())\n",
    "\n",
    "len(set(no_birth_country + no_nateam)), len(no_birth_country), len(no_nateam)"
   ]
  },
  {
   "cell_type": "code",
   "execution_count": 137,
   "metadata": {
    "ExecuteTime": {
     "end_time": "2021-07-24T20:03:58.039668Z",
     "start_time": "2021-07-24T20:03:58.029895Z"
    }
   },
   "outputs": [
    {
     "data": {
      "text/plain": [
       "4970"
      ]
     },
     "execution_count": 137,
     "metadata": {},
     "output_type": "execute_result"
    }
   ],
   "source": [
    "df_players[\"birth_country\"].isna().sum()"
   ]
  },
  {
   "cell_type": "code",
   "execution_count": 138,
   "metadata": {
    "ExecuteTime": {
     "end_time": "2021-07-24T20:03:58.171592Z",
     "start_time": "2021-07-24T20:03:58.040429Z"
    }
   },
   "outputs": [],
   "source": [
    "birth_country = []\n",
    "for index, cb in enumerate(df_players[\"birth_country\"]):\n",
    "    if pd.isnull(cb):\n",
    "        birth_country.append(df_players.loc[index, \"nateam\"])\n",
    "        \n",
    "    else: \n",
    "        birth_country.append(cb)\n",
    "        \n",
    "df_players[\"birth_country\"] = birth_country"
   ]
  },
  {
   "cell_type": "code",
   "execution_count": 139,
   "metadata": {
    "ExecuteTime": {
     "end_time": "2021-07-24T20:03:58.181858Z",
     "start_time": "2021-07-24T20:03:58.172446Z"
    }
   },
   "outputs": [
    {
     "data": {
      "text/plain": [
       "3680"
      ]
     },
     "execution_count": 139,
     "metadata": {},
     "output_type": "execute_result"
    }
   ],
   "source": [
    "df_players[\"birth_country\"].isna().sum()"
   ]
  },
  {
   "cell_type": "markdown",
   "metadata": {},
   "source": [
    "Even though `birth_country` has more missing values than `nateam`, there are more players that don't have national team. "
   ]
  },
  {
   "cell_type": "markdown",
   "metadata": {
    "ExecuteTime": {
     "end_time": "2021-07-05T00:50:08.920171Z",
     "start_time": "2021-07-05T00:50:08.903747Z"
    }
   },
   "source": [
    "Awesome, the data is finally clean! "
   ]
  },
  {
   "cell_type": "code",
   "execution_count": 140,
   "metadata": {
    "ExecuteTime": {
     "end_time": "2021-07-24T20:03:58.245826Z",
     "start_time": "2021-07-24T20:03:58.182474Z"
    }
   },
   "outputs": [
    {
     "data": {
      "text/plain": [
       "match_position            18131\n",
       "player_number               672\n",
       "captain                       0\n",
       "normal_position               0\n",
       "full_position                71\n",
       "nateam                     4734\n",
       "birth_date                    6\n",
       "birth_country_isoCode         0\n",
       "birth_country              3680\n",
       "age                           6\n",
       "player_name                   0\n",
       "player_id                     0\n",
       "substitute                    0\n",
       "team_id                       0\n",
       "match_id                      0\n",
       "info_loan                336465\n",
       "dtype: int64"
      ]
     },
     "execution_count": 140,
     "metadata": {},
     "output_type": "execute_result"
    }
   ],
   "source": [
    "df_players.isna().sum()"
   ]
  },
  {
   "cell_type": "markdown",
   "metadata": {},
   "source": [
    "### Wrong values \n"
   ]
  },
  {
   "cell_type": "code",
   "execution_count": 141,
   "metadata": {
    "ExecuteTime": {
     "end_time": "2021-07-24T20:03:58.248086Z",
     "start_time": "2021-07-24T20:03:58.246507Z"
    }
   },
   "outputs": [],
   "source": [
    "# # this is too check players who have multiple positions\n",
    "# count = 0\n",
    "# players = []\n",
    "# for x in tqdm(df_players[\"player_name\"].unique()):\n",
    "#     subset = df_players[df_players[\"player_name\"]==x]\n",
    "    \n",
    "#     if len(subset[\"normal_position\"].unique()) > 1:\n",
    "#         players.append(x)\n",
    "#         count += 1\n",
    "\n",
    "# print(f\"{count} player have multiple position\")"
   ]
  },
  {
   "cell_type": "markdown",
   "metadata": {},
   "source": [
    "As said earlier, (did I? check that later) normal position is the position that a player normally plays at and te match position is the one he played during the gale. Some player have a different position overtime which might be due to the evolution of the player and that e found a position where he is better at after some time in his career. For that I will change his normal position to the position he played the most (mode of normal position)."
   ]
  },
  {
   "cell_type": "code",
   "execution_count": null,
   "metadata": {
    "ExecuteTime": {
     "end_time": "2021-07-13T12:14:27.476286Z",
     "start_time": "2021-07-13T12:14:27.444891Z"
    }
   },
   "outputs": [],
   "source": []
  },
  {
   "cell_type": "code",
   "execution_count": 142,
   "metadata": {
    "ExecuteTime": {
     "end_time": "2021-07-24T20:05:01.519363Z",
     "start_time": "2021-07-24T20:03:58.248641Z"
    }
   },
   "outputs": [
    {
     "name": "stderr",
     "output_type": "stream",
     "text": [
      "100%|███████████████████████████████████████| 4826/4826 [01:03<00:00, 76.30it/s]\n"
     ]
    }
   ],
   "source": [
    "for name in tqdm(df_players[\"player_name\"].unique()):\n",
    "    sub = df_players[df_players[\"player_name\"]==name]\n",
    "    indexes = sub.index\n",
    "    df_players.loc[indexes, \"normal_position\"] = sub[\"normal_position\"].mode().squeeze()\n",
    "#     position = df_players.loc[df_players[\"player_name\"]==name, \"normal_position\"].value_counts().index[0]\n",
    "#     df_players.loc[df_players[\"player_name\"]==name, \"normal_position\"] = position"
   ]
  },
  {
   "cell_type": "code",
   "execution_count": null,
   "metadata": {
    "ExecuteTime": {
     "end_time": "2021-07-12T00:26:18.766816Z",
     "start_time": "2021-07-12T00:26:18.739815Z"
    }
   },
   "outputs": [],
   "source": []
  },
  {
   "cell_type": "code",
   "execution_count": 143,
   "metadata": {
    "ExecuteTime": {
     "end_time": "2021-07-24T20:05:01.537600Z",
     "start_time": "2021-07-24T20:05:01.520199Z"
    }
   },
   "outputs": [
    {
     "data": {
      "text/plain": [
       "f    319\n",
       "Name: normal_position, dtype: int64"
      ]
     },
     "execution_count": 143,
     "metadata": {},
     "output_type": "execute_result"
    }
   ],
   "source": [
    "df_players[df_players[\"player_name\"]==\"raheem sterling\"][\"normal_position\"].value_counts()"
   ]
  },
  {
   "cell_type": "markdown",
   "metadata": {},
   "source": [
    "### Fe"
   ]
  },
  {
   "cell_type": "code",
   "execution_count": 144,
   "metadata": {
    "ExecuteTime": {
     "end_time": "2021-07-24T20:05:01.645420Z",
     "start_time": "2021-07-24T20:05:01.538323Z"
    }
   },
   "outputs": [],
   "source": [
    "players_val_count = df_players[\"player_name\"].value_counts().to_dict()\n",
    "df_players[\"player_count\"] = df_players[\"player_name\"].apply(lambda x: players_val_count[x])"
   ]
  },
  {
   "cell_type": "code",
   "execution_count": 145,
   "metadata": {
    "ExecuteTime": {
     "end_time": "2021-07-24T20:05:01.831526Z",
     "start_time": "2021-07-24T20:05:01.646144Z"
    }
   },
   "outputs": [],
   "source": [
    "df_players = df_lineup.merge(df_players_info)"
   ]
  },
  {
   "cell_type": "markdown",
   "metadata": {},
   "source": [
    "## Stats\n",
    "\n"
   ]
  },
  {
   "cell_type": "code",
   "execution_count": 146,
   "metadata": {
    "ExecuteTime": {
     "end_time": "2021-07-24T20:05:39.856319Z",
     "start_time": "2021-07-24T20:05:01.832272Z"
    }
   },
   "outputs": [
    {
     "name": "stderr",
     "output_type": "stream",
     "text": [
      "100%|██████████████████████████████████████| 5631/5631 [00:37<00:00, 148.29it/s]\n"
     ]
    },
    {
     "data": {
      "text/html": [
       "<div>\n",
       "<style scoped>\n",
       "    .dataframe tbody tr th:only-of-type {\n",
       "        vertical-align: middle;\n",
       "    }\n",
       "\n",
       "    .dataframe tbody tr th {\n",
       "        vertical-align: top;\n",
       "    }\n",
       "\n",
       "    .dataframe thead th {\n",
       "        text-align: right;\n",
       "    }\n",
       "</style>\n",
       "<table border=\"1\" class=\"dataframe\">\n",
       "  <thead>\n",
       "    <tr style=\"text-align: right;\">\n",
       "      <th></th>\n",
       "      <th>possession_%_home</th>\n",
       "      <th>possession_%_away</th>\n",
       "      <th>shots_on_target_home</th>\n",
       "      <th>shots_on_target_away</th>\n",
       "      <th>shots_home</th>\n",
       "      <th>shots_away</th>\n",
       "      <th>touches_home</th>\n",
       "      <th>touches_away</th>\n",
       "      <th>passes_home</th>\n",
       "      <th>passes_away</th>\n",
       "      <th>tackles_home</th>\n",
       "      <th>tackles_away</th>\n",
       "      <th>clearances_home</th>\n",
       "      <th>clearances_away</th>\n",
       "      <th>corners_home</th>\n",
       "      <th>corners_away</th>\n",
       "      <th>offsides_home</th>\n",
       "      <th>offsides_away</th>\n",
       "      <th>yellow_cards_home</th>\n",
       "      <th>yellow_cards_away</th>\n",
       "      <th>fouls_conceded_home</th>\n",
       "      <th>fouls_conceded_away</th>\n",
       "      <th>match_id</th>\n",
       "      <th>red_cards_home</th>\n",
       "      <th>red_cards_away</th>\n",
       "    </tr>\n",
       "  </thead>\n",
       "  <tbody>\n",
       "    <tr>\n",
       "      <th>5597</th>\n",
       "      <td>53.2</td>\n",
       "      <td>46.8</td>\n",
       "      <td>8</td>\n",
       "      <td>2</td>\n",
       "      <td>23</td>\n",
       "      <td>7</td>\n",
       "      <td>643</td>\n",
       "      <td>523</td>\n",
       "      <td>433</td>\n",
       "      <td>377</td>\n",
       "      <td>27</td>\n",
       "      <td>25</td>\n",
       "      <td>41</td>\n",
       "      <td>24</td>\n",
       "      <td>6</td>\n",
       "      <td>3</td>\n",
       "      <td>3</td>\n",
       "      <td>1</td>\n",
       "      <td>2</td>\n",
       "      <td>1</td>\n",
       "      <td>12</td>\n",
       "      <td>9</td>\n",
       "      <td>59196.0</td>\n",
       "      <td>0</td>\n",
       "      <td>0</td>\n",
       "    </tr>\n",
       "  </tbody>\n",
       "</table>\n",
       "</div>"
      ],
      "text/plain": [
       "     possession_%_home possession_%_away shots_on_target_home  \\\n",
       "5597              53.2              46.8                    8   \n",
       "\n",
       "     shots_on_target_away shots_home shots_away touches_home touches_away  \\\n",
       "5597                    2         23          7          643          523   \n",
       "\n",
       "     passes_home passes_away tackles_home tackles_away clearances_home  \\\n",
       "5597         433         377           27           25              41   \n",
       "\n",
       "     clearances_away corners_home corners_away offsides_home offsides_away  \\\n",
       "5597              24            6            3             3             1   \n",
       "\n",
       "     yellow_cards_home yellow_cards_away fouls_conceded_home  \\\n",
       "5597                 2                 1                  12   \n",
       "\n",
       "     fouls_conceded_away  match_id red_cards_home red_cards_away  \n",
       "5597                   9   59196.0              0              0  "
      ]
     },
     "execution_count": 146,
     "metadata": {},
     "output_type": "execute_result"
    }
   ],
   "source": [
    "# Creating new df to store the stats\n",
    "sub_df = pd.DataFrame()\n",
    "\n",
    "for index, element in enumerate(tqdm(df_stats[\"stats\"])):\n",
    "    element = element.split(\"\\n\") \n",
    "    for stats in element:\n",
    "        if any(char.isdigit() for char in stats):\n",
    "            stats = stats.lower()\n",
    "            stat_home = stats.split(\" \")[0] # When slit, first element of the list is the home stat\n",
    "            stat_away = stats.split(\" \")[-1] # When slit, last element of the list is the away stat\n",
    "            stat = stats.replace(stat_home+\" \", \"\").replace(\" \"+stat_away, \"\").replace(\" \", \"_\")\n",
    "\n",
    "            # this is bad code (long) change that later\n",
    "            sub_df.loc[df_stats.loc[index, \"match_id\"], [stat+\"_home\", stat+\"_away\"]] = [stat_home, stat_away]\n",
    "    sub_df.loc[index, \"match_id\"] = df_stats.loc[index, \"match_id\"]\n",
    "    \n",
    "# If no red card was given, the stat was not displayed on the page. When added to df --> NAN\n",
    "df_stats = sub_df.fillna(0)\n",
    "\n",
    "df_stats.head(1)"
   ]
  },
  {
   "cell_type": "code",
   "execution_count": 147,
   "metadata": {
    "ExecuteTime": {
     "end_time": "2021-07-24T20:05:40.059414Z",
     "start_time": "2021-07-24T20:05:39.857093Z"
    }
   },
   "outputs": [],
   "source": [
    "# Ronaldo was a forward not midfielder \n",
    "indexes = df_players[df_players.player_name.str.contains(\"ronaldo\")].index\n",
    "df_players.loc[indexes, \"normal_position\"] = \"f\"\n",
    "\n",
    "# Droppping duplicate value\n",
    "df_games.drop(11251, inplace=True)"
   ]
  },
  {
   "cell_type": "code",
   "execution_count": 159,
   "metadata": {
    "ExecuteTime": {
     "end_time": "2021-07-24T20:10:00.166562Z",
     "start_time": "2021-07-24T20:10:00.084885Z"
    }
   },
   "outputs": [],
   "source": [
    "df_players[(df_players.normal_position==\"g\") & (df_players.substitute==0) & (df_players.match_id==147)]\n",
    "\n",
    "df_players.drop([1279, 3170], inplace=True)"
   ]
  },
  {
   "cell_type": "code",
   "execution_count": 160,
   "metadata": {
    "ExecuteTime": {
     "end_time": "2021-07-24T20:10:01.839483Z",
     "start_time": "2021-07-24T20:10:01.795819Z"
    }
   },
   "outputs": [
    {
     "data": {
      "text/html": [
       "<div>\n",
       "<style scoped>\n",
       "    .dataframe tbody tr th:only-of-type {\n",
       "        vertical-align: middle;\n",
       "    }\n",
       "\n",
       "    .dataframe tbody tr th {\n",
       "        vertical-align: top;\n",
       "    }\n",
       "\n",
       "    .dataframe thead th {\n",
       "        text-align: right;\n",
       "    }\n",
       "</style>\n",
       "<table border=\"1\" class=\"dataframe\">\n",
       "  <thead>\n",
       "    <tr style=\"text-align: right;\">\n",
       "      <th></th>\n",
       "      <th>info_loan</th>\n",
       "      <th>substitute</th>\n",
       "      <th>match_id</th>\n",
       "      <th>team_id</th>\n",
       "      <th>captain</th>\n",
       "      <th>full_position</th>\n",
       "      <th>player_number</th>\n",
       "      <th>age</th>\n",
       "      <th>match_position</th>\n",
       "      <th>player_name</th>\n",
       "      <th>player_id</th>\n",
       "      <th>nateam</th>\n",
       "      <th>birth_date</th>\n",
       "      <th>birth_country_isoCode</th>\n",
       "      <th>birth_country</th>\n",
       "      <th>normal_position</th>\n",
       "    </tr>\n",
       "  </thead>\n",
       "  <tbody>\n",
       "    <tr>\n",
       "      <th>969</th>\n",
       "      <td>NaN</td>\n",
       "      <td>0</td>\n",
       "      <td>147</td>\n",
       "      <td>12</td>\n",
       "      <td>False</td>\n",
       "      <td>goalkeeper</td>\n",
       "      <td>NaN</td>\n",
       "      <td>29.001622</td>\n",
       "      <td>g</td>\n",
       "      <td>peter schmeichel</td>\n",
       "      <td>307</td>\n",
       "      <td>denmark</td>\n",
       "      <td>1963-11-18</td>\n",
       "      <td>dk</td>\n",
       "      <td>denmark</td>\n",
       "      <td>g</td>\n",
       "    </tr>\n",
       "    <tr>\n",
       "      <th>3289</th>\n",
       "      <td>NaN</td>\n",
       "      <td>0</td>\n",
       "      <td>147</td>\n",
       "      <td>22</td>\n",
       "      <td>False</td>\n",
       "      <td>goalkeeper</td>\n",
       "      <td>NaN</td>\n",
       "      <td>27.121250</td>\n",
       "      <td>g</td>\n",
       "      <td>hans segers</td>\n",
       "      <td>582</td>\n",
       "      <td>netherlands</td>\n",
       "      <td>1961-10-30</td>\n",
       "      <td>nl</td>\n",
       "      <td>netherlands</td>\n",
       "      <td>g</td>\n",
       "    </tr>\n",
       "  </tbody>\n",
       "</table>\n",
       "</div>"
      ],
      "text/plain": [
       "     info_loan  substitute  match_id  team_id  captain full_position  \\\n",
       "969        NaN           0       147       12    False    goalkeeper   \n",
       "3289       NaN           0       147       22    False    goalkeeper   \n",
       "\n",
       "      player_number        age match_position       player_name  player_id  \\\n",
       "969             NaN  29.001622              g  peter schmeichel        307   \n",
       "3289            NaN  27.121250              g       hans segers        582   \n",
       "\n",
       "           nateam birth_date birth_country_isoCode birth_country  \\\n",
       "969       denmark 1963-11-18                    dk       denmark   \n",
       "3289  netherlands 1961-10-30                    nl   netherlands   \n",
       "\n",
       "     normal_position  \n",
       "969                g  \n",
       "3289               g  "
      ]
     },
     "execution_count": 160,
     "metadata": {},
     "output_type": "execute_result"
    }
   ],
   "source": [
    "df_players[(df_players.normal_position==\"g\") & (df_players.substitute==0) & (df_players.match_id==147)]"
   ]
  },
  {
   "cell_type": "markdown",
   "metadata": {
    "ExecuteTime": {
     "end_time": "2021-07-21T12:46:50.848566Z",
     "start_time": "2021-07-21T12:46:50.732994Z"
    }
   },
   "source": [
    "# Export the dfs"
   ]
  },
  {
   "cell_type": "code",
   "execution_count": 161,
   "metadata": {
    "ExecuteTime": {
     "end_time": "2021-07-24T20:10:05.946159Z",
     "start_time": "2021-07-24T20:10:03.085109Z"
    }
   },
   "outputs": [],
   "source": [
    "df_games.to_csv(\"data/clean_games.csv\", index=False)\n",
    "df_events.to_csv(\"data/clean_events.csv\", index=False)\n",
    "df_players.to_csv(\"data/clean_players.csv\", index=False)\n",
    "df_players_info.to_csv(\"data/clean_players_info.csv\", index=False)\n",
    "df_lineup.to_csv(\"data/clean_lineup.csv\", index=False)\n",
    "df_stats.to_csv(\"data/clean_stats.csv\", index=False)"
   ]
  },
  {
   "cell_type": "code",
   "execution_count": null,
   "metadata": {
    "ExecuteTime": {
     "end_time": "2021-07-23T14:47:05.341578Z",
     "start_time": "2021-07-23T14:47:05.302799Z"
    }
   },
   "outputs": [],
   "source": []
  },
  {
   "cell_type": "code",
   "execution_count": null,
   "metadata": {
    "ExecuteTime": {
     "end_time": "2021-07-23T14:47:06.240621Z",
     "start_time": "2021-07-23T14:47:06.226955Z"
    }
   },
   "outputs": [],
   "source": []
  },
  {
   "cell_type": "code",
   "execution_count": null,
   "metadata": {
    "ExecuteTime": {
     "end_time": "2021-07-21T12:46:50.850477Z",
     "start_time": "2021-07-21T12:46:50.850469Z"
    }
   },
   "outputs": [],
   "source": []
  },
  {
   "cell_type": "code",
   "execution_count": null,
   "metadata": {
    "ExecuteTime": {
     "end_time": "2021-07-21T12:46:50.850941Z",
     "start_time": "2021-07-21T12:46:50.850936Z"
    }
   },
   "outputs": [],
   "source": []
  },
  {
   "cell_type": "code",
   "execution_count": null,
   "metadata": {
    "ExecuteTime": {
     "end_time": "2021-07-21T12:46:50.851423Z",
     "start_time": "2021-07-21T12:46:50.851418Z"
    }
   },
   "outputs": [],
   "source": []
  }
 ],
 "metadata": {
  "interpreter": {
   "hash": "344443636c3027c5042750c9c609acdda283a9c43681b128a8c1053e7ad2aa7d"
  },
  "kernelspec": {
   "display_name": "Python 3 (ipykernel)",
   "language": "python",
   "name": "python3"
  },
  "language_info": {
   "codemirror_mode": {
    "name": "ipython",
    "version": 3
   },
   "file_extension": ".py",
   "mimetype": "text/x-python",
   "name": "python",
   "nbconvert_exporter": "python",
   "pygments_lexer": "ipython3",
   "version": "3.9.6"
  },
  "toc": {
   "base_numbering": 1,
   "nav_menu": {},
   "number_sections": true,
   "sideBar": true,
   "skip_h1_title": false,
   "title_cell": "Table of Contents",
   "title_sidebar": "Contents",
   "toc_cell": false,
   "toc_position": {
    "height": "calc(100% - 180px)",
    "left": "10px",
    "top": "150px",
    "width": "211px"
   },
   "toc_section_display": true,
   "toc_window_display": true
  }
 },
 "nbformat": 4,
 "nbformat_minor": 4
}
